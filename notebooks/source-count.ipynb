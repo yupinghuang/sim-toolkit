{
 "cells": [
  {
   "cell_type": "code",
   "execution_count": 2,
   "id": "3ff93d33-17be-46a8-a34c-6f46ddb78793",
   "metadata": {},
   "outputs": [],
   "source": [
    "from astropy.io import fits\n",
    "from astropy.table import Table\n",
    "import numpy as np"
   ]
  },
  {
   "cell_type": "code",
   "execution_count": 3,
   "id": "92efcfd2-081e-46bd-ac73-ce4802432d2f",
   "metadata": {},
   "outputs": [],
   "source": [
    "t = Table.read('/home/tyrone/catalogs/first/first_14dec17.fits')"
   ]
  },
  {
   "cell_type": "code",
   "execution_count": 4,
   "id": "31af0fea-5603-4976-8f1c-a782a26f0e31",
   "metadata": {},
   "outputs": [],
   "source": [
    "t.sort('FPEAK')"
   ]
  },
  {
   "cell_type": "code",
   "execution_count": 5,
   "id": "2cce07b4-83b5-4adc-bd9b-9550f880e1e0",
   "metadata": {},
   "outputs": [
    {
     "data": {
      "text/html": [
       "<i>Table length=946432</i>\n",
       "<table id=\"table140492877361936\" class=\"table-striped table-bordered table-condensed\">\n",
       "<thead><tr><th>RA</th><th>DEC</th><th>SIDEPROB</th><th>FPEAK</th><th>FINT</th><th>RMS</th><th>MAJOR</th><th>MINOR</th><th>POSANG</th><th>FITTED_MAJOR</th><th>FITTED_MINOR</th><th>FITTED_POSANG</th><th>FLDNAME</th><th>NSDSS</th><th>SDSS_SEP</th><th>SDSS_MAG</th><th>SDSS_CLASS</th><th>NTMASS</th><th>TMASS_SEP</th><th>TMASS_MAG</th><th>YEAR</th><th>MJD</th><th>MJDRMS</th><th>MJDSTART</th><th>MJDSTOP</th></tr></thead>\n",
       "<thead><tr><th>deg</th><th>deg</th><th></th><th>mJy</th><th>mJy</th><th>mJy</th><th>arcsec</th><th>arcsec</th><th>deg</th><th>arcsec</th><th>arcsec</th><th>deg</th><th></th><th></th><th>arcsec</th><th></th><th></th><th></th><th>arcsec</th><th></th><th>year</th><th>day</th><th>day</th><th>day</th><th>day</th></tr></thead>\n",
       "<thead><tr><th>float64</th><th>float64</th><th>float32</th><th>float32</th><th>float32</th><th>float32</th><th>float32</th><th>float32</th><th>float32</th><th>float32</th><th>float32</th><th>float32</th><th>bytes12</th><th>int16</th><th>float32</th><th>float32</th><th>bytes1</th><th>int16</th><th>float32</th><th>float32</th><th>float32</th><th>float64</th><th>float64</th><th>float64</th><th>float64</th></tr></thead>\n",
       "<tr><td>333.6666666927848</td><td>0.825400026583156</td><td>0.20715559</td><td>0.75</td><td>1.545</td><td>0.09991912</td><td>8.51</td><td>3.86</td><td>179.6</td><td>10.65</td><td>6.64</td><td>179.7</td><td>22135+00390Z</td><td>1</td><td>5.252216</td><td>21.643032</td><td>g</td><td>0</td><td>99.0</td><td>99.0</td><td>1999.1396</td><td>2451230.456619179</td><td>1253.046026246994</td><td>2450006.67082176</td><td>2452519.7682870375</td></tr>\n",
       "<tr><td>0.012437499336695503</td><td>-0.35380001038610526</td><td>0.5962816</td><td>0.75</td><td>0.90000004</td><td>0.09546891</td><td>4.78</td><td>0.0</td><td>107.5</td><td>7.32</td><td>5.62</td><td>116.5</td><td>00015-00130Z</td><td>0</td><td>99.0</td><td>99.0</td><td>-</td><td>0</td><td>99.0</td><td>99.0</td><td>1999.2217</td><td>2451260.4060486015</td><td>1229.4026337510832</td><td>2450020.706296297</td><td>2452490.917581019</td></tr>\n",
       "<tr><td>46.17760782741932</td><td>-0.25419167982095986</td><td>0.5489741</td><td>0.75</td><td>1.485</td><td>0.093655266</td><td>10.32</td><td>1.86</td><td>3.0</td><td>12.14</td><td>5.71</td><td>2.7</td><td>03045-00130Z</td><td>0</td><td>99.0</td><td>99.0</td><td>-</td><td>0</td><td>99.0</td><td>99.0</td><td>1999.2114</td><td>2451256.6491484502</td><td>1226.7463087586423</td><td>2450029.820532408</td><td>2452491.0434027785</td></tr>\n",
       "<tr><td>27.651995241587233</td><td>0.43126388048629083</td><td>0.38272414</td><td>0.75</td><td>1.245</td><td>0.09659582</td><td>9.55</td><td>0.0</td><td>24.9</td><td>11.41</td><td>5.03</td><td>22.4</td><td>01495+00130Z</td><td>1</td><td>0.34983838</td><td>19.21206</td><td>g</td><td>0</td><td>99.0</td><td>99.0</td><td>1999.2003</td><td>2451252.6247124937</td><td>1236.6946654756289</td><td>2450013.810243056</td><td>2452491.9914351855</td></tr>\n",
       "<tr><td>340.1385492615806</td><td>0.2648694532886583</td><td>0.22480416</td><td>0.75</td><td>0.63</td><td>0.09489256</td><td>2.13</td><td>0.0</td><td>102.0</td><td>5.9</td><td>4.93</td><td>115.6</td><td>22405+00130Z</td><td>2</td><td>0.51279116</td><td>23.338993</td><td>g</td><td>0</td><td>99.0</td><td>99.0</td><td>1999.1888</td><td>2451248.4054484623</td><td>1228.9238093084657</td><td>2450013.669618056</td><td>2452491.863657408</td></tr>\n",
       "<tr><td>38.23383486041145</td><td>0.4165166749750135</td><td>0.39199954</td><td>0.75</td><td>0.855</td><td>0.09569744</td><td>3.77</td><td>0.0</td><td>110.7</td><td>6.8</td><td>5.85</td><td>131.0</td><td>02315+00390Z</td><td>0</td><td>99.0</td><td>99.0</td><td>-</td><td>0</td><td>99.0</td><td>99.0</td><td>1999.2012</td><td>2451252.927881945</td><td>1237.0961226851214</td><td>2450015.83175926</td><td>2452490.025810186</td></tr>\n",
       "<tr><td>19.927966535651596</td><td>-0.1387833341170031</td><td>0.2544631</td><td>0.75</td><td>1.11</td><td>0.096313745</td><td>5.84</td><td>0.88</td><td>88.8</td><td>7.96</td><td>6.46</td><td>88.1</td><td>01195-00130Z</td><td>1</td><td>1.5199947</td><td>19.160929</td><td>g</td><td>0</td><td>99.0</td><td>99.0</td><td>1999.208</td><td>2451255.444475355</td><td>1226.7619637554446</td><td>2450019.7662500003</td><td>2452482.994733797</td></tr>\n",
       "<tr><td>34.11174056422788</td><td>0.14236666213096072</td><td>0.48577008</td><td>0.75</td><td>1.905</td><td>0.096187085</td><td>9.79</td><td>4.57</td><td>101.6</td><td>11.21</td><td>7.83</td><td>103.7</td><td>02165+00130Z</td><td>1</td><td>7.47289</td><td>19.820337</td><td>s</td><td>0</td><td>99.0</td><td>99.0</td><td>1999.2788</td><td>2451281.2582692197</td><td>1270.4902475304864</td><td>2450019.8113888893</td><td>2454927.3628356485</td></tr>\n",
       "<tr><td>344.9993336391429</td><td>-0.011972221881204807</td><td>0.3842615</td><td>0.75</td><td>0.99</td><td>0.09539303</td><td>7.17</td><td>0.0</td><td>17.9</td><td>9.56</td><td>4.8</td><td>15.0</td><td>23015+00130Z</td><td>1</td><td>7.411709</td><td>16.969488</td><td>g</td><td>1</td><td>7.4900656</td><td>14.63</td><td>1999.1871</td><td>2451247.790734954</td><td>1227.1285243055318</td><td>2450020.662210649</td><td>2452474.9210532415</td></tr>\n",
       "<tr><td>...</td><td>...</td><td>...</td><td>...</td><td>...</td><td>...</td><td>...</td><td>...</td><td>...</td><td>...</td><td>...</td><td>...</td><td>...</td><td>...</td><td>...</td><td>...</td><td>...</td><td>...</td><td>...</td><td>...</td><td>...</td><td>...</td><td>...</td><td>...</td><td>...</td></tr>\n",
       "<tr><td>338.15162503390906</td><td>11.730800380625418</td><td>0.031924523</td><td>6710.81</td><td>6867.4766</td><td>1.0975044</td><td>1.18</td><td>0.51</td><td>144.9</td><td>6.48</td><td>5.46</td><td>177.5</td><td>22315+11332W</td><td>1</td><td>0.31696638</td><td>16.512821</td><td>s</td><td>1</td><td>0.2958166</td><td>13.765</td><td>2011.2781</td><td>2455664.0124475723</td><td>14.17055946613578</td><td>2455626.283611112</td><td>2455675.161435186</td></tr>\n",
       "<tr><td>202.65705752467494</td><td>25.15302026957633</td><td>0.014053002</td><td>6826.38</td><td>6999.016</td><td>1.2135386</td><td>0.93</td><td>0.78</td><td>120.9</td><td>5.48</td><td>5.46</td><td>120.9</td><td>13300+25099E</td><td>2</td><td>0.08588798</td><td>17.92363</td><td>s</td><td>2</td><td>0.24862318</td><td>15.498</td><td>1995.9263</td><td>2450056.6042332915</td><td>2.5020994864476624</td><td>2450050.15462963</td><td>2450059.1321759266</td></tr>\n",
       "<tr><td>336.4470044774652</td><td>-4.950372126923971</td><td>0.014053002</td><td>7275.56</td><td>7467.786</td><td>0.83345497</td><td>1.28</td><td>0.6</td><td>168.1</td><td>6.52</td><td>5.44</td><td>178.8</td><td>22255-04595W</td><td>1</td><td>0.3350175</td><td>17.23701</td><td>s</td><td>1</td><td>0.36121804</td><td>13.609</td><td>2011.1938</td><td>2455633.2611589897</td><td>0.00017345814831977723</td><td>2455633.2604861115</td><td>2455633.261921297</td></tr>\n",
       "<tr><td>123.40015347040661</td><td>48.21716037019308</td><td>0.03338544</td><td>7709.03</td><td>14639.284</td><td>1.1817958</td><td>7.2</td><td>2.95</td><td>40.6</td><td>9.0</td><td>6.15</td><td>40.6</td><td>08150+48304N</td><td>2</td><td>0.8950313</td><td>17.656786</td><td>s</td><td>1</td><td>1.0184531</td><td>14.845</td><td>1997.6733</td><td>2450695.2634822107</td><td>586.6441753758548</td><td>2450543.5965856486</td><td>2453001.915671297</td></tr>\n",
       "<tr><td>128.72879385328375</td><td>55.57250571001518</td><td>0.014053002</td><td>8073.89</td><td>8240.476</td><td>0.8170293</td><td>0.85</td><td>0.69</td><td>76.6</td><td>5.47</td><td>5.44</td><td>76.6</td><td>08360+55553N</td><td>3</td><td>0.1348491</td><td>16.538216</td><td>g</td><td>1</td><td>0.43264422</td><td>14.18</td><td>1997.6764</td><td>2450696.370973474</td><td>188.62570208775423</td><td>2450586.4762152783</td><td>2451020.2660763892</td></tr>\n",
       "<tr><td>194.04651124560667</td><td>-5.789366524472126</td><td>0.014053002</td><td>9708.04</td><td>10641.534</td><td>1.256131</td><td>2.35</td><td>1.29</td><td>10.5</td><td>6.81</td><td>5.56</td><td>2.6</td><td>12570-05386N</td><td>-1</td><td>99.0</td><td>99.0</td><td>-</td><td>1</td><td>0.24335542</td><td>10.941</td><td>2001.309</td><td>2452023.2685780986</td><td>2.4914475948471564</td><td>2452019.722858797</td><td>2452026.787604167</td></tr>\n",
       "<tr><td>187.27425574013395</td><td>2.048238835850716</td><td>0.034154218</td><td>13133.77</td><td>16369.103</td><td>6.192637</td><td>3.88</td><td>1.65</td><td>43.2</td><td>7.26</td><td>5.93</td><td>22.2</td><td>12300+02100N</td><td>3</td><td>0.36981434</td><td>21.16637</td><td>g</td><td>0</td><td>99.0</td><td>99.0</td><td>1998.6187</td><td>2451040.307864307</td><td>225.0354243032702</td><td>2451011.4925231487</td><td>2453002.0957638896</td></tr>\n",
       "<tr><td>212.8358015767998</td><td>52.20263722259804</td><td>0.031924523</td><td>14632.9</td><td>22176.86</td><td>1.9223692</td><td>5.93</td><td>1.11</td><td>136.5</td><td>8.02</td><td>5.51</td><td>136.5</td><td>14120+52196N</td><td>2</td><td>0.73049754</td><td>17.839062</td><td>g</td><td>1</td><td>1.1347165</td><td>15.367</td><td>2000.2155</td><td>2451623.3750222223</td><td>1175.8561926325024</td><td>2450571.7610416673</td><td>2452939.34113426</td></tr>\n",
       "<tr><td>202.78452251496572</td><td>30.50915387141007</td><td>0.031924523</td><td>14774.42</td><td>15025.794</td><td>1.767874</td><td>0.86</td><td>0.5</td><td>94.3</td><td>5.47</td><td>5.42</td><td>94.3</td><td>13300+30456N</td><td>1</td><td>0.14148572</td><td>17.216633</td><td>s</td><td>1</td><td>0.15992163</td><td>14.634</td><td>1993.7424</td><td>2449259.4810393546</td><td>746.6030811518964</td><td>2449090.851840278</td><td>2452939.4069907414</td></tr>\n",
       "<tr><td>187.27806698569083</td><td>2.0524805967687056</td><td>0.034154218</td><td>35558.44</td><td>36983.34</td><td>6.195697</td><td>1.39</td><td>0.9</td><td>132.4</td><td>6.5</td><td>5.53</td><td>177.3</td><td>12300+02100N</td><td>1</td><td>0.60717785</td><td>12.632909</td><td>s</td><td>1</td><td>0.69823694</td><td>9.976</td><td>1998.6171</td><td>2451039.7223186004</td><td>222.67744159971645</td><td>2451011.4925231487</td><td>2453002.0957638896</td></tr>\n",
       "</table>"
      ],
      "text/plain": [
       "<Table length=946432>\n",
       "         RA                   DEC          ...      MJDSTOP      \n",
       "        deg                   deg          ...        day        \n",
       "      float64               float64        ...      float64      \n",
       "-------------------- --------------------- ... ------------------\n",
       "   333.6666666927848     0.825400026583156 ... 2452519.7682870375\n",
       "0.012437499336695503  -0.35380001038610526 ...  2452490.917581019\n",
       "   46.17760782741932  -0.25419167982095986 ... 2452491.0434027785\n",
       "  27.651995241587233   0.43126388048629083 ... 2452491.9914351855\n",
       "   340.1385492615806    0.2648694532886583 ...  2452491.863657408\n",
       "   38.23383486041145    0.4165166749750135 ...  2452490.025810186\n",
       "  19.927966535651596   -0.1387833341170031 ...  2452482.994733797\n",
       "   34.11174056422788   0.14236666213096072 ... 2454927.3628356485\n",
       "   344.9993336391429 -0.011972221881204807 ... 2452474.9210532415\n",
       "                 ...                   ... ...                ...\n",
       "  338.15162503390906    11.730800380625418 ...  2455675.161435186\n",
       "  202.65705752467494     25.15302026957633 ... 2450059.1321759266\n",
       "   336.4470044774652    -4.950372126923971 ...  2455633.261921297\n",
       "  123.40015347040661     48.21716037019308 ...  2453001.915671297\n",
       "  128.72879385328375     55.57250571001518 ... 2451020.2660763892\n",
       "  194.04651124560667    -5.789366524472126 ...  2452026.787604167\n",
       "  187.27425574013395     2.048238835850716 ... 2453002.0957638896\n",
       "   212.8358015767998     52.20263722259804 ...   2452939.34113426\n",
       "  202.78452251496572     30.50915387141007 ... 2452939.4069907414\n",
       "  187.27806698569083    2.0524805967687056 ... 2453002.0957638896"
      ]
     },
     "execution_count": 5,
     "metadata": {},
     "output_type": "execute_result"
    }
   ],
   "source": [
    "t"
   ]
  },
  {
   "cell_type": "markdown",
   "id": "c4b52454-09d3-4bd4-bdd1-644e4cf894f2",
   "metadata": {},
   "source": [
    "brightest seems to be Vir A, then 3C 286, 3C 295, and then the other component of Vir A, then 3C 279."
   ]
  },
  {
   "cell_type": "code",
   "execution_count": 6,
   "id": "4d6cbed7-8658-4f21-8109-ff573dec4d0f",
   "metadata": {},
   "outputs": [
    {
     "data": {
      "text/plain": [
       "0.29770212765957443"
      ]
     },
     "execution_count": 6,
     "metadata": {},
     "output_type": "execute_result"
    }
   ],
   "source": [
    "np.sum(t['FPEAK'] > 1000)/10575*10.6"
   ]
  },
  {
   "cell_type": "code",
   "execution_count": 8,
   "id": "3d52b7c7-412e-4923-92de-e6e447de1cd2",
   "metadata": {},
   "outputs": [
    {
     "data": {
      "text/plain": [
       "0.9382127659574467"
      ]
     },
     "execution_count": 8,
     "metadata": {},
     "output_type": "execute_result"
    }
   ],
   "source": [
    "np.sum(t['FPEAK'] > 500)/10575*10.6"
   ]
  },
  {
   "cell_type": "code",
   "execution_count": 7,
   "id": "f4c11027-7b54-4e16-bee1-d3ee2ecb5a2c",
   "metadata": {},
   "outputs": [
    {
     "data": {
      "text/plain": [
       "0.38486997635933806"
      ]
     },
     "execution_count": 7,
     "metadata": {},
     "output_type": "execute_result"
    }
   ],
   "source": [
    "np.sum(t['FINT'] > 1000)/10575*10"
   ]
  },
  {
   "cell_type": "markdown",
   "id": "c426c987-a144-4228-adfc-521497499315",
   "metadata": {},
   "source": [
    "Here's from reading off the FIRST source count paper"
   ]
  },
  {
   "cell_type": "code",
   "execution_count": 21,
   "id": "a9364b89-b436-4de3-b3a7-7947add6c853",
   "metadata": {},
   "outputs": [
    {
     "data": {
      "text/plain": [
       "0.9299360591248639"
      ]
     },
     "execution_count": 21,
     "metadata": {},
     "output_type": "execute_result"
    }
   ],
   "source": [
    "288 / ((180/np.pi)**2) * 10.6"
   ]
  },
  {
   "cell_type": "code",
   "execution_count": 20,
   "id": "6e462c56-3d7a-4dd7-af1b-9ea60c1fb306",
   "metadata": {},
   "outputs": [
    {
     "data": {
      "text/plain": [
       "3282.806350011744"
      ]
     },
     "execution_count": 20,
     "metadata": {},
     "output_type": "execute_result"
    }
   ],
   "source": [
    "((180/np.pi)**2)"
   ]
  },
  {
   "cell_type": "markdown",
   "id": "0e072937-87b5-4bd1-9044-1412e4176a06",
   "metadata": {},
   "source": [
    "I think the factor of a few difference is due to the bin size? The numbers from the catalog is probably correct. **i.e. ~1 500mJy source per 10.6 sq deg field.**"
   ]
  },
  {
   "cell_type": "markdown",
   "id": "6ca5dbf3-0819-4a77-8e6a-e903c2ec4a6e",
   "metadata": {},
   "source": [
    "The data give the count of trials in which the maximum brightness falls in the Jy/beam bin, not the actual source count. This probably explains why the count for low Jy/beam bins decreases with larger boresight angle (since there is more area). The sub-linear growth of the count for bright sources with area may make sense in that the probability of finding a bright source in a given area is given by 1-exp(-r) where r is the number of sources with the desired flux density. The derivative is suppressed for large r.\n",
    "\n",
    "Tyrone dropped 10000 random fields over the FIRST survey. And for each trial field, he increment the count in flux density bin and (differential) radius bin if the brightest source in that differential ring falls in the flux density bin.\n",
    "\n",
    "We probably need to sort out how you would use this table unless it's already obvious to you. I was thinking we 'd take a few radius, aggregate the data across radius bin < that radius and maybe do some smoothing, so that we end up with something like \"within 2 degrees, 1% of the time the brightest source is <=x Jy and 50% of the time the brightest source is <=y Jy\".\n",
    "\n",
    "This setup, combined with the differential bin count is actually kind of problematic since I forgot that I can't integrate a max function, so the cumulative version is not convertable form the differential version. All the data tells is the number of fields in which the brightest source in each ring is x Jy; summing across area doesn't make sense. I can't go from that to characterizing fields.\n",
    "\n"
   ]
  },
  {
   "cell_type": "code",
   "execution_count": null,
   "id": "fb5dccf8-7b5d-4a83-a11f-9c2a9f636493",
   "metadata": {},
   "outputs": [],
   "source": []
  }
 ],
 "metadata": {
  "kernelspec": {
   "display_name": "astro",
   "language": "python",
   "name": "astro"
  },
  "language_info": {
   "codemirror_mode": {
    "name": "ipython",
    "version": 3
   },
   "file_extension": ".py",
   "mimetype": "text/x-python",
   "name": "python",
   "nbconvert_exporter": "python",
   "pygments_lexer": "ipython3",
   "version": "3.8.8"
  }
 },
 "nbformat": 4,
 "nbformat_minor": 5
}
