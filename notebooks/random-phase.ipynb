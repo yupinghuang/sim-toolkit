{
 "cells": [
  {
   "cell_type": "code",
   "execution_count": 1,
   "id": "0ad52987-f597-4a07-966c-da15e775ff20",
   "metadata": {},
   "outputs": [],
   "source": [
    "import numpy as np"
   ]
  },
  {
   "cell_type": "code",
   "execution_count": 2,
   "id": "785c5119-1877-4fce-8d20-ff2fb96382c1",
   "metadata": {},
   "outputs": [
    {
     "data": {
      "text/plain": [
       "0.40334182635953436"
      ]
     },
     "execution_count": 2,
     "metadata": {},
     "output_type": "execute_result"
    }
   ],
   "source": [
    "0.366268*np.sqrt(162.5/134)"
   ]
  },
  {
   "cell_type": "code",
   "execution_count": 2,
   "id": "5e32b24f-70b9-4c07-9a28-01914aba13de",
   "metadata": {},
   "outputs": [],
   "source": [
    "from numpy import random\n",
    "rng = random.default_rng(seed=47)"
   ]
  },
  {
   "cell_type": "code",
   "execution_count": 23,
   "id": "ef4a09ee-1d90-4eab-b744-cdd930da94ad",
   "metadata": {},
   "outputs": [],
   "source": [
    "gains = np.exp(2*np.pi * 1j * rng.normal(scale=5.0/360, size=(2048, 64, 2)))[:, :, :, None] * np.identity(2)[None, :, :]"
   ]
  },
  {
   "cell_type": "code",
   "execution_count": 18,
   "id": "316c0a45-d26e-440e-9aba-4f060c2506db",
   "metadata": {},
   "outputs": [
    {
     "data": {
      "text/plain": [
       "array([[[0.99980048+0.01997523j, 0.        +0.j        ],\n",
       "        [0.        +0.j        , 0.99782392-0.06593503j]],\n",
       "\n",
       "       [[0.9978136 -0.06609099j, 0.        +0.j        ],\n",
       "        [0.        +0.j        , 0.99298184+0.11826694j]],\n",
       "\n",
       "       [[0.99920634-0.03983323j, 0.        +0.j        ],\n",
       "        [0.        +0.j        , 0.98868968+0.1499757j ]],\n",
       "\n",
       "       ...,\n",
       "\n",
       "       [[0.99997781+0.00666107j, 0.        +0.j        ],\n",
       "        [0.        +0.j        , 0.99604266+0.08887643j]],\n",
       "\n",
       "       [[0.99636373+0.08520168j, 0.        +0.j        ],\n",
       "        [0.        +0.j        , 0.99884109-0.04812974j]],\n",
       "\n",
       "       [[0.99896518+0.04548156j, 0.        +0.j        ],\n",
       "        [0.        +0.j        , 0.99546414+0.09513748j]]])"
      ]
     },
     "execution_count": 18,
     "metadata": {},
     "output_type": "execute_result"
    }
   ],
   "source": [
    "gains"
   ]
  },
  {
   "cell_type": "code",
   "execution_count": 24,
   "id": "d378d9c8-7dfe-454d-aac1-0ae1b4c74d18",
   "metadata": {},
   "outputs": [],
   "source": [
    "gains = gains[None, :]"
   ]
  },
  {
   "cell_type": "code",
   "execution_count": 25,
   "id": "e668fd51-2809-4f67-a119-f0a27aec5d3a",
   "metadata": {},
   "outputs": [
    {
     "data": {
      "text/plain": [
       "(1, 2048, 64, 2, 2)"
      ]
     },
     "execution_count": 25,
     "metadata": {},
     "output_type": "execute_result"
    }
   ],
   "source": [
    "gains.shape"
   ]
  },
  {
   "cell_type": "code",
   "execution_count": 26,
   "id": "1d1774b4-e3db-4010-a1d6-56cac161343f",
   "metadata": {},
   "outputs": [
    {
     "data": {
      "text/plain": [
       "3.536950957973408"
      ]
     },
     "execution_count": 26,
     "metadata": {},
     "output_type": "execute_result"
    }
   ],
   "source": [
    "np.std(np.angle(gains, deg=True))"
   ]
  },
  {
   "cell_type": "code",
   "execution_count": 29,
   "id": "7e63b406-9e4f-4bf9-b098-667d1b412838",
   "metadata": {},
   "outputs": [
    {
     "name": "stdout",
     "output_type": "stream",
     "text": [
      "2096128\n",
      "[########################################] | 100% Completed |  1min 15.7s\n"
     ]
    }
   ],
   "source": [
    "import dftsource\n",
    "dftsource.point_src_with_gain(gains, '/fastpool/data/W-snapshot-64chan-5deg.ms', rms=0.40334)"
   ]
  },
  {
   "cell_type": "code",
   "execution_count": 35,
   "id": "a804584d-7862-4e52-9e15-a93073509c3d",
   "metadata": {},
   "outputs": [],
   "source": [
    "gains_per_spw = np.exp(2*np.pi * 1j * rng.normal(scale=5.0/360, size=(2048, 1, 2))).reshape(2048, 1, 2, 1) * np.ones((2048, 64, 2, 1))* np.identity(2)[None, :]"
   ]
  },
  {
   "cell_type": "code",
   "execution_count": 36,
   "id": "21b9a19f-6ac8-4e17-8682-9a1ae8f044f9",
   "metadata": {},
   "outputs": [
    {
     "data": {
      "text/plain": [
       "(2048, 64, 2, 2)"
      ]
     },
     "execution_count": 36,
     "metadata": {},
     "output_type": "execute_result"
    }
   ],
   "source": [
    "gains_per_spw.shape"
   ]
  },
  {
   "cell_type": "code",
   "execution_count": 37,
   "id": "694e05c2-8823-4c49-9a06-75131f64e23f",
   "metadata": {},
   "outputs": [
    {
     "name": "stdout",
     "output_type": "stream",
     "text": [
      "2096128\n",
      "[########################################] | 100% Completed |  1min 11.1s\n"
     ]
    }
   ],
   "source": [
    "dftsource.point_src_with_gain(gains_per_spw[None, :], '/fastpool/data/W-snapshot-64chan-5deg-per-spw.ms', rms=0.40334)"
   ]
  },
  {
   "cell_type": "code",
   "execution_count": 39,
   "id": "01c2e4e4-5dbb-4852-b1ea-5286b2010db2",
   "metadata": {},
   "outputs": [],
   "source": [
    "np.save('gains_per_spw.npy', gains_per_spw)"
   ]
  },
  {
   "cell_type": "code",
   "execution_count": 40,
   "id": "bd1a3884-94d8-4feb-a950-1dc3a41a88ea",
   "metadata": {},
   "outputs": [],
   "source": [
    "from casacore.tables import table"
   ]
  },
  {
   "cell_type": "code",
   "execution_count": 41,
   "id": "4274bd54-3974-4a0b-a5bb-115a31d33ac8",
   "metadata": {},
   "outputs": [
    {
     "name": "stdout",
     "output_type": "stream",
     "text": [
      "Successful readonly open of default-locked table /fastpool/data/W-snapshot-64chan-5deg-per-spw.g0: 13 columns, 2048 rows\n"
     ]
    }
   ],
   "source": [
    "gaintable = table('/fastpool/data/W-snapshot-64chan-5deg-per-spw.g0')\n",
    "solved = gaintable.getcol('CPARAM')"
   ]
  },
  {
   "cell_type": "code",
   "execution_count": 42,
   "id": "95e60420-7b6c-4a15-8dac-cfe471b85f66",
   "metadata": {},
   "outputs": [
    {
     "data": {
      "text/plain": [
       "(2048, 1, 2)"
      ]
     },
     "execution_count": 42,
     "metadata": {},
     "output_type": "execute_result"
    }
   ],
   "source": [
    "solved.shape"
   ]
  },
  {
   "cell_type": "code",
   "execution_count": 49,
   "id": "52986aa3-20d7-4792-9b49-d2f141df027a",
   "metadata": {},
   "outputs": [],
   "source": [
    "ans = gains_per_spw[:, 0, 0, 0] / gains_per_spw[0, 0, 0, 0]"
   ]
  },
  {
   "cell_type": "code",
   "execution_count": 50,
   "id": "068a1096-4500-4e58-8365-9fe6d9682b8b",
   "metadata": {},
   "outputs": [
    {
     "data": {
      "text/plain": [
       "array([1.0020133 +0.j        , 0.99749804+0.06783912j,\n",
       "       0.99638706+0.07714681j, ..., 0.9983347 +0.0866654j ,\n",
       "       0.98961204-0.15110749j, 1.0004072 -0.04649942j], dtype=complex64)"
      ]
     },
     "execution_count": 50,
     "metadata": {},
     "output_type": "execute_result"
    }
   ],
   "source": [
    "solved[:,0,0]"
   ]
  },
  {
   "cell_type": "code",
   "execution_count": 51,
   "id": "6e56af4e-3619-482d-9c0f-362220ec735b",
   "metadata": {},
   "outputs": [
    {
     "data": {
      "text/plain": [
       "array([1.        +0.j        , 0.99778962+0.06645205j,\n",
       "       0.99688869+0.07882216j, ..., 0.99622978+0.08675379j,\n",
       "       0.98853738-0.1509763j , 0.99896839-0.04541103j])"
      ]
     },
     "execution_count": 51,
     "metadata": {},
     "output_type": "execute_result"
    }
   ],
   "source": [
    "ans"
   ]
  },
  {
   "cell_type": "code",
   "execution_count": 56,
   "id": "354dec70-bd3b-41dd-af54-45961fe3b458",
   "metadata": {},
   "outputs": [
    {
     "data": {
      "text/plain": [
       "0.06421026189794102"
      ]
     },
     "execution_count": 56,
     "metadata": {},
     "output_type": "execute_result"
    }
   ],
   "source": [
    "np.angle(ans/solved[:,0,0], deg=True).std()"
   ]
  },
  {
   "cell_type": "code",
   "execution_count": 57,
   "id": "a9ead266-fe19-4c5b-8ff4-ff13eb934d51",
   "metadata": {},
   "outputs": [
    {
     "data": {
      "text/plain": [
       "0.0011206804836869338"
      ]
     },
     "execution_count": 57,
     "metadata": {},
     "output_type": "execute_result"
    }
   ],
   "source": [
    "np.angle(ans/solved[:,0,0]).std()"
   ]
  },
  {
   "cell_type": "code",
   "execution_count": 61,
   "id": "c350787a-0e07-480b-b58b-de07e80c5add",
   "metadata": {},
   "outputs": [
    {
     "data": {
      "text/plain": [
       "0.0011206804552470835"
      ]
     },
     "execution_count": 61,
     "metadata": {},
     "output_type": "execute_result"
    }
   ],
   "source": [
    "(np.angle(ans) - np.angle(solved[:,0,0])).std()"
   ]
  },
  {
   "cell_type": "markdown",
   "id": "14a29205-f770-4b2f-9e75-356ec88f05aa",
   "metadata": {},
   "source": [
    "Noise equivalent integration time?\n",
    "\n",
    "integrations"
   ]
  },
  {
   "cell_type": "code",
   "execution_count": 64,
   "id": "f57a830b-d7c4-43a2-a77f-19e9e4117211",
   "metadata": {},
   "outputs": [
    {
     "data": {
      "text/plain": [
       "0.00625"
      ]
     },
     "execution_count": 64,
     "metadata": {},
     "output_type": "execute_result"
    }
   ],
   "source": [
    "3/np.sqrt(64)/(90/1.5)"
   ]
  },
  {
   "cell_type": "markdown",
   "id": "e23d123e-5ee0-48cb-a92d-7d0eb5979a58",
   "metadata": {},
   "source": [
    "# ms with a single pol"
   ]
  },
  {
   "cell_type": "code",
   "execution_count": 3,
   "id": "4dea11dc-3253-41bd-964e-5c1386ecc6b0",
   "metadata": {},
   "outputs": [
    {
     "data": {
      "text/plain": [
       "(2048, 1, 1)"
      ]
     },
     "execution_count": 3,
     "metadata": {},
     "output_type": "execute_result"
    }
   ],
   "source": [
    "rng = random.default_rng(seed=47)\n",
    "gains_per_spw2 = np.exp(2*np.pi * 1j * rng.normal(scale=5.0/360, size=(2048, 1)))\n",
    "gains_per_spw2.shape"
   ]
  },
  {
   "cell_type": "code",
   "execution_count": 4,
   "id": "7bd541bf-a467-412a-9dbe-a786c1d6d3c9",
   "metadata": {},
   "outputs": [
    {
     "data": {
      "text/plain": [
       "array([[[0.99830932-0.05812482j]],\n",
       "\n",
       "       [[0.99996384+0.0085041j ]],\n",
       "\n",
       "       [[0.98629069-0.16501721j]],\n",
       "\n",
       "       ...,\n",
       "\n",
       "       [[0.9977558 -0.06695798j]],\n",
       "\n",
       "       [[0.9833323 +0.18181744j]],\n",
       "\n",
       "       [[0.99986322-0.01653913j]]])"
      ]
     },
     "execution_count": 4,
     "metadata": {},
     "output_type": "execute_result"
    }
   ],
   "source": [
    "gains_per_spw2"
   ]
  },
  {
   "cell_type": "code",
   "execution_count": 12,
   "id": "fa7c1e48-4c7c-4813-8ced-bb842f1493b3",
   "metadata": {},
   "outputs": [],
   "source": [
    "gains_per_spw2 = np.tile(gains_per_spw2, (40, 1, 1, 1))"
   ]
  },
  {
   "cell_type": "code",
   "execution_count": 13,
   "id": "e711ec80-8319-4694-89ef-bdea11a5f7fe",
   "metadata": {},
   "outputs": [
    {
     "name": "stdout",
     "output_type": "stream",
     "text": [
      "Warning: ecCodes 2.21.0 or higher is recommended. You are running version 2.18.0\n",
      "83845120\n",
      "83845120\n",
      "dask.array<lambda, shape=(83845120,), dtype=int32, chunksize=(2000,), chunktype=numpy.ndarray>\n"
     ]
    },
    {
     "ename": "ValueError",
     "evalue": "One of the following pre-conditions is broken (missing values are ignored):\ndde_jones{1,2}.ndim == source_coh.ndim + 1\ndde_jones{1,2}.ndim == base_vis.ndim + 2\ndde_jones{1,2}.ndim == die_jones{1,2}.ndim + 1",
     "output_type": "error",
     "traceback": [
      "\u001b[0;31m---------------------------------------------------------------------------\u001b[0m",
      "\u001b[0;31mValueError\u001b[0m                                Traceback (most recent call last)",
      "Input \u001b[0;32mIn [13]\u001b[0m, in \u001b[0;36m<cell line: 17>\u001b[0;34m()\u001b[0m\n\u001b[1;32m     28\u001b[0m \u001b[38;5;28mprint\u001b[39m(\u001b[38;5;28mlen\u001b[39m(time_idx))\n\u001b[1;32m     29\u001b[0m \u001b[38;5;28mprint\u001b[39m(time_idx)\n\u001b[0;32m---> 30\u001b[0m vis \u001b[38;5;241m=\u001b[39m \u001b[43mpredict_vis\u001b[49m\u001b[43m(\u001b[49m\u001b[43mtime_index\u001b[49m\u001b[38;5;241;43m=\u001b[39;49m\u001b[43mtime_idx\u001b[49m\u001b[43m,\u001b[49m\n\u001b[1;32m     31\u001b[0m \u001b[43m                  \u001b[49m\u001b[43mantenna1\u001b[49m\u001b[38;5;241;43m=\u001b[39;49m\u001b[43mxds\u001b[49m\u001b[38;5;241;43m.\u001b[39;49m\u001b[43mANTENNA1\u001b[49m\u001b[38;5;241;43m.\u001b[39;49m\u001b[43mdata\u001b[49m\u001b[43m,\u001b[49m\n\u001b[1;32m     32\u001b[0m \u001b[43m                  \u001b[49m\u001b[43mantenna2\u001b[49m\u001b[38;5;241;43m=\u001b[39;49m\u001b[43mxds\u001b[49m\u001b[38;5;241;43m.\u001b[39;49m\u001b[43mANTENNA2\u001b[49m\u001b[38;5;241;43m.\u001b[39;49m\u001b[43mdata\u001b[49m\u001b[43m,\u001b[49m\n\u001b[1;32m     33\u001b[0m \u001b[43m                  \u001b[49m\u001b[43mdie1_jones\u001b[49m\u001b[38;5;241;43m=\u001b[39;49m\u001b[43mgains_per_spw2\u001b[49m\u001b[43m,\u001b[49m\n\u001b[1;32m     34\u001b[0m \u001b[43m                  \u001b[49m\u001b[43mdie2_jones\u001b[49m\u001b[38;5;241;43m=\u001b[39;49m\u001b[43mgains_per_spw2\u001b[49m\u001b[43m,\u001b[49m\n\u001b[1;32m     35\u001b[0m \u001b[43m                  \u001b[49m\u001b[43msource_coh\u001b[49m\u001b[38;5;241;43m=\u001b[39;49m\u001b[43msrc_coh\u001b[49m\u001b[43m[\u001b[49m\u001b[38;5;28;43;01mNone\u001b[39;49;00m\u001b[43m,\u001b[49m\u001b[43m \u001b[49m\u001b[43m:\u001b[49m\u001b[43m,\u001b[49m\u001b[43m \u001b[49m\u001b[43m:\u001b[49m\u001b[43m,\u001b[49m\u001b[43m \u001b[49m\u001b[43m:\u001b[49m\u001b[43m,\u001b[49m\u001b[43m \u001b[49m\u001b[38;5;28;43;01mNone\u001b[39;49;00m\u001b[43m]\u001b[49m\u001b[43m \u001b[49m\u001b[38;5;241;43m*\u001b[39;49m\u001b[43m \u001b[49m\u001b[43mda\u001b[49m\u001b[38;5;241;43m.\u001b[39;49m\u001b[43marray\u001b[49m\u001b[43m(\u001b[49m\u001b[43m[\u001b[49m\u001b[43m[\u001b[49m\u001b[38;5;241;43m1.\u001b[39;49m\u001b[43m]\u001b[49m\u001b[43m]\u001b[49m\u001b[43m)\u001b[49m\u001b[43m)\u001b[49m\n\u001b[1;32m     36\u001b[0m \u001b[38;5;28;01mif\u001b[39;00m rms:\n\u001b[1;32m     37\u001b[0m     vis \u001b[38;5;241m=\u001b[39m vis \u001b[38;5;241m+\u001b[39m (da\u001b[38;5;241m.\u001b[39mrandom\u001b[38;5;241m.\u001b[39mnormal(loc\u001b[38;5;241m=\u001b[39m\u001b[38;5;241m0.\u001b[39m, scale\u001b[38;5;241m=\u001b[39mrms, size\u001b[38;5;241m=\u001b[39mvis\u001b[38;5;241m.\u001b[39mshape, chunks\u001b[38;5;241m=\u001b[39mvis\u001b[38;5;241m.\u001b[39mchunks) \u001b[38;5;241m+\u001b[39m\n\u001b[1;32m     38\u001b[0m                  \u001b[38;5;241m1\u001b[39mj \u001b[38;5;241m*\u001b[39m da\u001b[38;5;241m.\u001b[39mrandom\u001b[38;5;241m.\u001b[39mnormal(loc\u001b[38;5;241m=\u001b[39m\u001b[38;5;241m0.\u001b[39m, scale\u001b[38;5;241m=\u001b[39mrms, size\u001b[38;5;241m=\u001b[39mvis\u001b[38;5;241m.\u001b[39mshape, chunks\u001b[38;5;241m=\u001b[39mvis\u001b[38;5;241m.\u001b[39mchunks))\n",
      "File \u001b[0;32m~/.local/share/virtualenvs/frank-1tGSZLq3/lib/python3.8/site-packages/africanus/rime/dask_predict.py:360\u001b[0m, in \u001b[0;36mpredict_vis\u001b[0;34m(time_index, antenna1, antenna2, dde1_jones, source_coh, dde2_jones, die1_jones, base_vis, die2_jones, streams)\u001b[0m\n\u001b[1;32m    354\u001b[0m \u001b[38;5;129m@requires_optional\u001b[39m(\u001b[38;5;124m'\u001b[39m\u001b[38;5;124mdask.array\u001b[39m\u001b[38;5;124m'\u001b[39m, opt_import_error)\n\u001b[1;32m    355\u001b[0m \u001b[38;5;28;01mdef\u001b[39;00m \u001b[38;5;21mpredict_vis\u001b[39m(time_index, antenna1, antenna2,\n\u001b[1;32m    356\u001b[0m                 dde1_jones\u001b[38;5;241m=\u001b[39m\u001b[38;5;28;01mNone\u001b[39;00m, source_coh\u001b[38;5;241m=\u001b[39m\u001b[38;5;28;01mNone\u001b[39;00m, dde2_jones\u001b[38;5;241m=\u001b[39m\u001b[38;5;28;01mNone\u001b[39;00m,\n\u001b[1;32m    357\u001b[0m                 die1_jones\u001b[38;5;241m=\u001b[39m\u001b[38;5;28;01mNone\u001b[39;00m, base_vis\u001b[38;5;241m=\u001b[39m\u001b[38;5;28;01mNone\u001b[39;00m, die2_jones\u001b[38;5;241m=\u001b[39m\u001b[38;5;28;01mNone\u001b[39;00m,\n\u001b[1;32m    358\u001b[0m                 streams\u001b[38;5;241m=\u001b[39m\u001b[38;5;28;01mNone\u001b[39;00m):\n\u001b[0;32m--> 360\u001b[0m     predict_check_tup \u001b[38;5;241m=\u001b[39m \u001b[43mpredict_checks\u001b[49m\u001b[43m(\u001b[49m\u001b[43mtime_index\u001b[49m\u001b[43m,\u001b[49m\u001b[43m \u001b[49m\u001b[43mantenna1\u001b[49m\u001b[43m,\u001b[49m\u001b[43m \u001b[49m\u001b[43mantenna2\u001b[49m\u001b[43m,\u001b[49m\n\u001b[1;32m    361\u001b[0m \u001b[43m                                       \u001b[49m\u001b[43mdde1_jones\u001b[49m\u001b[43m,\u001b[49m\u001b[43m \u001b[49m\u001b[43msource_coh\u001b[49m\u001b[43m,\u001b[49m\u001b[43m \u001b[49m\u001b[43mdde2_jones\u001b[49m\u001b[43m,\u001b[49m\n\u001b[1;32m    362\u001b[0m \u001b[43m                                       \u001b[49m\u001b[43mdie1_jones\u001b[49m\u001b[43m,\u001b[49m\u001b[43m \u001b[49m\u001b[43mbase_vis\u001b[49m\u001b[43m,\u001b[49m\u001b[43m \u001b[49m\u001b[43mdie2_jones\u001b[49m\u001b[43m)\u001b[49m\n\u001b[1;32m    364\u001b[0m     (have_ddes1, have_coh, have_ddes2,\n\u001b[1;32m    365\u001b[0m      have_dies1, have_bvis, have_dies2) \u001b[38;5;241m=\u001b[39m predict_check_tup\n\u001b[1;32m    367\u001b[0m     have_ddes \u001b[38;5;241m=\u001b[39m have_ddes1 \u001b[38;5;129;01mand\u001b[39;00m have_ddes2\n",
      "File \u001b[0;32m~/.local/share/virtualenvs/frank-1tGSZLq3/lib/python3.8/site-packages/africanus/rime/predict.py:406\u001b[0m, in \u001b[0;36mpredict_checks\u001b[0;34m(time_index, antenna1, antenna2, dde1_jones, source_coh, dde2_jones, die1_jones, base_vis, die2_jones, none_check)\u001b[0m\n\u001b[1;32m    403\u001b[0m     expected_sizes\u001b[38;5;241m.\u001b[39mappend([ndim \u001b[38;5;241m+\u001b[39m \u001b[38;5;241m2\u001b[39m, ndim \u001b[38;5;241m+\u001b[39m \u001b[38;5;241m1\u001b[39m, ndim, ndim \u001b[38;5;241m+\u001b[39m \u001b[38;5;241m1\u001b[39m])\n\u001b[1;32m    405\u001b[0m \u001b[38;5;28;01mif\u001b[39;00m \u001b[38;5;129;01mnot\u001b[39;00m \u001b[38;5;28mall\u001b[39m(expected_sizes[\u001b[38;5;241m0\u001b[39m] \u001b[38;5;241m==\u001b[39m s \u001b[38;5;28;01mfor\u001b[39;00m s \u001b[38;5;129;01min\u001b[39;00m expected_sizes[\u001b[38;5;241m1\u001b[39m:]):\n\u001b[0;32m--> 406\u001b[0m     \u001b[38;5;28;01mraise\u001b[39;00m \u001b[38;5;167;01mValueError\u001b[39;00m(\u001b[38;5;124m\"\u001b[39m\u001b[38;5;124mOne of the following pre-conditions is broken \u001b[39m\u001b[38;5;124m\"\u001b[39m\n\u001b[1;32m    407\u001b[0m                      \u001b[38;5;124m\"\u001b[39m\u001b[38;5;124m(missing values are ignored):\u001b[39m\u001b[38;5;130;01m\\n\u001b[39;00m\u001b[38;5;124m\"\u001b[39m\n\u001b[1;32m    408\u001b[0m                      \u001b[38;5;124m\"\u001b[39m\u001b[38;5;124mdde_jones\u001b[39m\u001b[38;5;124m{\u001b[39m\u001b[38;5;124m1,2}.ndim == source_coh.ndim + 1\u001b[39m\u001b[38;5;130;01m\\n\u001b[39;00m\u001b[38;5;124m\"\u001b[39m\n\u001b[1;32m    409\u001b[0m                      \u001b[38;5;124m\"\u001b[39m\u001b[38;5;124mdde_jones\u001b[39m\u001b[38;5;124m{\u001b[39m\u001b[38;5;124m1,2}.ndim == base_vis.ndim + 2\u001b[39m\u001b[38;5;130;01m\\n\u001b[39;00m\u001b[38;5;124m\"\u001b[39m\n\u001b[1;32m    410\u001b[0m                      \u001b[38;5;124m\"\u001b[39m\u001b[38;5;124mdde_jones\u001b[39m\u001b[38;5;124m{\u001b[39m\u001b[38;5;124m1,2}.ndim == die_jones\u001b[39m\u001b[38;5;124m{\u001b[39m\u001b[38;5;124m1,2}.ndim + 1\u001b[39m\u001b[38;5;124m\"\u001b[39m)\n\u001b[1;32m    412\u001b[0m \u001b[38;5;28;01mreturn\u001b[39;00m (have_ddes1, have_coh, have_ddes2,\n\u001b[1;32m    413\u001b[0m         have_dies1, have_bvis, have_dies2)\n",
      "\u001b[0;31mValueError\u001b[0m: One of the following pre-conditions is broken (missing values are ignored):\ndde_jones{1,2}.ndim == source_coh.ndim + 1\ndde_jones{1,2}.ndim == base_vis.ndim + 2\ndde_jones{1,2}.ndim == die_jones{1,2}.ndim + 1"
     ]
    }
   ],
   "source": [
    "from operator import getitem\n",
    "import numpy as np\n",
    "\n",
    "from dask.diagnostics import ProgressBar\n",
    "import dask\n",
    "import dask.array as da\n",
    "from daskms import xds_from_ms, xds_from_table, xds_to_table\n",
    "from africanus.coordinates.dask import radec_to_lm\n",
    "from africanus.rime.dask import wsclean_predict, predict_vis\n",
    "from astropy.coordinates import SkyCoord\n",
    "import astropy.units as u\n",
    "\n",
    "src_lm = da.array([[0, 0]])\n",
    "writes = []\n",
    "rms = 0.00625/2\n",
    "ms = '/fastpool/data/W-40int-64chan.ms'\n",
    "for xds in xds_from_ms(ms,\n",
    "                       columns=[\"UVW\", \"ANTENNA1\", \"ANTENNA2\", \"TIME\"],\n",
    "                       group_cols=[\"FIELD_ID\", \"DATA_DESC_ID\"],\n",
    "                       chunks={\"row\": 2e3}):\n",
    "    n_rows = xds.dims['row']\n",
    "    print(n_rows)\n",
    "    freq_arr = (da.arange(64) * 1.34e3) + 1.35e9\n",
    "    # freq_arr = da.array([2.0e9])\n",
    "    src_coh = wsclean_predict(xds['UVW'], src_lm, da.array(['POINT']), da.array([1.0]),\n",
    "                    da.array([[0]]), da.array([True]), da.array([1.35e9]), da.array([[0,0,0]]), freq_arr)\n",
    "    time_idx = xds.TIME.data.map_blocks(lambda a: np.unique(a, return_inverse=True)[1], dtype=np.int32)\n",
    "    print(len(time_idx))\n",
    "    print(time_idx)\n",
    "    vis = predict_vis(time_index=time_idx,\n",
    "                      antenna1=xds.ANTENNA1.data,\n",
    "                      antenna2=xds.ANTENNA2.data,\n",
    "                      die1_jones=gains_per_spw2,\n",
    "                      die2_jones=gains_per_spw2,\n",
    "                      source_coh=src_coh[None, :, :, :, None] * da.array([[1.]]))\n",
    "    if rms:\n",
    "        vis = vis + (da.random.normal(loc=0., scale=rms, size=vis.shape, chunks=vis.chunks) +\n",
    "                     1j * da.random.normal(loc=0., scale=rms, size=vis.shape, chunks=vis.chunks))\n",
    "    vis = vis.reshape(vis.shape[:2] + (1,))\n",
    "    # Assign visibilities to DATA array on the dataset\n",
    "    xds = xds.assign(DATA=((\"row\", \"chan\", \"corr\"), vis))\n",
    "    writes.append(xds_to_table(xds, ms, ['DATA']))\n",
    "with ProgressBar():\n",
    "    dask.compute(writes)"
   ]
  },
  {
   "cell_type": "code",
   "execution_count": 1,
   "id": "b7358d54-3e90-477c-97a1-4b552efcbbd5",
   "metadata": {},
   "outputs": [],
   "source": [
    "from casacore.tables import table"
   ]
  },
  {
   "cell_type": "code",
   "execution_count": 25,
   "id": "4d8fe716-6f4e-4a85-aa27-a3004e873fec",
   "metadata": {},
   "outputs": [
    {
     "name": "stdout",
     "output_type": "stream",
     "text": [
      "Successful readonly open of default-locked table /fastpool/data/W-40int-64chan.solved.gcal: 13 columns, 2048 rows\n"
     ]
    }
   ],
   "source": [
    "with table('/fastpool/data/W-40int-64chan.solved.gcal') as t:\n",
    "    sols = t.getcol('CPARAM')"
   ]
  },
  {
   "cell_type": "code",
   "execution_count": 26,
   "id": "d8fdb28d-c127-4cad-9f1f-065ad0794516",
   "metadata": {},
   "outputs": [
    {
     "name": "stdout",
     "output_type": "stream",
     "text": [
      "Successful readonly open of default-locked table /fastpool/data/W-40int-64chan-5deg.gcal: 13 columns, 2048 rows\n"
     ]
    }
   ],
   "source": [
    "with table('/fastpool/data/W-40int-64chan-5deg.gcal') as t:\n",
    "    ans = t.getcol('CPARAM')"
   ]
  },
  {
   "cell_type": "code",
   "execution_count": 27,
   "id": "be4500fa-cae9-4395-8360-651334fb9b4f",
   "metadata": {},
   "outputs": [],
   "source": [
    "import matplotlib.pyplot as plt\n",
    "import numpy as np"
   ]
  },
  {
   "cell_type": "code",
   "execution_count": 28,
   "id": "d5cb4fd2-a030-4e5f-9d3e-63c6d10f7d76",
   "metadata": {},
   "outputs": [
    {
     "data": {
      "text/plain": [
       "<matplotlib.collections.PathCollection at 0x7fdbbe4affa0>"
      ]
     },
     "execution_count": 28,
     "metadata": {},
     "output_type": "execute_result"
    },
    {
     "data": {
      "image/png": "[encoded data removed]",
      "text/plain": [
       "<Figure size 432x288 with 1 Axes>"
      ]
     },
     "metadata": {
      "needs_background": "light"
     },
     "output_type": "display_data"
    }
   ],
   "source": [
    "plt.scatter(np.arange(sols.shape[0]), np.abs(sols[:,0,0]))"
   ]
  },
  {
   "cell_type": "code",
   "execution_count": 29,
   "id": "ae8f98c0-ebaf-4b7f-b7fa-0f05cc258eb8",
   "metadata": {},
   "outputs": [
    {
     "data": {
      "text/plain": [
       "<matplotlib.collections.PathCollection at 0x7fdbbe62e580>"
      ]
     },
     "execution_count": 29,
     "metadata": {},
     "output_type": "execute_result"
    },
    {
     "data": {
      "image/png": "[encoded data removed]",
      "text/plain": [
       "<Figure size 432x288 with 1 Axes>"
      ]
     },
     "metadata": {
      "needs_background": "light"
     },
     "output_type": "display_data"
    }
   ],
   "source": [
    "plt.scatter(np.arange(sols.shape[0]), np.angle(sols[:,0,0], deg=True)+(np.angle(ans[:,0,0],deg=True)-np.angle(ans[0,0,0],deg=True)))"
   ]
  },
  {
   "cell_type": "code",
   "execution_count": 30,
   "id": "4d955e8f-d2a9-4d8b-b7ad-5d1900517cc3",
   "metadata": {},
   "outputs": [
    {
     "data": {
      "text/plain": [
       "0.2545504"
      ]
     },
     "execution_count": 30,
     "metadata": {},
     "output_type": "execute_result"
    }
   ],
   "source": [
    "(np.angle(sols[:,0,0], deg=True)+(np.angle(ans[:,0,0],deg=True)-np.angle(ans[0,0,0],deg=True))).std()"
   ]
  },
  {
   "cell_type": "code",
   "execution_count": 32,
   "id": "ed805fc6-624a-4afc-9bc1-7bdfb61f5d61",
   "metadata": {},
   "outputs": [
    {
     "data": {
      "text/plain": [
       "-0.24538757"
      ]
     },
     "execution_count": 32,
     "metadata": {},
     "output_type": "execute_result"
    }
   ],
   "source": [
    "(np.angle(sols[:,0,0], deg=True)+(np.angle(ans[:,0,0],deg=True)-np.angle(ans[0,0,0],deg=True))).mean()"
   ]
  },
  {
   "cell_type": "code",
   "execution_count": 34,
   "id": "0b390464-6989-4cfb-b221-9ff66760c186",
   "metadata": {},
   "outputs": [
    {
     "name": "stdout",
     "output_type": "stream",
     "text": [
      "Successful readonly open of default-locked table /fastpool/data/W-40int-64chan-10Jy-sol.gcal: 13 columns, 2048 rows\n"
     ]
    }
   ],
   "source": [
    "with table('/fastpool/data/W-40int-64chan-10Jy-sol.gcal') as t:\n",
    "    sols = t.getcol('CPARAM')"
   ]
  },
  {
   "cell_type": "code",
   "execution_count": 35,
   "id": "1765e9dc-f33b-4cc0-9c19-3bd8f8f3e883",
   "metadata": {},
   "outputs": [
    {
     "data": {
      "text/plain": [
       "<matplotlib.collections.PathCollection at 0x7fdbbdf925b0>"
      ]
     },
     "execution_count": 35,
     "metadata": {},
     "output_type": "execute_result"
    },
    {
     "data": {
      "image/png": "[encoded data removed]",
      "text/plain": [
       "<Figure size 432x288 with 1 Axes>"
      ]
     },
     "metadata": {
      "needs_background": "light"
     },
     "output_type": "display_data"
    }
   ],
   "source": [
    "plt.scatter(np.arange(sols.shape[0]), np.angle(sols[:,0,0], deg=True)+(np.angle(ans[:,0,0],deg=True)-np.angle(ans[0,0,0],deg=True)))"
   ]
  },
  {
   "cell_type": "markdown",
   "id": "070d7322-8873-4661-881f-227ab21aa293",
   "metadata": {},
   "source": [
    "for 10 Jy source, residual rms phase error in degrees is"
   ]
  },
  {
   "cell_type": "code",
   "execution_count": 36,
   "id": "f48cf70a-76f0-4d89-bc74-29aabfb086ec",
   "metadata": {},
   "outputs": [
    {
     "data": {
      "text/plain": [
       "0.024272097"
      ]
     },
     "execution_count": 36,
     "metadata": {},
     "output_type": "execute_result"
    }
   ],
   "source": [
    "(np.angle(sols[:,0,0], deg=True)+(np.angle(ans[:,0,0],deg=True)-np.angle(ans[0,0,0],deg=True))).std()"
   ]
  },
  {
   "cell_type": "code",
   "execution_count": null,
   "id": "04ad6531-1522-47e2-81c6-a2c06ab683c7",
   "metadata": {},
   "outputs": [],
   "source": []
  }
 ],
 "metadata": {
  "kernelspec": {
   "display_name": "frank",
   "language": "python",
   "name": "frank"
  },
  "language_info": {
   "codemirror_mode": {
    "name": "ipython",
    "version": 3
   },
   "file_extension": ".py",
   "mimetype": "text/x-python",
   "name": "python",
   "nbconvert_exporter": "python",
   "pygments_lexer": "ipython3",
   "version": "3.8.12"
  }
 },
 "nbformat": 4,
 "nbformat_minor": 5
}
