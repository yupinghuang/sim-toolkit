{
 "cells": [
  {
   "cell_type": "code",
   "execution_count": 1,
   "id": "1a81b573-2473-453a-911b-2f74ffee920c",
   "metadata": {},
   "outputs": [
    {
     "name": "stdout",
     "output_type": "stream",
     "text": [
      "Warning: ecCodes 2.21.0 or higher is recommended. You are running version 2.18.0\n"
     ]
    }
   ],
   "source": [
    "from dask.diagnostics import ProgressBar\n",
    "import dask\n",
    "import dask.array as da\n",
    "from daskms import xds_from_ms, xds_from_table, xds_to_table"
   ]
  },
  {
   "cell_type": "code",
   "execution_count": 8,
   "id": "b21f4eed-cfe5-401c-9736-e98e145c34c7",
   "metadata": {},
   "outputs": [
    {
     "name": "stdout",
     "output_type": "stream",
     "text": [
      "[########################################] | 100% Completed | 31min 34.2s\n"
     ]
    }
   ],
   "source": [
    "writes = []\n",
    "\n",
    "for xds in xds_from_ms('/fastpool/data/W-snapshot-8000chan.ms',\n",
    "                       columns=[\"UVW\", \"ANTENNA1\", \"ANTENNA2\", \"TIME\", \"DATA\"],\n",
    "                       group_cols=[\"FIELD_ID\", \"DATA_DESC_ID\"],\n",
    "                       chunks={\"row\": 5e3}):\n",
    "    vis = da.random.normal(loc=0., scale=0.366268, size=shape, chunks=xds.DATA.chunks) + 1j * da.random.normal(loc=0., scale=0.366268, size=shape, chunks=xds.DATA.chunks)\n",
    "    # Assign visibilities to DATA array on the dataset\n",
    "    xds = xds.assign(DATA=((\"row\", \"chan\", \"corr\"), vis))\n",
    "    writes.append(xds_to_table(xds,'/fastpool/data/W-snapshot-8000chan.ms', ['DATA']))\n",
    "    \n",
    "with ProgressBar():\n",
    "    dask.compute(writes)"
   ]
  },
  {
   "cell_type": "code",
   "execution_count": null,
   "id": "60be380f-51ec-4db9-a47e-ceb7b9b22b67",
   "metadata": {},
   "outputs": [],
   "source": []
  }
 ],
 "metadata": {
  "kernelspec": {
   "display_name": "frank",
   "language": "python",
   "name": "frank"
  },
  "language_info": {
   "codemirror_mode": {
    "name": "ipython",
    "version": 3
   },
   "file_extension": ".py",
   "mimetype": "text/x-python",
   "name": "python",
   "nbconvert_exporter": "python",
   "pygments_lexer": "ipython3",
   "version": "3.8.12"
  }
 },
 "nbformat": 4,
 "nbformat_minor": 5
}
