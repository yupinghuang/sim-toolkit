{
 "cells": [
  {
   "cell_type": "code",
   "execution_count": 8,
   "metadata": {},
   "outputs": [],
   "source": [
    "from casacore.tables import table\n",
    "import numpy as np\n",
    "\n",
    "from casatasks import applycal"
   ]
  },
  {
   "cell_type": "markdown",
   "metadata": {},
   "source": [
    "Summary: TIME is in JD or something. ANTENNA2 is the reference antenna. SCAN_NUMBER is always 1. FLAG needs to be rewritten."
   ]
  },
  {
   "cell_type": "code",
   "execution_count": 49,
   "metadata": {},
   "outputs": [
    {
     "name": "stdout",
     "output_type": "stream",
     "text": [
      "Successful readonly open of default-locked table /lustre/yuping/2020-12-28-dsa2000-take2/test-gain/00.gcal: 13 columns, 8012 rows\n"
     ]
    }
   ],
   "source": [
    "t = table('/lustre/yuping/2020-12-28-dsa2000-take2/test-gain/00.gcal')"
   ]
  },
  {
   "cell_type": "code",
   "execution_count": 4,
   "metadata": {},
   "outputs": [
    {
     "data": {
      "text/plain": [
       "['TIME',\n",
       " 'FIELD_ID',\n",
       " 'SPECTRAL_WINDOW_ID',\n",
       " 'ANTENNA1',\n",
       " 'ANTENNA2',\n",
       " 'INTERVAL',\n",
       " 'SCAN_NUMBER',\n",
       " 'OBSERVATION_ID',\n",
       " 'CPARAM',\n",
       " 'PARAMERR',\n",
       " 'FLAG',\n",
       " 'SNR',\n",
       " 'WEIGHT']"
      ]
     },
     "execution_count": 4,
     "metadata": {},
     "output_type": "execute_result"
    }
   ],
   "source": [
    "t.colnames()"
   ]
  },
  {
   "cell_type": "code",
   "execution_count": 31,
   "metadata": {},
   "outputs": [
    {
     "data": {
      "text/plain": [
       "(8012, 130, 2)"
      ]
     },
     "execution_count": 31,
     "metadata": {},
     "output_type": "execute_result"
    }
   ],
   "source": [
    "t.getcol('FLAG').shape"
   ]
  },
  {
   "cell_type": "code",
   "execution_count": 45,
   "metadata": {},
   "outputs": [],
   "source": [
    "t.putcol('FLAG', np.full_like(t.getcol('FLAG'), False))"
   ]
  },
  {
   "cell_type": "code",
   "execution_count": 35,
   "metadata": {},
   "outputs": [],
   "source": [
    "t.putcol('CPARAM', np.full_like(t.getcol('CPARAM'), 2+0j))"
   ]
  },
  {
   "cell_type": "code",
   "execution_count": 51,
   "metadata": {},
   "outputs": [
    {
     "data": {
      "text/plain": [
       "(8012, 130, 2)"
      ]
     },
     "execution_count": 51,
     "metadata": {},
     "output_type": "execute_result"
    }
   ],
   "source": [
    "t.getcol('CPARAM').shape"
   ]
  },
  {
   "cell_type": "code",
   "execution_count": 52,
   "metadata": {},
   "outputs": [],
   "source": [
    "t.close()"
   ]
  },
  {
   "cell_type": "markdown",
   "metadata": {},
   "source": [
    "Now let's see what it does to a MS...I tested it out.\n",
    "\n",
    "So applycal divides the data by the appropriate CPARAM products. If the FLAG column is TRUE, then it doesn't do anything with that antenna-time-channel solution."
   ]
  },
  {
   "cell_type": "code",
   "execution_count": 2,
   "metadata": {},
   "outputs": [],
   "source": [
    "from casatasks import applycal"
   ]
  },
  {
   "cell_type": "code",
   "execution_count": 47,
   "metadata": {},
   "outputs": [
    {
     "name": "stdout",
     "output_type": "stream",
     "text": [
      "CPU times: user 2min 29s, sys: 2min 21s, total: 4min 51s\n",
      "Wall time: 10min 18s\n"
     ]
    }
   ],
   "source": [
    "%time applycal(vis='/lustre/yuping/2020-12-28-dsa2000-take2/test-gain/00.ms', gaintable='/lustre/yuping/2020-12-28-dsa2000-take2/test-gain/00.gcal', flagbackup=False, applymode='calonly')"
   ]
  },
  {
   "cell_type": "code",
   "execution_count": 69,
   "metadata": {},
   "outputs": [
    {
     "data": {
      "text/plain": [
       "(11, 3, 2)"
      ]
     },
     "execution_count": 69,
     "metadata": {},
     "output_type": "execute_result"
    }
   ],
   "source": [
    "phase = np.random.normal(scale=0.1, size=11)\n",
    "gain = np.exp(-1j * (2 * np.pi) * phase/360)\n",
    "gain_repeat = np.repeat(gain[:, np.newaxis], 3 * 2, axis=1).reshape(11, 3, 2)\n",
    "gain_repeat.shape"
   ]
  },
  {
   "cell_type": "code",
   "execution_count": 64,
   "metadata": {},
   "outputs": [
    {
     "data": {
      "text/plain": [
       "(1, 1, 11)"
      ]
     },
     "execution_count": 64,
     "metadata": {},
     "output_type": "execute_result"
    }
   ],
   "source": [
    "gain[:np.newaxis,np.newaxis].shape"
   ]
  },
  {
   "cell_type": "code",
   "execution_count": 8,
   "metadata": {},
   "outputs": [],
   "source": [
    "def gauss_phase_per_ant_time(bcal, rms_deg):\n",
    "    with table(bcal, readonly=False) as t:\n",
    "        t.putcol('FLAG', np.full_like(t.getcol('FLAG'), False))\n",
    "        shape = t.getcol('CPARAM').shape\n",
    "        phase = np.random.normal(scale=rms_deg, size=shape[0])\n",
    "        gain = np.exp(-1j * (2 * np.pi) * phase/360)\n",
    "        gain_repeat = np.repeat(gain[:,np.newaxis,np.newaxis], shape[1] * shape[2]).reshape(shape)\n",
    "        t.putcol('CPARAM', gain_repeat)"
   ]
  },
  {
   "cell_type": "code",
   "execution_count": 3,
   "metadata": {},
   "outputs": [],
   "source": [
    "import glob"
   ]
  },
  {
   "cell_type": "code",
   "execution_count": 7,
   "metadata": {},
   "outputs": [],
   "source": [
    "l = glob.glob('/lustre/yuping/2020-12-28-dsa2000-take2/1-deg-gain/*gcal')"
   ]
  },
  {
   "cell_type": "code",
   "execution_count": 8,
   "metadata": {},
   "outputs": [
    {
     "data": {
      "text/plain": [
       "['/lustre/yuping/2020-12-28-dsa2000-take2/1-deg-gain/06.ms.gcal',\n",
       " '/lustre/yuping/2020-12-28-dsa2000-take2/1-deg-gain/10.ms.gcal',\n",
       " '/lustre/yuping/2020-12-28-dsa2000-take2/1-deg-gain/12.ms.gcal',\n",
       " '/lustre/yuping/2020-12-28-dsa2000-take2/1-deg-gain/04.ms.gcal',\n",
       " '/lustre/yuping/2020-12-28-dsa2000-take2/1-deg-gain/09.ms.gcal',\n",
       " '/lustre/yuping/2020-12-28-dsa2000-take2/1-deg-gain/02.ms.gcal',\n",
       " '/lustre/yuping/2020-12-28-dsa2000-take2/1-deg-gain/13.ms.gcal',\n",
       " '/lustre/yuping/2020-12-28-dsa2000-take2/1-deg-gain/00.ms.gcal',\n",
       " '/lustre/yuping/2020-12-28-dsa2000-take2/1-deg-gain/14.ms.gcal',\n",
       " '/lustre/yuping/2020-12-28-dsa2000-take2/1-deg-gain/07.ms.gcal',\n",
       " '/lustre/yuping/2020-12-28-dsa2000-take2/1-deg-gain/01.ms.gcal',\n",
       " '/lustre/yuping/2020-12-28-dsa2000-take2/1-deg-gain/05.ms.gcal',\n",
       " '/lustre/yuping/2020-12-28-dsa2000-take2/1-deg-gain/08.ms.gcal',\n",
       " '/lustre/yuping/2020-12-28-dsa2000-take2/1-deg-gain/03.ms.gcal',\n",
       " '/lustre/yuping/2020-12-28-dsa2000-take2/1-deg-gain/11.ms.gcal']"
      ]
     },
     "execution_count": 8,
     "metadata": {},
     "output_type": "execute_result"
    }
   ],
   "source": [
    "l"
   ]
  },
  {
   "cell_type": "code",
   "execution_count": 9,
   "metadata": {},
   "outputs": [
    {
     "name": "stdout",
     "output_type": "stream",
     "text": [
      "Successful read/write open of default-locked table /lustre/yuping/2020-12-28-dsa2000-take2/1-deg-gain/06.ms.gcal: 13 columns, 8012 rows\n",
      "Successful read/write open of default-locked table /lustre/yuping/2020-12-28-dsa2000-take2/1-deg-gain/10.ms.gcal: 13 columns, 8012 rows\n",
      "Successful read/write open of default-locked table /lustre/yuping/2020-12-28-dsa2000-take2/1-deg-gain/12.ms.gcal: 13 columns, 8012 rows\n",
      "Successful read/write open of default-locked table /lustre/yuping/2020-12-28-dsa2000-take2/1-deg-gain/04.ms.gcal: 13 columns, 8012 rows\n",
      "Successful read/write open of default-locked table /lustre/yuping/2020-12-28-dsa2000-take2/1-deg-gain/09.ms.gcal: 13 columns, 8012 rows\n",
      "Successful read/write open of default-locked table /lustre/yuping/2020-12-28-dsa2000-take2/1-deg-gain/02.ms.gcal: 13 columns, 8012 rows\n",
      "Successful read/write open of default-locked table /lustre/yuping/2020-12-28-dsa2000-take2/1-deg-gain/13.ms.gcal: 13 columns, 8012 rows\n",
      "Successful read/write open of default-locked table /lustre/yuping/2020-12-28-dsa2000-take2/1-deg-gain/00.ms.gcal: 13 columns, 8012 rows\n",
      "Successful read/write open of default-locked table /lustre/yuping/2020-12-28-dsa2000-take2/1-deg-gain/14.ms.gcal: 13 columns, 8012 rows\n",
      "Successful read/write open of default-locked table /lustre/yuping/2020-12-28-dsa2000-take2/1-deg-gain/07.ms.gcal: 13 columns, 8012 rows\n",
      "Successful read/write open of default-locked table /lustre/yuping/2020-12-28-dsa2000-take2/1-deg-gain/01.ms.gcal: 13 columns, 8012 rows\n",
      "Successful read/write open of default-locked table /lustre/yuping/2020-12-28-dsa2000-take2/1-deg-gain/05.ms.gcal: 13 columns, 8012 rows\n",
      "Successful read/write open of default-locked table /lustre/yuping/2020-12-28-dsa2000-take2/1-deg-gain/08.ms.gcal: 13 columns, 8012 rows\n",
      "Successful read/write open of default-locked table /lustre/yuping/2020-12-28-dsa2000-take2/1-deg-gain/03.ms.gcal: 13 columns, 8012 rows\n",
      "Successful read/write open of default-locked table /lustre/yuping/2020-12-28-dsa2000-take2/1-deg-gain/11.ms.gcal: 13 columns, 8012 rows\n"
     ]
    }
   ],
   "source": [
    "for c in l:\n",
    "    gauss_phase_per_ant_time(c, 1)"
   ]
  },
  {
   "cell_type": "code",
   "execution_count": 83,
   "metadata": {},
   "outputs": [
    {
     "name": "stdout",
     "output_type": "stream",
     "text": [
      "Successful readonly open of default-locked table /lustre/yuping/2020-12-28-dsa2000-take2/0-1-deg-gain/07.ms.gcal: 13 columns, 8012 rows\n"
     ]
    }
   ],
   "source": [
    "tt = table('/lustre/yuping/2020-12-28-dsa2000-take2/0-1-deg-gain/07.ms.gcal')"
   ]
  },
  {
   "cell_type": "code",
   "execution_count": 84,
   "metadata": {},
   "outputs": [
    {
     "data": {
      "text/plain": [
       "array([False])"
      ]
     },
     "execution_count": 84,
     "metadata": {},
     "output_type": "execute_result"
    }
   ],
   "source": [
    "np.unique(tt.getcol('FLAG'))"
   ]
  },
  {
   "cell_type": "code",
   "execution_count": 86,
   "metadata": {},
   "outputs": [
    {
     "data": {
      "text/plain": [
       "array([[[1., 1.],\n",
       "        [1., 1.],\n",
       "        [1., 1.],\n",
       "        ...,\n",
       "        [1., 1.],\n",
       "        [1., 1.],\n",
       "        [1., 1.]],\n",
       "\n",
       "       [[1., 1.],\n",
       "        [1., 1.],\n",
       "        [1., 1.],\n",
       "        ...,\n",
       "        [1., 1.],\n",
       "        [1., 1.],\n",
       "        [1., 1.]],\n",
       "\n",
       "       [[1., 1.],\n",
       "        [1., 1.],\n",
       "        [1., 1.],\n",
       "        ...,\n",
       "        [1., 1.],\n",
       "        [1., 1.],\n",
       "        [1., 1.]],\n",
       "\n",
       "       ...,\n",
       "\n",
       "       [[1., 1.],\n",
       "        [1., 1.],\n",
       "        [1., 1.],\n",
       "        ...,\n",
       "        [1., 1.],\n",
       "        [1., 1.],\n",
       "        [1., 1.]],\n",
       "\n",
       "       [[1., 1.],\n",
       "        [1., 1.],\n",
       "        [1., 1.],\n",
       "        ...,\n",
       "        [1., 1.],\n",
       "        [1., 1.],\n",
       "        [1., 1.]],\n",
       "\n",
       "       [[1., 1.],\n",
       "        [1., 1.],\n",
       "        [1., 1.],\n",
       "        ...,\n",
       "        [1., 1.],\n",
       "        [1., 1.],\n",
       "        [1., 1.]]], dtype=float32)"
      ]
     },
     "execution_count": 86,
     "metadata": {},
     "output_type": "execute_result"
    }
   ],
   "source": [
    "np.abs(tt.getcol('CPARAM'))"
   ]
  },
  {
   "cell_type": "code",
   "execution_count": 87,
   "metadata": {},
   "outputs": [],
   "source": [
    "tt.close()"
   ]
  },
  {
   "cell_type": "code",
   "execution_count": 4,
   "metadata": {},
   "outputs": [
    {
     "name": "stdout",
     "output_type": "stream",
     "text": [
      "Successful read/write open of default-locked table /lustre/yuping/2020-12-28-dsa2000-take2/5-deg-gain/06.ms.gcal: 13 columns, 8012 rows\n",
      "Successful read/write open of default-locked table /lustre/yuping/2020-12-28-dsa2000-take2/5-deg-gain/10.ms.gcal: 13 columns, 8012 rows\n",
      "Successful read/write open of default-locked table /lustre/yuping/2020-12-28-dsa2000-take2/5-deg-gain/12.ms.gcal: 13 columns, 8012 rows\n",
      "Successful read/write open of default-locked table /lustre/yuping/2020-12-28-dsa2000-take2/5-deg-gain/04.ms.gcal: 13 columns, 8012 rows\n",
      "Successful read/write open of default-locked table /lustre/yuping/2020-12-28-dsa2000-take2/5-deg-gain/09.ms.gcal: 13 columns, 8012 rows\n",
      "Successful read/write open of default-locked table /lustre/yuping/2020-12-28-dsa2000-take2/5-deg-gain/02.ms.gcal: 13 columns, 8012 rows\n",
      "Successful read/write open of default-locked table /lustre/yuping/2020-12-28-dsa2000-take2/5-deg-gain/13.ms.gcal: 13 columns, 8012 rows\n",
      "Successful read/write open of default-locked table /lustre/yuping/2020-12-28-dsa2000-take2/5-deg-gain/00.ms.gcal: 13 columns, 8012 rows\n",
      "Successful read/write open of default-locked table /lustre/yuping/2020-12-28-dsa2000-take2/5-deg-gain/14.ms.gcal: 13 columns, 8012 rows\n",
      "Successful read/write open of default-locked table /lustre/yuping/2020-12-28-dsa2000-take2/5-deg-gain/07.ms.gcal: 13 columns, 8012 rows\n",
      "Successful read/write open of default-locked table /lustre/yuping/2020-12-28-dsa2000-take2/5-deg-gain/01.ms.gcal: 13 columns, 8012 rows\n",
      "Successful read/write open of default-locked table /lustre/yuping/2020-12-28-dsa2000-take2/5-deg-gain/05.ms.gcal: 13 columns, 8012 rows\n",
      "Successful read/write open of default-locked table /lustre/yuping/2020-12-28-dsa2000-take2/5-deg-gain/08.ms.gcal: 13 columns, 8012 rows\n",
      "Successful read/write open of default-locked table /lustre/yuping/2020-12-28-dsa2000-take2/5-deg-gain/03.ms.gcal: 13 columns, 8012 rows\n",
      "Successful read/write open of default-locked table /lustre/yuping/2020-12-28-dsa2000-take2/5-deg-gain/11.ms.gcal: 13 columns, 8012 rows\n"
     ]
    }
   ],
   "source": [
    "l = glob.glob('/lustre/yuping/2020-12-28-dsa2000-take2/5-deg-gain/*gcal')\n",
    "for c in l:\n",
    "    gauss_phase_per_ant_time(c, 5)"
   ]
  },
  {
   "cell_type": "code",
   "execution_count": 5,
   "metadata": {},
   "outputs": [
    {
     "name": "stdout",
     "output_type": "stream",
     "text": [
      "Successful read/write open of default-locked table /lustre/yuping/2020-12-28-dsa2000-take2/10-deg-gain/06.ms.gcal: 13 columns, 8012 rows\n",
      "Successful read/write open of default-locked table /lustre/yuping/2020-12-28-dsa2000-take2/10-deg-gain/10.ms.gcal: 13 columns, 8012 rows\n",
      "Successful read/write open of default-locked table /lustre/yuping/2020-12-28-dsa2000-take2/10-deg-gain/12.ms.gcal: 13 columns, 8012 rows\n",
      "Successful read/write open of default-locked table /lustre/yuping/2020-12-28-dsa2000-take2/10-deg-gain/04.ms.gcal: 13 columns, 8012 rows\n",
      "Successful read/write open of default-locked table /lustre/yuping/2020-12-28-dsa2000-take2/10-deg-gain/09.ms.gcal: 13 columns, 8012 rows\n",
      "Successful read/write open of default-locked table /lustre/yuping/2020-12-28-dsa2000-take2/10-deg-gain/02.ms.gcal: 13 columns, 8012 rows\n",
      "Successful read/write open of default-locked table /lustre/yuping/2020-12-28-dsa2000-take2/10-deg-gain/13.ms.gcal: 13 columns, 8012 rows\n",
      "Successful read/write open of default-locked table /lustre/yuping/2020-12-28-dsa2000-take2/10-deg-gain/00.ms.gcal: 13 columns, 8012 rows\n",
      "Successful read/write open of default-locked table /lustre/yuping/2020-12-28-dsa2000-take2/10-deg-gain/14.ms.gcal: 13 columns, 8012 rows\n",
      "Successful read/write open of default-locked table /lustre/yuping/2020-12-28-dsa2000-take2/10-deg-gain/07.ms.gcal: 13 columns, 8012 rows\n",
      "Successful read/write open of default-locked table /lustre/yuping/2020-12-28-dsa2000-take2/10-deg-gain/01.ms.gcal: 13 columns, 8012 rows\n",
      "Successful read/write open of default-locked table /lustre/yuping/2020-12-28-dsa2000-take2/10-deg-gain/05.ms.gcal: 13 columns, 8012 rows\n",
      "Successful read/write open of default-locked table /lustre/yuping/2020-12-28-dsa2000-take2/10-deg-gain/08.ms.gcal: 13 columns, 8012 rows\n",
      "Successful read/write open of default-locked table /lustre/yuping/2020-12-28-dsa2000-take2/10-deg-gain/03.ms.gcal: 13 columns, 8012 rows\n",
      "Successful read/write open of default-locked table /lustre/yuping/2020-12-28-dsa2000-take2/10-deg-gain/11.ms.gcal: 13 columns, 8012 rows\n"
     ]
    }
   ],
   "source": [
    "l = glob.glob('/lustre/yuping/2020-12-28-dsa2000-take2/10-deg-gain/*gcal')\n",
    "for c in l:\n",
    "    gauss_phase_per_ant_time(c, 10)"
   ]
  },
  {
   "cell_type": "markdown",
   "metadata": {},
   "source": [
    "# 20210601 make test data for calibration\n",
    "\n",
    "I FT'd an image first into the model column.\n",
    "\n",
    "```\n",
    "wsclean -predict -weight natural -nwlayers 1 -name SKAMid-1000h 20210226M-1350MHz-1chan-1int.ms\n",
    "```"
   ]
  },
  {
   "cell_type": "code",
   "execution_count": 1,
   "metadata": {},
   "outputs": [],
   "source": [
    "from casacore import tables\n",
    "import numpy as np\n",
    "from casacore.tables import table"
   ]
  },
  {
   "cell_type": "code",
   "execution_count": 5,
   "metadata": {},
   "outputs": [],
   "source": [
    "from casacore import tables\n",
    "def copy_and_cleanup(ms, source_col='MODEL_DATA'):\n",
    "    with table(ms, readonly=False) as t:\n",
    "        d = t.getcol(source_col)\n",
    "        t.putcol('DATA', d)\n",
    "    tables.removeImagingColumns(ms)"
   ]
  },
  {
   "cell_type": "code",
   "execution_count": 6,
   "metadata": {},
   "outputs": [
    {
     "name": "stdout",
     "output_type": "stream",
     "text": [
      "Successful read/write open of default-locked table /safepool/data/test-calibration/20210226M-1350MHz-1chan-1int.ms: 23 columns, 2096128 rows\n"
     ]
    }
   ],
   "source": [
    "# Copy MODEL into DATA\n",
    "copy_and_cleanup('/safepool/data/test-calibration/20210226M-1350MHz-1chan-1int.ms')"
   ]
  },
  {
   "cell_type": "code",
   "execution_count": 14,
   "metadata": {},
   "outputs": [
    {
     "name": "stdout",
     "output_type": "stream",
     "text": [
      "Successful read/write open of default-locked table /safepool/data/test-calibration/20210226M-1chan-1int-10deg.bcal: 13 columns, 2048 rows\n"
     ]
    }
   ],
   "source": [
    "gauss_phase_per_ant_time('/safepool/data/test-calibration/20210226M-1chan-1int-10deg.bcal', 10.)"
   ]
  },
  {
   "cell_type": "code",
   "execution_count": 15,
   "metadata": {},
   "outputs": [],
   "source": [
    "# DATA -> CORRECTED_DATA now corrupted\n",
    "applycal(vis='/safepool/data/test-calibration/20210226M-1350MHz-1chan-1int-10deg.ms',\n",
    "         gaintable='/safepool/data/test-calibration/20210226M-1chan-1int-10deg.bcal', flagbackup=False, applymode='calonly')"
   ]
  },
  {
   "cell_type": "markdown",
   "metadata": {},
   "source": [
    "Then copy the corrected_data column to data, and remove extra columns."
   ]
  },
  {
   "cell_type": "code",
   "execution_count": 16,
   "metadata": {},
   "outputs": [
    {
     "name": "stdout",
     "output_type": "stream",
     "text": [
      "Successful read/write open of default-locked table /safepool/data/test-calibration/20210226M-1350MHz-1chan-1int-10deg.ms: 23 columns, 2096128 rows\n"
     ]
    }
   ],
   "source": [
    "copy_and_cleanup('/safepool/data/test-calibration/20210226M-1350MHz-1chan-1int-10deg.ms', source_col='CORRECTED_DATA')"
   ]
  },
  {
   "cell_type": "code",
   "execution_count": 6,
   "metadata": {},
   "outputs": [],
   "source": [
    "def add_noise(ms, rms):\n",
    "    with table(ms, readonly=False) as t:\n",
    "        d = t.getcol('DATA')\n",
    "        print(d.shape)\n",
    "        noise = np.random.normal(scale=rms, size=d.shape + (2,)).view(np.complex128).astype(np.complex64).reshape(d.shape)\n",
    "        print(noise.shape)\n",
    "        d = d + noise\n",
    "        t.putcol(\"DATA\", d)"
   ]
  },
  {
   "cell_type": "markdown",
   "metadata": {},
   "source": [
    "The image plane noise for a single channel single timestep should be"
   ]
  },
  {
   "cell_type": "code",
   "execution_count": 24,
   "metadata": {},
   "outputs": [
    {
     "data": {
      "text/plain": [
       "0.004381780460041329"
      ]
     },
     "execution_count": 24,
     "metadata": {},
     "output_type": "execute_result"
    }
   ],
   "source": [
    "2e-6*np.sqrt(8000)*np.sqrt(900/1.5)"
   ]
  },
  {
   "cell_type": "code",
   "execution_count": 21,
   "metadata": {},
   "outputs": [
    {
     "name": "stdout",
     "output_type": "stream",
     "text": [
      "Successful read/write open of default-locked table /safepool/data/test-calibration/20210226M-1350MHz-1chan-1int-1deg.ms: 22 columns, 2096128 rows\n",
      "(2096128, 1, 4)\n",
      "(2096128, 1, 4)\n"
     ]
    }
   ],
   "source": [
    "add_noise('/safepool/data/test-calibration/20210226M-1350MHz-1chan-1int-1deg.ms', 8.9446)"
   ]
  },
  {
   "cell_type": "code",
   "execution_count": 25,
   "metadata": {},
   "outputs": [
    {
     "name": "stdout",
     "output_type": "stream",
     "text": [
      "Successful read/write open of default-locked table /safepool/data/test-calibration/20210226M-1350MHz-1chan-1int-10deg.ms: 22 columns, 2096128 rows\n",
      "(2096128, 1, 4)\n",
      "(2096128, 1, 4)\n"
     ]
    }
   ],
   "source": [
    "add_noise('/safepool/data/test-calibration/20210226M-1350MHz-1chan-1int-10deg.ms', 8.9446)"
   ]
  },
  {
   "cell_type": "markdown",
   "metadata": {},
   "source": [
    "# For the VLASS sim"
   ]
  },
  {
   "cell_type": "markdown",
   "metadata": {},
   "source": [
    "Make the noise so that I have a copy"
   ]
  },
  {
   "cell_type": "code",
   "execution_count": 7,
   "metadata": {},
   "outputs": [
    {
     "name": "stdout",
     "output_type": "stream",
     "text": [
      "Successful read/write open of default-locked table /fastpool/yuping/vlass_full.ms: 23 columns, 46683 rows\n"
     ]
    }
   ],
   "source": [
    "# Copy MODEL into DATA\n",
    "copy_and_cleanup('/fastpool/yuping/vlass_full.ms')"
   ]
  },
  {
   "cell_type": "code",
   "execution_count": 8,
   "metadata": {},
   "outputs": [
    {
     "name": "stdout",
     "output_type": "stream",
     "text": [
      "Successful read/write open of default-locked table /fastpool/yuping/vlass_full.ms: 22 columns, 46683 rows\n",
      "(46683, 1000, 4)\n",
      "(46683, 1000, 4)\n"
     ]
    }
   ],
   "source": [
    "add_noise('/fastpool/yuping/vlass_full.ms', 0.6678)"
   ]
  },
  {
   "cell_type": "markdown",
   "metadata": {},
   "source": [
    "# A cotrolled corruption\n",
    "because I'll need to compare them to the ground truth so that we can see the effects of the artifacts."
   ]
  },
  {
   "cell_type": "code",
   "execution_count": 4,
   "metadata": {},
   "outputs": [
    {
     "name": "stdout",
     "output_type": "stream",
     "text": [
      "Successful read/write open of default-locked table /safepool/data/test-calibration/noise.ms: 22 columns, 2096128 rows\n",
      "(2096128, 1, 4)\n"
     ]
    }
   ],
   "source": [
    "with table('/safepool/data/test-calibration/noise.ms', readonly=False) as t:\n",
    "    d = t.getcol('DATA')\n",
    "    print(d.shape)\n",
    "    noise = np.random.normal(scale=8.9446, size=d.shape + (2,)).view(np.complex128).astype(np.complex64).reshape(d.shape)\n",
    "    t.putcol(\"DATA\", noise)"
   ]
  },
  {
   "cell_type": "markdown",
   "metadata": {},
   "source": [
    "Order of operation is corruption first and noise second."
   ]
  },
  {
   "cell_type": "code",
   "execution_count": 6,
   "metadata": {},
   "outputs": [],
   "source": [
    "def apply_cal_add_noise(ms, bcal):\n",
    "    applycal(vis=ms,\n",
    "         gaintable=bcal, flagbackup=False, applymode='calonly')\n",
    "    copy_and_cleanup(ms, source_col='CORRECTED_DATA')\n",
    "    with table('/safepool/data/test-calibration/noise.ms') as t:\n",
    "        noise = t.getcol('DATA')\n",
    "    with table(ms, readonly=False) as t:\n",
    "        d = t.getcol('DATA')\n",
    "        d = d + noise\n",
    "        t.putcol(\"DATA\", d)"
   ]
  },
  {
   "cell_type": "code",
   "execution_count": 9,
   "metadata": {},
   "outputs": [
    {
     "name": "stdout",
     "output_type": "stream",
     "text": [
      "Successful read/write open of default-locked table /safepool/data/test-calibration/20210226M-1350MHz-1chan-1int-1deg.ms: 23 columns, 2096128 rows\n",
      "Successful readonly open of default-locked table /safepool/data/test-calibration/noise.ms: 22 columns, 2096128 rows\n",
      "Successful read/write open of default-locked table /safepool/data/test-calibration/20210226M-1350MHz-1chan-1int-1deg.ms: 22 columns, 2096128 rows\n"
     ]
    }
   ],
   "source": [
    "apply_cal_add_noise('/safepool/data/test-calibration/20210226M-1350MHz-1chan-1int-1deg.ms',\n",
    "                   '/safepool/data/test-calibration/answers/20210226M-1chan-1int-1deg.bcal')"
   ]
  },
  {
   "cell_type": "code",
   "execution_count": 10,
   "metadata": {},
   "outputs": [
    {
     "name": "stdout",
     "output_type": "stream",
     "text": [
      "Successful read/write open of default-locked table /safepool/data/test-calibration/20210226M-1350MHz-1chan-1int-10deg.ms: 23 columns, 2096128 rows\n",
      "Successful readonly open of default-locked table /safepool/data/test-calibration/noise.ms: 22 columns, 2096128 rows\n",
      "Successful read/write open of default-locked table /safepool/data/test-calibration/20210226M-1350MHz-1chan-1int-10deg.ms: 22 columns, 2096128 rows\n"
     ]
    }
   ],
   "source": [
    "apply_cal_add_noise('/safepool/data/test-calibration/20210226M-1350MHz-1chan-1int-10deg.ms',\n",
    "                   '/safepool/data/test-calibration/answers/20210226M-1chan-1int-10deg.bcal')"
   ]
  },
  {
   "cell_type": "code",
   "execution_count": 16,
   "metadata": {},
   "outputs": [],
   "source": [
    "def subtract_noise_and_truth(ms):\n",
    "    with table('/safepool/data/test-calibration/noise.ms') as t:\n",
    "        noise = t.getcol('DATA')\n",
    "\n",
    "    with table('/safepool/data/test-calibration/20210226M-1350MHz-1chan-1int-ground-truth.ms') as t:\n",
    "        truth = t.getcol('DATA')\n",
    "\n",
    "    with table(ms, readonly=False) as t:\n",
    "        d = t.getcol('DATA')\n",
    "        d = d - noise - truth\n",
    "        t.putcol(\"DATA\", d)"
   ]
  },
  {
   "cell_type": "code",
   "execution_count": 17,
   "metadata": {},
   "outputs": [
    {
     "name": "stdout",
     "output_type": "stream",
     "text": [
      "Successful readonly open of default-locked table /safepool/data/test-calibration/noise.ms: 22 columns, 2096128 rows\n",
      "Successful readonly open of default-locked table /safepool/data/test-calibration/20210226M-1350MHz-1chan-1int-ground-truth.ms: 22 columns, 2096128 rows\n",
      "Successful read/write open of default-locked table /safepool/data/test-calibration/20210226M-1350MHz-1chan-1int-1deg-artifacts-only.ms: 22 columns, 2096128 rows\n"
     ]
    }
   ],
   "source": [
    "subtract_noise_and_truth('/safepool/data/test-calibration/20210226M-1350MHz-1chan-1int-1deg-artifacts-only.ms')"
   ]
  },
  {
   "cell_type": "code",
   "execution_count": null,
   "metadata": {},
   "outputs": [],
   "source": []
  }
 ],
 "metadata": {
  "kernelspec": {
   "display_name": "casa-env",
   "language": "python",
   "name": "casa-env"
  },
  "language_info": {
   "codemirror_mode": {
    "name": "ipython",
    "version": 3
   },
   "file_extension": ".py",
   "mimetype": "text/x-python",
   "name": "python",
   "nbconvert_exporter": "python",
   "pygments_lexer": "ipython3",
   "version": "3.6.3"
  }
 },
 "nbformat": 4,
 "nbformat_minor": 4
}
