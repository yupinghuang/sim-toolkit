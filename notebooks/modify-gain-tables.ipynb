{
 "cells": [
  {
   "cell_type": "code",
   "execution_count": 1,
   "metadata": {},
   "outputs": [],
   "source": [
    "from casacore.tables import table\n",
    "import numpy as np"
   ]
  },
  {
   "cell_type": "markdown",
   "metadata": {},
   "source": [
    "Summary: TIME is in JD or something. ANTENNA2 is the reference antenna. SCAN_NUMBER is always 1. FLAG needs to be rewritten."
   ]
  },
  {
   "cell_type": "code",
   "execution_count": 49,
   "metadata": {},
   "outputs": [
    {
     "name": "stdout",
     "output_type": "stream",
     "text": [
      "Successful readonly open of default-locked table /lustre/yuping/2020-12-28-dsa2000-take2/test-gain/00.gcal: 13 columns, 8012 rows\n"
     ]
    }
   ],
   "source": [
    "t = table('/lustre/yuping/2020-12-28-dsa2000-take2/test-gain/00.gcal')"
   ]
  },
  {
   "cell_type": "code",
   "execution_count": 4,
   "metadata": {},
   "outputs": [
    {
     "data": {
      "text/plain": [
       "['TIME',\n",
       " 'FIELD_ID',\n",
       " 'SPECTRAL_WINDOW_ID',\n",
       " 'ANTENNA1',\n",
       " 'ANTENNA2',\n",
       " 'INTERVAL',\n",
       " 'SCAN_NUMBER',\n",
       " 'OBSERVATION_ID',\n",
       " 'CPARAM',\n",
       " 'PARAMERR',\n",
       " 'FLAG',\n",
       " 'SNR',\n",
       " 'WEIGHT']"
      ]
     },
     "execution_count": 4,
     "metadata": {},
     "output_type": "execute_result"
    }
   ],
   "source": [
    "t.colnames()"
   ]
  },
  {
   "cell_type": "code",
   "execution_count": 31,
   "metadata": {},
   "outputs": [
    {
     "data": {
      "text/plain": [
       "(8012, 130, 2)"
      ]
     },
     "execution_count": 31,
     "metadata": {},
     "output_type": "execute_result"
    }
   ],
   "source": [
    "t.getcol('FLAG').shape"
   ]
  },
  {
   "cell_type": "code",
   "execution_count": 45,
   "metadata": {},
   "outputs": [],
   "source": [
    "t.putcol('FLAG', np.full_like(t.getcol('FLAG'), False))"
   ]
  },
  {
   "cell_type": "code",
   "execution_count": 35,
   "metadata": {},
   "outputs": [],
   "source": [
    "t.putcol('CPARAM', np.full_like(t.getcol('CPARAM'), 2+0j))"
   ]
  },
  {
   "cell_type": "code",
   "execution_count": 51,
   "metadata": {},
   "outputs": [
    {
     "data": {
      "text/plain": [
       "(8012, 130, 2)"
      ]
     },
     "execution_count": 51,
     "metadata": {},
     "output_type": "execute_result"
    }
   ],
   "source": [
    "t.getcol('CPARAM').shape"
   ]
  },
  {
   "cell_type": "code",
   "execution_count": 52,
   "metadata": {},
   "outputs": [],
   "source": [
    "t.close()"
   ]
  },
  {
   "cell_type": "markdown",
   "metadata": {},
   "source": [
    "Now let's see what it does to a MS...I tested it out.\n",
    "\n",
    "So applycal divides the data by the appropriate CPARAM products. If the FLAG column is TRUE, then it doesn't do anything with that antenna-time-channel solution."
   ]
  },
  {
   "cell_type": "code",
   "execution_count": 2,
   "metadata": {},
   "outputs": [],
   "source": [
    "from casatasks import applycal"
   ]
  },
  {
   "cell_type": "code",
   "execution_count": 47,
   "metadata": {},
   "outputs": [
    {
     "name": "stdout",
     "output_type": "stream",
     "text": [
      "CPU times: user 2min 29s, sys: 2min 21s, total: 4min 51s\n",
      "Wall time: 10min 18s\n"
     ]
    }
   ],
   "source": [
    "%time applycal(vis='/lustre/yuping/2020-12-28-dsa2000-take2/test-gain/00.ms', gaintable='/lustre/yuping/2020-12-28-dsa2000-take2/test-gain/00.gcal', flagbackup=False, applymode='calonly')"
   ]
  },
  {
   "cell_type": "code",
   "execution_count": 69,
   "metadata": {},
   "outputs": [
    {
     "data": {
      "text/plain": [
       "(11, 3, 2)"
      ]
     },
     "execution_count": 69,
     "metadata": {},
     "output_type": "execute_result"
    }
   ],
   "source": [
    "phase = np.random.normal(scale=0.1, size=11)\n",
    "gain = np.exp(-1j * (2 * np.pi) * phase/360)\n",
    "gain_repeat = np.repeat(gain[:, np.newaxis], 3 * 2, axis=1).reshape(11, 3, 2)\n",
    "gain_repeat.shape"
   ]
  },
  {
   "cell_type": "code",
   "execution_count": 64,
   "metadata": {},
   "outputs": [
    {
     "data": {
      "text/plain": [
       "(1, 1, 11)"
      ]
     },
     "execution_count": 64,
     "metadata": {},
     "output_type": "execute_result"
    }
   ],
   "source": [
    "gain[:np.newaxis,np.newaxis].shape"
   ]
  },
  {
   "cell_type": "code",
   "execution_count": 2,
   "metadata": {},
   "outputs": [],
   "source": [
    "def gauss_phase_per_ant_time(bcal, rms_deg):\n",
    "    with table(bcal, readonly=False) as t:\n",
    "        t.putcol('FLAG', np.full_like(t.getcol('FLAG'), False))\n",
    "        shape = t.getcol('CPARAM').shape\n",
    "        phase = np.random.normal(scale=rms_deg, size=shape[0])\n",
    "        gain = np.exp(-1j * (2 * np.pi) * phase/360)\n",
    "        gain_repeat = np.repeat(gain[:,np.newaxis,np.newaxis], shape[1] * shape[2]).reshape(shape)\n",
    "        t.putcol('CPARAM', gain_repeat)"
   ]
  },
  {
   "cell_type": "code",
   "execution_count": 3,
   "metadata": {},
   "outputs": [],
   "source": [
    "import glob"
   ]
  },
  {
   "cell_type": "code",
   "execution_count": 7,
   "metadata": {},
   "outputs": [],
   "source": [
    "l = glob.glob('/lustre/yuping/2020-12-28-dsa2000-take2/1-deg-gain/*gcal')"
   ]
  },
  {
   "cell_type": "code",
   "execution_count": 8,
   "metadata": {},
   "outputs": [
    {
     "data": {
      "text/plain": [
       "['/lustre/yuping/2020-12-28-dsa2000-take2/1-deg-gain/06.ms.gcal',\n",
       " '/lustre/yuping/2020-12-28-dsa2000-take2/1-deg-gain/10.ms.gcal',\n",
       " '/lustre/yuping/2020-12-28-dsa2000-take2/1-deg-gain/12.ms.gcal',\n",
       " '/lustre/yuping/2020-12-28-dsa2000-take2/1-deg-gain/04.ms.gcal',\n",
       " '/lustre/yuping/2020-12-28-dsa2000-take2/1-deg-gain/09.ms.gcal',\n",
       " '/lustre/yuping/2020-12-28-dsa2000-take2/1-deg-gain/02.ms.gcal',\n",
       " '/lustre/yuping/2020-12-28-dsa2000-take2/1-deg-gain/13.ms.gcal',\n",
       " '/lustre/yuping/2020-12-28-dsa2000-take2/1-deg-gain/00.ms.gcal',\n",
       " '/lustre/yuping/2020-12-28-dsa2000-take2/1-deg-gain/14.ms.gcal',\n",
       " '/lustre/yuping/2020-12-28-dsa2000-take2/1-deg-gain/07.ms.gcal',\n",
       " '/lustre/yuping/2020-12-28-dsa2000-take2/1-deg-gain/01.ms.gcal',\n",
       " '/lustre/yuping/2020-12-28-dsa2000-take2/1-deg-gain/05.ms.gcal',\n",
       " '/lustre/yuping/2020-12-28-dsa2000-take2/1-deg-gain/08.ms.gcal',\n",
       " '/lustre/yuping/2020-12-28-dsa2000-take2/1-deg-gain/03.ms.gcal',\n",
       " '/lustre/yuping/2020-12-28-dsa2000-take2/1-deg-gain/11.ms.gcal']"
      ]
     },
     "execution_count": 8,
     "metadata": {},
     "output_type": "execute_result"
    }
   ],
   "source": [
    "l"
   ]
  },
  {
   "cell_type": "code",
   "execution_count": 9,
   "metadata": {},
   "outputs": [
    {
     "name": "stdout",
     "output_type": "stream",
     "text": [
      "Successful read/write open of default-locked table /lustre/yuping/2020-12-28-dsa2000-take2/1-deg-gain/06.ms.gcal: 13 columns, 8012 rows\n",
      "Successful read/write open of default-locked table /lustre/yuping/2020-12-28-dsa2000-take2/1-deg-gain/10.ms.gcal: 13 columns, 8012 rows\n",
      "Successful read/write open of default-locked table /lustre/yuping/2020-12-28-dsa2000-take2/1-deg-gain/12.ms.gcal: 13 columns, 8012 rows\n",
      "Successful read/write open of default-locked table /lustre/yuping/2020-12-28-dsa2000-take2/1-deg-gain/04.ms.gcal: 13 columns, 8012 rows\n",
      "Successful read/write open of default-locked table /lustre/yuping/2020-12-28-dsa2000-take2/1-deg-gain/09.ms.gcal: 13 columns, 8012 rows\n",
      "Successful read/write open of default-locked table /lustre/yuping/2020-12-28-dsa2000-take2/1-deg-gain/02.ms.gcal: 13 columns, 8012 rows\n",
      "Successful read/write open of default-locked table /lustre/yuping/2020-12-28-dsa2000-take2/1-deg-gain/13.ms.gcal: 13 columns, 8012 rows\n",
      "Successful read/write open of default-locked table /lustre/yuping/2020-12-28-dsa2000-take2/1-deg-gain/00.ms.gcal: 13 columns, 8012 rows\n",
      "Successful read/write open of default-locked table /lustre/yuping/2020-12-28-dsa2000-take2/1-deg-gain/14.ms.gcal: 13 columns, 8012 rows\n",
      "Successful read/write open of default-locked table /lustre/yuping/2020-12-28-dsa2000-take2/1-deg-gain/07.ms.gcal: 13 columns, 8012 rows\n",
      "Successful read/write open of default-locked table /lustre/yuping/2020-12-28-dsa2000-take2/1-deg-gain/01.ms.gcal: 13 columns, 8012 rows\n",
      "Successful read/write open of default-locked table /lustre/yuping/2020-12-28-dsa2000-take2/1-deg-gain/05.ms.gcal: 13 columns, 8012 rows\n",
      "Successful read/write open of default-locked table /lustre/yuping/2020-12-28-dsa2000-take2/1-deg-gain/08.ms.gcal: 13 columns, 8012 rows\n",
      "Successful read/write open of default-locked table /lustre/yuping/2020-12-28-dsa2000-take2/1-deg-gain/03.ms.gcal: 13 columns, 8012 rows\n",
      "Successful read/write open of default-locked table /lustre/yuping/2020-12-28-dsa2000-take2/1-deg-gain/11.ms.gcal: 13 columns, 8012 rows\n"
     ]
    }
   ],
   "source": [
    "for c in l:\n",
    "    gauss_phase_per_ant_time(c, 1)"
   ]
  },
  {
   "cell_type": "code",
   "execution_count": 83,
   "metadata": {},
   "outputs": [
    {
     "name": "stdout",
     "output_type": "stream",
     "text": [
      "Successful readonly open of default-locked table /lustre/yuping/2020-12-28-dsa2000-take2/0-1-deg-gain/07.ms.gcal: 13 columns, 8012 rows\n"
     ]
    }
   ],
   "source": [
    "tt = table('/lustre/yuping/2020-12-28-dsa2000-take2/0-1-deg-gain/07.ms.gcal')"
   ]
  },
  {
   "cell_type": "code",
   "execution_count": 84,
   "metadata": {},
   "outputs": [
    {
     "data": {
      "text/plain": [
       "array([False])"
      ]
     },
     "execution_count": 84,
     "metadata": {},
     "output_type": "execute_result"
    }
   ],
   "source": [
    "np.unique(tt.getcol('FLAG'))"
   ]
  },
  {
   "cell_type": "code",
   "execution_count": 86,
   "metadata": {},
   "outputs": [
    {
     "data": {
      "text/plain": [
       "array([[[1., 1.],\n",
       "        [1., 1.],\n",
       "        [1., 1.],\n",
       "        ...,\n",
       "        [1., 1.],\n",
       "        [1., 1.],\n",
       "        [1., 1.]],\n",
       "\n",
       "       [[1., 1.],\n",
       "        [1., 1.],\n",
       "        [1., 1.],\n",
       "        ...,\n",
       "        [1., 1.],\n",
       "        [1., 1.],\n",
       "        [1., 1.]],\n",
       "\n",
       "       [[1., 1.],\n",
       "        [1., 1.],\n",
       "        [1., 1.],\n",
       "        ...,\n",
       "        [1., 1.],\n",
       "        [1., 1.],\n",
       "        [1., 1.]],\n",
       "\n",
       "       ...,\n",
       "\n",
       "       [[1., 1.],\n",
       "        [1., 1.],\n",
       "        [1., 1.],\n",
       "        ...,\n",
       "        [1., 1.],\n",
       "        [1., 1.],\n",
       "        [1., 1.]],\n",
       "\n",
       "       [[1., 1.],\n",
       "        [1., 1.],\n",
       "        [1., 1.],\n",
       "        ...,\n",
       "        [1., 1.],\n",
       "        [1., 1.],\n",
       "        [1., 1.]],\n",
       "\n",
       "       [[1., 1.],\n",
       "        [1., 1.],\n",
       "        [1., 1.],\n",
       "        ...,\n",
       "        [1., 1.],\n",
       "        [1., 1.],\n",
       "        [1., 1.]]], dtype=float32)"
      ]
     },
     "execution_count": 86,
     "metadata": {},
     "output_type": "execute_result"
    }
   ],
   "source": [
    "np.abs(tt.getcol('CPARAM'))"
   ]
  },
  {
   "cell_type": "code",
   "execution_count": 87,
   "metadata": {},
   "outputs": [],
   "source": [
    "tt.close()"
   ]
  },
  {
   "cell_type": "code",
   "execution_count": 4,
   "metadata": {},
   "outputs": [
    {
     "name": "stdout",
     "output_type": "stream",
     "text": [
      "Successful read/write open of default-locked table /lustre/yuping/2020-12-28-dsa2000-take2/5-deg-gain/06.ms.gcal: 13 columns, 8012 rows\n",
      "Successful read/write open of default-locked table /lustre/yuping/2020-12-28-dsa2000-take2/5-deg-gain/10.ms.gcal: 13 columns, 8012 rows\n",
      "Successful read/write open of default-locked table /lustre/yuping/2020-12-28-dsa2000-take2/5-deg-gain/12.ms.gcal: 13 columns, 8012 rows\n",
      "Successful read/write open of default-locked table /lustre/yuping/2020-12-28-dsa2000-take2/5-deg-gain/04.ms.gcal: 13 columns, 8012 rows\n",
      "Successful read/write open of default-locked table /lustre/yuping/2020-12-28-dsa2000-take2/5-deg-gain/09.ms.gcal: 13 columns, 8012 rows\n",
      "Successful read/write open of default-locked table /lustre/yuping/2020-12-28-dsa2000-take2/5-deg-gain/02.ms.gcal: 13 columns, 8012 rows\n",
      "Successful read/write open of default-locked table /lustre/yuping/2020-12-28-dsa2000-take2/5-deg-gain/13.ms.gcal: 13 columns, 8012 rows\n",
      "Successful read/write open of default-locked table /lustre/yuping/2020-12-28-dsa2000-take2/5-deg-gain/00.ms.gcal: 13 columns, 8012 rows\n",
      "Successful read/write open of default-locked table /lustre/yuping/2020-12-28-dsa2000-take2/5-deg-gain/14.ms.gcal: 13 columns, 8012 rows\n",
      "Successful read/write open of default-locked table /lustre/yuping/2020-12-28-dsa2000-take2/5-deg-gain/07.ms.gcal: 13 columns, 8012 rows\n",
      "Successful read/write open of default-locked table /lustre/yuping/2020-12-28-dsa2000-take2/5-deg-gain/01.ms.gcal: 13 columns, 8012 rows\n",
      "Successful read/write open of default-locked table /lustre/yuping/2020-12-28-dsa2000-take2/5-deg-gain/05.ms.gcal: 13 columns, 8012 rows\n",
      "Successful read/write open of default-locked table /lustre/yuping/2020-12-28-dsa2000-take2/5-deg-gain/08.ms.gcal: 13 columns, 8012 rows\n",
      "Successful read/write open of default-locked table /lustre/yuping/2020-12-28-dsa2000-take2/5-deg-gain/03.ms.gcal: 13 columns, 8012 rows\n",
      "Successful read/write open of default-locked table /lustre/yuping/2020-12-28-dsa2000-take2/5-deg-gain/11.ms.gcal: 13 columns, 8012 rows\n"
     ]
    }
   ],
   "source": [
    "l = glob.glob('/lustre/yuping/2020-12-28-dsa2000-take2/5-deg-gain/*gcal')\n",
    "for c in l:\n",
    "    gauss_phase_per_ant_time(c, 5)"
   ]
  },
  {
   "cell_type": "code",
   "execution_count": 5,
   "metadata": {},
   "outputs": [
    {
     "name": "stdout",
     "output_type": "stream",
     "text": [
      "Successful read/write open of default-locked table /lustre/yuping/2020-12-28-dsa2000-take2/10-deg-gain/06.ms.gcal: 13 columns, 8012 rows\n",
      "Successful read/write open of default-locked table /lustre/yuping/2020-12-28-dsa2000-take2/10-deg-gain/10.ms.gcal: 13 columns, 8012 rows\n",
      "Successful read/write open of default-locked table /lustre/yuping/2020-12-28-dsa2000-take2/10-deg-gain/12.ms.gcal: 13 columns, 8012 rows\n",
      "Successful read/write open of default-locked table /lustre/yuping/2020-12-28-dsa2000-take2/10-deg-gain/04.ms.gcal: 13 columns, 8012 rows\n",
      "Successful read/write open of default-locked table /lustre/yuping/2020-12-28-dsa2000-take2/10-deg-gain/09.ms.gcal: 13 columns, 8012 rows\n",
      "Successful read/write open of default-locked table /lustre/yuping/2020-12-28-dsa2000-take2/10-deg-gain/02.ms.gcal: 13 columns, 8012 rows\n",
      "Successful read/write open of default-locked table /lustre/yuping/2020-12-28-dsa2000-take2/10-deg-gain/13.ms.gcal: 13 columns, 8012 rows\n",
      "Successful read/write open of default-locked table /lustre/yuping/2020-12-28-dsa2000-take2/10-deg-gain/00.ms.gcal: 13 columns, 8012 rows\n",
      "Successful read/write open of default-locked table /lustre/yuping/2020-12-28-dsa2000-take2/10-deg-gain/14.ms.gcal: 13 columns, 8012 rows\n",
      "Successful read/write open of default-locked table /lustre/yuping/2020-12-28-dsa2000-take2/10-deg-gain/07.ms.gcal: 13 columns, 8012 rows\n",
      "Successful read/write open of default-locked table /lustre/yuping/2020-12-28-dsa2000-take2/10-deg-gain/01.ms.gcal: 13 columns, 8012 rows\n",
      "Successful read/write open of default-locked table /lustre/yuping/2020-12-28-dsa2000-take2/10-deg-gain/05.ms.gcal: 13 columns, 8012 rows\n",
      "Successful read/write open of default-locked table /lustre/yuping/2020-12-28-dsa2000-take2/10-deg-gain/08.ms.gcal: 13 columns, 8012 rows\n",
      "Successful read/write open of default-locked table /lustre/yuping/2020-12-28-dsa2000-take2/10-deg-gain/03.ms.gcal: 13 columns, 8012 rows\n",
      "Successful read/write open of default-locked table /lustre/yuping/2020-12-28-dsa2000-take2/10-deg-gain/11.ms.gcal: 13 columns, 8012 rows\n"
     ]
    }
   ],
   "source": [
    "l = glob.glob('/lustre/yuping/2020-12-28-dsa2000-take2/10-deg-gain/*gcal')\n",
    "for c in l:\n",
    "    gauss_phase_per_ant_time(c, 10)"
   ]
  },
  {
   "cell_type": "markdown",
   "metadata": {},
   "source": [
    "# 20210505 make test data for calibration"
   ]
  },
  {
   "cell_type": "code",
   "execution_count": 3,
   "metadata": {},
   "outputs": [
    {
     "name": "stdout",
     "output_type": "stream",
     "text": [
      "Successful read/write open of default-locked table /safepool/data/20210226M-1chan-1int.bcal: 13 columns, 2048 rows\n"
     ]
    }
   ],
   "source": [
    "gauss_phase_per_ant_time('/safepool/data/20210226M-1chan-1int.bcal', 1.)"
   ]
  },
  {
   "cell_type": "code",
   "execution_count": 3,
   "metadata": {},
   "outputs": [],
   "source": [
    "applycal(vis='/safepool/data/20210226M-1350MHz-1chan-1int-1deg.ms',\n",
    "         gaintable='/safepool/data/20210226M-1chan-1int.bcal', flagbackup=False, applymode='calonly')"
   ]
  },
  {
   "cell_type": "markdown",
   "metadata": {},
   "source": [
    "Then copy the corrected_data column to data, and remove extra columns."
   ]
  },
  {
   "cell_type": "code",
   "execution_count": 4,
   "metadata": {},
   "outputs": [],
   "source": [
    "from casacore import tables"
   ]
  },
  {
   "cell_type": "code",
   "execution_count": 6,
   "metadata": {},
   "outputs": [
    {
     "data": {
      "text/plain": [
       "<function casacore.tables.msutil.removeImagingColumns(msname)>"
      ]
     },
     "execution_count": 6,
     "metadata": {},
     "output_type": "execute_result"
    }
   ],
   "source": [
    "tables.removeImagingColumns"
   ]
  },
  {
   "cell_type": "code",
   "execution_count": 7,
   "metadata": {},
   "outputs": [],
   "source": [
    "def copy_and_cleanup(ms, source_col='MODEL_DATA'):\n",
    "    with table(ms, readonly=False) as t:\n",
    "        d = t.getcol(source_col)\n",
    "        t.putcol('DATA', d)\n",
    "    tables.removeImagingColumns(ms)"
   ]
  },
  {
   "cell_type": "code",
   "execution_count": 8,
   "metadata": {},
   "outputs": [
    {
     "name": "stdout",
     "output_type": "stream",
     "text": [
      "Successful read/write open of default-locked table /safepool/data/20210226M-1350MHz-1chan-1int-1deg.ms: 23 columns, 2096128 rows\n"
     ]
    }
   ],
   "source": [
    "copy_and_cleanup('/safepool/data/20210226M-1350MHz-1chan-1int-1deg.ms', source_col='CORRECTED_DATA')"
   ]
  },
  {
   "cell_type": "code",
   "execution_count": null,
   "metadata": {},
   "outputs": [],
   "source": [
    "def add_noise(ms, rms):\n",
    "    with table(ms, readonly=False) as t:\n",
    "        d = t.getcol('DATA')\n",
    "        noise = np.random.normal(scale=rms, size=d.shape)\n",
    "        d = d + noise\n",
    "        "
   ]
  },
  {
   "cell_type": "code",
   "execution_count": 19,
   "metadata": {},
   "outputs": [],
   "source": [
    "n = 10\n",
    "z = np.random.normal(scale=1, size=(n, n, 2)).view(np.complex128)"
   ]
  },
  {
   "cell_type": "code",
   "execution_count": 20,
   "metadata": {},
   "outputs": [
    {
     "data": {
      "text/plain": [
       "(10, 10, 1)"
      ]
     },
     "execution_count": 20,
     "metadata": {},
     "output_type": "execute_result"
    }
   ],
   "source": [
    "z.shape"
   ]
  },
  {
   "cell_type": "code",
   "execution_count": 23,
   "metadata": {},
   "outputs": [
    {
     "name": "stdout",
     "output_type": "stream",
     "text": [
      "Successful readonly open of default-locked table /safepool/data/20210226M-1350MHz-1chan-1int-1deg.ms: 22 columns, 2096128 rows\n",
      "complex64\n"
     ]
    }
   ],
   "source": [
    "with table('/safepool/data/20210226M-1350MHz-1chan-1int-1deg.ms') as t:\n",
    "    d = t.getcol('DATA')\n",
    "    print(d.dtype)"
   ]
  },
  {
   "cell_type": "code",
   "execution_count": 25,
   "metadata": {},
   "outputs": [],
   "source": [
    "z.astype(np.complex64);"
   ]
  },
  {
   "cell_type": "code",
   "execution_count": null,
   "metadata": {},
   "outputs": [],
   "source": []
  }
 ],
 "metadata": {
  "kernelspec": {
   "display_name": "casa-env",
   "language": "python",
   "name": "casa-env"
  },
  "language_info": {
   "codemirror_mode": {
    "name": "ipython",
    "version": 3
   },
   "file_extension": ".py",
   "mimetype": "text/x-python",
   "name": "python",
   "nbconvert_exporter": "python",
   "pygments_lexer": "ipython3",
   "version": "3.6.3"
  }
 },
 "nbformat": 4,
 "nbformat_minor": 4
}
