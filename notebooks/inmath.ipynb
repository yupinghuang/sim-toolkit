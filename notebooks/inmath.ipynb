{
 "cells": [
  {
   "cell_type": "code",
   "execution_count": 1,
   "metadata": {},
   "outputs": [],
   "source": [
    "from astropy.io import fits"
   ]
  },
  {
   "cell_type": "code",
   "execution_count": 3,
   "metadata": {},
   "outputs": [],
   "source": [
    "hdul_orig = fits.open('/lustre/yuping/2020-12-28-dsa2000-take2/130chan_60x15s_bright/bright-60x15s-dirty.fits')\n",
    "hdul_corrupted = fits.open('/lustre/yuping/2020-12-28-dsa2000-take2/130chan_60x15s_bright/bright-60x15s-corrupted-dirty.fits')\n",
    "noise = fits.open('/lustre/yuping/2020-12-28-dsa2000-take2/130chan_60x15s/briggs-noise-dirty.fits')"
   ]
  },
  {
   "cell_type": "code",
   "execution_count": 20,
   "metadata": {},
   "outputs": [
    {
     "data": {
      "text/plain": [
       "(1, 1, 3000, 3000)"
      ]
     },
     "execution_count": 20,
     "metadata": {},
     "output_type": "execute_result"
    }
   ],
   "source": [
    "hdul_orig[0].data.shape"
   ]
  },
  {
   "cell_type": "code",
   "execution_count": 6,
   "metadata": {},
   "outputs": [
    {
     "data": {
      "text/plain": [
       "(1, 1, 2500, 2500)"
      ]
     },
     "execution_count": 6,
     "metadata": {},
     "output_type": "execute_result"
    }
   ],
   "source": [
    "hdul_corrupted[0].data.shape"
   ]
  },
  {
   "cell_type": "code",
   "execution_count": 7,
   "metadata": {},
   "outputs": [
    {
     "data": {
      "text/plain": [
       "(1, 1, 3000, 3000)"
      ]
     },
     "execution_count": 7,
     "metadata": {},
     "output_type": "execute_result"
    }
   ],
   "source": [
    "diff = hdul_corrupted[0].data - hdul_orig[0].data[:, :, 250:-250, 250:-250]\n",
    "hdul_orig[0].data.shape"
   ]
  },
  {
   "cell_type": "code",
   "execution_count": 8,
   "metadata": {},
   "outputs": [
    {
     "data": {
      "text/plain": [
       "(1, 1, 4096, 4096)"
      ]
     },
     "execution_count": 8,
     "metadata": {},
     "output_type": "execute_result"
    }
   ],
   "source": [
    "noise[0].data.shape"
   ]
  },
  {
   "cell_type": "code",
   "execution_count": 9,
   "metadata": {},
   "outputs": [],
   "source": [
    "fits.ImageHDU(header=hdul_corrupted[0].header, data=diff).writeto('/lustre/yuping/2020-12-28-dsa2000-take2/130chan_60x15s_bright/bright-60x15s-diff.fits')"
   ]
  },
  {
   "cell_type": "code",
   "execution_count": 9,
   "metadata": {},
   "outputs": [
    {
     "data": {
      "text/plain": [
       "(1, 1, 2400, 2400)"
      ]
     },
     "execution_count": 9,
     "metadata": {},
     "output_type": "execute_result"
    }
   ],
   "source": [
    "diff.shape"
   ]
  },
  {
   "cell_type": "code",
   "execution_count": 10,
   "metadata": {},
   "outputs": [
    {
     "data": {
      "text/plain": [
       "(1, 1, 2500, 2500)"
      ]
     },
     "execution_count": 10,
     "metadata": {},
     "output_type": "execute_result"
    }
   ],
   "source": [
    "hdul_corrupted[0].data.shape"
   ]
  },
  {
   "cell_type": "code",
   "execution_count": 11,
   "metadata": {},
   "outputs": [
    {
     "data": {
      "text/plain": [
       "(1, 1, 4096, 4096)"
      ]
     },
     "execution_count": 11,
     "metadata": {},
     "output_type": "execute_result"
    }
   ],
   "source": [
    "noise[0].data.shape"
   ]
  },
  {
   "cell_type": "code",
   "execution_count": 15,
   "metadata": {},
   "outputs": [
    {
     "data": {
      "text/plain": [
       "548"
      ]
     },
     "execution_count": 15,
     "metadata": {},
     "output_type": "execute_result"
    }
   ],
   "source": [
    "(4096 - 3000)//2"
   ]
  },
  {
   "cell_type": "code",
   "execution_count": 16,
   "metadata": {},
   "outputs": [],
   "source": [
    "hdul_orig[0].data = hdul_orig[0].data + noise[0].data[:, :, 548:-548, 548:-548]"
   ]
  },
  {
   "cell_type": "code",
   "execution_count": 14,
   "metadata": {},
   "outputs": [],
   "source": [
    "hdul_corrupted[0].data = hdul_corrupted[0].data + noise[0].data[:, :, 798:-798, 798:-798]"
   ]
  },
  {
   "cell_type": "code",
   "execution_count": 17,
   "metadata": {},
   "outputs": [],
   "source": [
    "fits.ImageHDU(header=hdul_corrupted[0].header, data=diff+noise[0].data[:, :, 798:-798, 798:-798]).writeto('/lustre/yuping/2020-12-28-dsa2000-take2/130chan_60x15s_bright/bright-60x15s-diff-noise.fits')"
   ]
  },
  {
   "cell_type": "code",
   "execution_count": 18,
   "metadata": {},
   "outputs": [],
   "source": [
    "hdul_orig.writeto('/lustre/yuping/2020-12-28-dsa2000-take2/130chan_60x15s_bright/bright-60x15s-with-noise.fits')"
   ]
  },
  {
   "cell_type": "code",
   "execution_count": 19,
   "metadata": {},
   "outputs": [],
   "source": [
    "hdul_corrupted.writeto('/lustre/yuping/2020-12-28-dsa2000-take2/130chan_60x15s_bright/bright-60x15s-corrupted-with-noise.fits')"
   ]
  },
  {
   "cell_type": "markdown",
   "metadata": {},
   "source": [
    "# now crop PSF..."
   ]
  },
  {
   "cell_type": "code",
   "execution_count": 2,
   "metadata": {},
   "outputs": [],
   "source": [
    "from astropy.io import fits\n",
    "from astropy.nddata import Cutout2D\n",
    "from astropy.wcs import WCS"
   ]
  },
  {
   "cell_type": "code",
   "execution_count": 3,
   "metadata": {},
   "outputs": [],
   "source": [
    "hdu = fits.open('/lustre/yuping/2020-12-28-dsa2000-take2/130chan_60x15s_bright/brigg-0-5000-psf.fits')[0]"
   ]
  },
  {
   "cell_type": "code",
   "execution_count": 7,
   "metadata": {},
   "outputs": [],
   "source": [
    "wcs=WCS(hdu.header)"
   ]
  },
  {
   "cell_type": "code",
   "execution_count": 4,
   "metadata": {},
   "outputs": [
    {
     "data": {
      "text/plain": [
       "(1, 1, 5000, 5000)"
      ]
     },
     "execution_count": 4,
     "metadata": {},
     "output_type": "execute_result"
    }
   ],
   "source": [
    "hdu.data.shape"
   ]
  },
  {
   "cell_type": "code",
   "execution_count": 14,
   "metadata": {},
   "outputs": [],
   "source": [
    "cutout = Cutout2D(hdu.data[0][0], position=(2501, 2501), size=3000)"
   ]
  },
  {
   "cell_type": "code",
   "execution_count": 15,
   "metadata": {},
   "outputs": [
    {
     "data": {
      "text/plain": [
       "(3000, 3000)"
      ]
     },
     "execution_count": 15,
     "metadata": {},
     "output_type": "execute_result"
    }
   ],
   "source": [
    "cutout.data.shape"
   ]
  },
  {
   "cell_type": "code",
   "execution_count": 17,
   "metadata": {},
   "outputs": [
    {
     "data": {
      "text/plain": [
       "1.0"
      ]
     },
     "execution_count": 17,
     "metadata": {},
     "output_type": "execute_result"
    }
   ],
   "source": [
    "cutout.data[1499,1499]"
   ]
  },
  {
   "cell_type": "code",
   "execution_count": 18,
   "metadata": {},
   "outputs": [],
   "source": [
    "hdu.header['NAXIS1'] = 3000\n",
    "hdu.header['NAXIS2'] = 3000\n",
    "hdu.header['CRPIX1'] = 1501\n",
    "hdu.header['CRPIX2'] = 1501"
   ]
  },
  {
   "cell_type": "code",
   "execution_count": 19,
   "metadata": {},
   "outputs": [
    {
     "data": {
      "text/plain": [
       "SIMPLE  =                    T / file does conform to FITS standard             \n",
       "BITPIX  =                  -32 / number of bits per data pixel                  \n",
       "NAXIS   =                    4 / number of data axes                            \n",
       "NAXIS1  =                 3000 / length of data axis 1                          \n",
       "NAXIS2  =                 3000 / length of data axis 2                          \n",
       "NAXIS3  =                    1 / length of data axis 3                          \n",
       "NAXIS4  =                    1 / length of data axis 4                          \n",
       "EXTEND  =                    T / FITS dataset may contain extensions            \n",
       "COMMENT   FITS (Flexible Image Transport System) format is defined in 'Astronomy\n",
       "COMMENT   and Astrophysics', volume 376, page 359; bibcode: 2001A&A...376..359H \n",
       "BSCALE  =                   1.                                                  \n",
       "BZERO   =                   0.                                                  \n",
       "BUNIT   = 'JY/BEAM '           / Units are in Jansky per beam                   \n",
       "BMAJ    = 0.000968709451312217                                                  \n",
       "BMIN    =  0.00095627664915682                                                  \n",
       "BPA     =      70.533213988229                                                  \n",
       "EQUINOX =                2000. / J2000                                          \n",
       "BTYPE   = 'Intensity'                                                           \n",
       "TELESCOP= 'ovro_mma'                                                            \n",
       "OBSERVER= 'CASA simulator'                                                      \n",
       "OBJECT  = 'source  '                                                            \n",
       "ORIGIN  = 'WSClean '           / W-stacking imager written by Andre Offringa    \n",
       "CTYPE1  = 'RA---SIN'           / Right ascension angle cosine                   \n",
       "CRPIX1  =                 1501                                                  \n",
       "CRVAL1  =                   0.                                                  \n",
       "CDELT1  = -0.000138888888888889                                                 \n",
       "CUNIT1  = 'deg     '                                                            \n",
       "CTYPE2  = 'DEC--SIN'           / Declination angle cosine                       \n",
       "CRPIX2  =                 1501                                                  \n",
       "CRVAL2  =     37.1298333333333                                                  \n",
       "CDELT2  = 0.000138888888888889                                                  \n",
       "CUNIT2  = 'deg     '                                                            \n",
       "CTYPE3  = 'FREQ    '           / Central frequency                              \n",
       "CRPIX3  =                   1.                                                  \n",
       "CRVAL3  =          1345000000.                                                  \n",
       "CDELT3  =          1300000000.                                                  \n",
       "CUNIT3  = 'Hz      '                                                            \n",
       "CTYPE4  = 'STOKES  '                                                            \n",
       "CRPIX4  =                   1.                                                  \n",
       "CRVAL4  =                   1.                                                  \n",
       "CDELT4  =                   1.                                                  \n",
       "CUNIT4  = '        '                                                            \n",
       "SPECSYS = 'TOPOCENT'                                                            \n",
       "DATE-OBS= '2019-03-19T19:58:22.3'                                               \n",
       "WSCDATAC= 'CORRECTED_DATA'                                                      \n",
       "WSCVDATE= '2020-03-27'                                                          \n",
       "WSCVERSI= '2.9.0   '                                                            \n",
       "WSCWEIGH= 'Briggs''(0)'                                                         \n",
       "WSCENVIS=     3397211322.18679                                                  \n",
       "WSCFIELD=                   0.                                                  \n",
       "WSCGAIN =                  0.1                                                  \n",
       "WSCGKRNL=                   7.                                                  \n",
       "WSCIMGWG=     13587490320.2541                                                  \n",
       "WSCMGAIN=                   1.                                                  \n",
       "WSCNEGCM=                   1.                                                  \n",
       "WSCNEGST=                   0.                                                  \n",
       "WSCNITER=                   0.                                                  \n",
       "WSCNORMF=     13587490320.2541                                                  \n",
       "WSCNVIS =         15580114160.                                                  \n",
       "WSCNWLAY=                   1.                                                  \n",
       "WSCTHRES=                   0.                                                  \n",
       "WSCVWSUM=         62320456640.                                                  \n",
       "HISTORY wsclean -no-update-model-required -niter 0 -size 5000 5000 -nwlayers 1 -\n",
       "HISTORY scale 0.5asec -weight briggs 0 -make-psf-only -name brigg-0-5000 00.ms 0\n",
       "HISTORY 1.ms 02.ms 03.ms 04.ms 05.ms 06.ms 07.ms 08.ms 09.ms 10.ms 11.ms 12.ms 1\n",
       "HISTORY 3.ms 14.ms                                                              "
      ]
     },
     "execution_count": 19,
     "metadata": {},
     "output_type": "execute_result"
    }
   ],
   "source": [
    "hdu.header"
   ]
  },
  {
   "cell_type": "code",
   "execution_count": 20,
   "metadata": {},
   "outputs": [],
   "source": [
    "hdu.data = cutout.data"
   ]
  },
  {
   "cell_type": "code",
   "execution_count": 23,
   "metadata": {},
   "outputs": [],
   "source": [
    "hdu.writeto('/lustre/yuping/2020-12-28-dsa2000-take2/130chan_60x15s_bright/briggs0-psf-3000x3000.fits')"
   ]
  },
  {
   "cell_type": "code",
   "execution_count": null,
   "metadata": {},
   "outputs": [],
   "source": [
    "hdu.writeto"
   ]
  }
 ],
 "metadata": {
  "kernelspec": {
   "display_name": "casacore",
   "language": "python",
   "name": "casacore"
  },
  "language_info": {
   "codemirror_mode": {
    "name": "ipython",
    "version": 3
   },
   "file_extension": ".py",
   "mimetype": "text/x-python",
   "name": "python",
   "nbconvert_exporter": "python",
   "pygments_lexer": "ipython3",
   "version": "3.6.10"
  }
 },
 "nbformat": 4,
 "nbformat_minor": 4
}
