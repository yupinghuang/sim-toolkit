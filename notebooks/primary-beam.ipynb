{
 "cells": [
  {
   "cell_type": "markdown",
   "id": "prescribed-welding",
   "metadata": {},
   "source": [
    "# Beam Simulations\n",
    "Getting started with notes from James Lamb."
   ]
  },
  {
   "cell_type": "code",
   "execution_count": 1,
   "id": "realistic-costa",
   "metadata": {},
   "outputs": [],
   "source": [
    "import numpy as np\n",
    "import matplotlib.pyplot as plt\n",
    "from numpy import fft"
   ]
  },
  {
   "cell_type": "markdown",
   "id": "three-edinburgh",
   "metadata": {},
   "source": [
    "## Start with 1.35 GHz, ideal beam."
   ]
  },
  {
   "cell_type": "markdown",
   "id": "crazy-drawing",
   "metadata": {},
   "source": [
    "### Note on various sizes\n",
    "EXTENT_M is the extent of the illumination pattern grid in meters. This controls the E beam spatial resolution.\n"
   ]
  },
  {
   "cell_type": "code",
   "execution_count": 2,
   "id": "homeless-month",
   "metadata": {},
   "outputs": [],
   "source": [
    "coeffs = np.array([0.41014, 0.09540, -0.27752, 0.17076, -0.05474, 0.00988, -0.00095])"
   ]
  },
  {
   "cell_type": "code",
   "execution_count": 1,
   "id": "interesting-entertainment",
   "metadata": {},
   "outputs": [],
   "source": [
    "EXTENT_M = 250\n",
    "GRID_SIZE = 1000\n",
    "LAMBD = 3e8/1.35e9\n",
    "DIAM_M = 5"
   ]
  },
  {
   "cell_type": "code",
   "execution_count": 3,
   "id": "elect-arctic",
   "metadata": {},
   "outputs": [],
   "source": [
    "grid_cell = EXTENT_M / (GRID_SIZE//2)"
   ]
  },
  {
   "cell_type": "code",
   "execution_count": 5,
   "id": "juvenile-assessment",
   "metadata": {},
   "outputs": [],
   "source": [
    "ea_grid_m = np.meshgrid(np.linspace(-DIAM_M, DIAM_M, num=GRID_SIZE + 1), np.linspace(-DIAM_M, DIAM_M, num=GRID_SIZE + 1))\n",
    "ea_grid = np.sum(np.power(np.sqrt(ea_grid_m[0][:-1, :-1]**2 + ea_grid_m[1][:-1, :-1]**2), np.arange(1, len(coeffs) + 1)[:,np.newaxis, np.newaxis]), axis=0)\n",
    "ea_grid[np.sqrt(ea_grid_m[0][:-1,:-1]**2 + ea_grid_m[1][:-1, :-1]**2) > 5] = 0"
   ]
  },
  {
   "cell_type": "code",
   "execution_count": 6,
   "id": "governing-brain",
   "metadata": {},
   "outputs": [
    {
     "data": {
      "application/vnd.jupyter.widget-view+json": {
       "model_id": "8c9a4d6496e94279947ab9c3b6097612",
       "version_major": 2,
       "version_minor": 0
      },
      "text/plain": [
       "Canvas(toolbar=Toolbar(toolitems=[('Home', 'Reset original view', 'home', 'home'), ('Back', 'Back to previous …"
      ]
     },
     "metadata": {},
     "output_type": "display_data"
    },
    {
     "name": "stderr",
     "output_type": "stream",
     "text": [
      "<ipython-input-6-bf2664f5b7b3>:4: RuntimeWarning: divide by zero encountered in log10\n",
      "  p = ax.pcolor(ea_grid_m[0], ea_grid_m[1], np.log10(ea_grid))\n"
     ]
    },
    {
     "data": {
      "text/plain": [
       "<matplotlib.colorbar.Colorbar at 0x7f585805a070>"
      ]
     },
     "execution_count": 6,
     "metadata": {},
     "output_type": "execute_result"
    }
   ],
   "source": [
    "%matplotlib widget\n",
    "fig, ax = plt.subplots()\n",
    "ax.set_aspect(1)\n",
    "p = ax.pcolor(ea_grid_m[0], ea_grid_m[1], np.log10(ea_grid))\n",
    "ax.set_xlabel('X (m)')\n",
    "ax.set_ylabel('y (m)')\n",
    "ax.set_title('Antenna Illumination electric field (Ea)')\n",
    "fig.colorbar(p)"
   ]
  },
  {
   "cell_type": "markdown",
   "id": "1a8c5277-b0da-4aea-8ca4-ab683bad1a61",
   "metadata": {},
   "source": [
    "Zero pad and then FFT"
   ]
  },
  {
   "cell_type": "code",
   "execution_count": null,
   "id": "9563b645-314e-45cb-8fa4-5053f94b8741",
   "metadata": {},
   "outputs": [],
   "source": [
    "def to_beam(illum, extent_m):\n",
    "    pad_size = (GRID_SIZE - illum.shape[0]) // 2\n",
    "    illum_padded = np.pad(illum, pad_size)\n",
    "    assert GRID_SIZE == illum_padde.shape[0], ''\n",
    "    beam = fft.fft2(illum_padded)\n",
    "    f = fft.fftfreq(GRID_SIZE, grid_cell/(2 * np.pi * LAMBD))\n",
    "    freqs = fft.fftshift(np.meshgrid(f, f))\n",
    "    return freqs, beam"
   ]
  },
  {
   "cell_type": "code",
   "execution_count": 10,
   "id": "virtual-magic",
   "metadata": {},
   "outputs": [],
   "source": [
    "freqs, e_beam = to_beam(ea_grid,  "
   ]
  },
  {
   "cell_type": "code",
   "execution_count": 16,
   "id": "exterior-panic",
   "metadata": {},
   "outputs": [],
   "source": [
    "ft_grid = fft.fftshift(np.meshgrid(freqs, freqs))"
   ]
  },
  {
   "cell_type": "code",
   "execution_count": 13,
   "id": "romantic-modification",
   "metadata": {},
   "outputs": [],
   "source": [
    "mfreq = freqs.max() * 57.2958"
   ]
  },
  {
   "cell_type": "code",
   "execution_count": 14,
   "id": "phantom-match",
   "metadata": {},
   "outputs": [],
   "source": [
    "#d1 = np.argsort(freqs)\n",
    "#d2 = np.argsort(freqs)"
   ]
  },
  {
   "cell_type": "code",
   "execution_count": 32,
   "id": "norwegian-theory",
   "metadata": {},
   "outputs": [
    {
     "data": {
      "application/vnd.jupyter.widget-view+json": {
       "model_id": "4cca1a25f9d44a34907a8b6c187b22c4",
       "version_major": 2,
       "version_minor": 0
      },
      "text/plain": [
       "Canvas(toolbar=Toolbar(toolitems=[('Home', 'Reset original view', 'home', 'home'), ('Back', 'Back to previous …"
      ]
     },
     "metadata": {},
     "output_type": "display_data"
    },
    {
     "data": {
      "text/plain": [
       "<matplotlib.colorbar.Colorbar at 0x7f58560677c0>"
      ]
     },
     "execution_count": 32,
     "metadata": {},
     "output_type": "execute_result"
    }
   ],
   "source": [
    "%matplotlib widget\n",
    "fig, ax = plt.subplots()\n",
    "plt.imshow(np.abs(e_beam), extent=[-mfreq, mfreq, -mfreq, mfreq])\n",
    "ax.set_xlabel('deg')\n",
    "ax.set_ylabel('deg')\n",
    "ax.set_title('Far-field electric field (E)')\n",
    "plt.colorbar()"
   ]
  },
  {
   "cell_type": "code",
   "execution_count": 31,
   "id": "descending-holly",
   "metadata": {},
   "outputs": [
    {
     "data": {
      "application/vnd.jupyter.widget-view+json": {
       "model_id": "6221f30f586349f19a97a8b87df82d63",
       "version_major": 2,
       "version_minor": 0
      },
      "text/plain": [
       "Canvas(toolbar=Toolbar(toolitems=[('Home', 'Reset original view', 'home', 'home'), ('Back', 'Back to previous …"
      ]
     },
     "metadata": {},
     "output_type": "display_data"
    },
    {
     "data": {
      "text/plain": [
       "Text(0.5, 1.0, 'Far-field electric field (E)')"
      ]
     },
     "execution_count": 31,
     "metadata": {},
     "output_type": "execute_result"
    }
   ],
   "source": [
    "%matplotlib widget\n",
    "# the arctan gives the angle and avoids the 0-pi confusion.\n",
    "plt.imshow(np.arctan((e_beam.imag/e_beam.real)), extent=[-mfreq, mfreq, -mfreq, mfreq])\n",
    "plt.colorbar()\n",
    "ax.set_xlabel('deg')\n",
    "ax.set_ylabel('deg')\n",
    "ax.set_title('Far-field electric field (E)')"
   ]
  },
  {
   "cell_type": "markdown",
   "id": "ffa1e371-1871-4415-b8d7-1af5177456a9",
   "metadata": {},
   "source": [
    "## All the extra phase stuff\n",
    "For everything else, I should be able to imprint an extra phase $\\theta(x,y)=\\Delta p(x,y)$ on the illumination pattern, and then FT."
   ]
  },
  {
   "cell_type": "markdown",
   "id": "6e823cf6-3407-4ed6-82f4-77784c23afdc",
   "metadata": {},
   "source": [
    "#### Surface error"
   ]
  },
  {
   "cell_type": "code",
   "execution_count": null,
   "id": "9d88fbb0-1f9b-4a98-89b8-14cbee3d1391",
   "metadata": {},
   "outputs": [],
   "source": []
  },
  {
   "cell_type": "markdown",
   "id": "indie-benchmark",
   "metadata": {
    "jp-MarkdownHeadingCollapsed": true,
    "tags": []
   },
   "source": [
    "# Fitting the power beam"
   ]
  },
  {
   "cell_type": "code",
   "execution_count": 16,
   "id": "hazardous-instruction",
   "metadata": {},
   "outputs": [],
   "source": [
    "from scipy import optimize\n",
    "def gaussian(height, center_x, center_y, width_x, width_y):\n",
    "    \"\"\"Returns a gaussian function with the given parameters\"\"\"\n",
    "    width_x = float(width_x)\n",
    "    width_y = float(width_y)\n",
    "    return lambda x,y: height*np.exp(\n",
    "                -(((center_x-x)/width_x)**2+((center_y-y)/width_y)**2)/2)\n",
    "\n",
    "def moments(data):\n",
    "    \"\"\"Returns (height, x, y, width_x, width_y)\n",
    "    the gaussian parameters of a 2D distribution by calculating its\n",
    "    moments \"\"\"\n",
    "    total = data.sum()\n",
    "    X, Y = np.indices(data.shape)\n",
    "    x = (X*data).sum()/total\n",
    "    y = (Y*data).sum()/total\n",
    "    col = data[:, int(y)]\n",
    "    width_x = np.sqrt(np.abs((np.arange(col.size)-x)**2*col).sum()/col.sum())\n",
    "    row = data[int(x), :]\n",
    "    width_y = np.sqrt(np.abs((np.arange(row.size)-y)**2*row).sum()/row.sum())\n",
    "    height = data.max()\n",
    "    return height, x, y, width_x, width_y\n",
    "\n",
    "def fitgaussian(data):\n",
    "    \"\"\"Returns (height, x, y, width_x, width_y)\n",
    "    the gaussian parameters of a 2D distribution found by a fit\"\"\"\n",
    "    params = moments(data)\n",
    "    errorfunction = lambda p: np.ravel(gaussian(*p)(*np.indices(data.shape)) -\n",
    "                                 data)\n",
    "    p, success = optimize.leastsq(errorfunction, params)\n",
    "    return p"
   ]
  },
  {
   "cell_type": "code",
   "execution_count": 26,
   "id": "proved-receiver",
   "metadata": {},
   "outputs": [],
   "source": [
    "data = amp[d1][:,d2][450:550, 450:550] ** 2"
   ]
  },
  {
   "cell_type": "code",
   "execution_count": 27,
   "id": "collective-league",
   "metadata": {},
   "outputs": [],
   "source": [
    "params = fitgaussian(data)"
   ]
  },
  {
   "cell_type": "code",
   "execution_count": 28,
   "id": "powered-absorption",
   "metadata": {},
   "outputs": [
    {
     "data": {
      "text/plain": [
       "array([3.76035193e+11, 4.99989148e+01, 4.99989148e+01, 1.37405372e+01,\n",
       "       1.37405372e+01])"
      ]
     },
     "execution_count": 28,
     "metadata": {},
     "output_type": "execute_result"
    }
   ],
   "source": [
    "params"
   ]
  },
  {
   "cell_type": "code",
   "execution_count": 29,
   "id": "gothic-fluid",
   "metadata": {},
   "outputs": [
    {
     "data": {
      "text/plain": [
       "(1000, 1000)"
      ]
     },
     "execution_count": 29,
     "metadata": {},
     "output_type": "execute_result"
    }
   ],
   "source": [
    "amp.shape"
   ]
  },
  {
   "cell_type": "code",
   "execution_count": 34,
   "id": "skilled-blair",
   "metadata": {},
   "outputs": [
    {
     "data": {
      "application/vnd.jupyter.widget-view+json": {
       "model_id": "77302e8f56eb4ce1b7c503eeebdc5b8d",
       "version_major": 2,
       "version_minor": 0
      },
      "text/plain": [
       "Canvas(toolbar=Toolbar(toolitems=[('Home', 'Reset original view', 'home', 'home'), ('Back', 'Back to previous …"
      ]
     },
     "metadata": {},
     "output_type": "display_data"
    },
    {
     "data": {
      "text/plain": [
       "<matplotlib.colorbar.Colorbar at 0x7f5eb75c9e20>"
      ]
     },
     "execution_count": 34,
     "metadata": {},
     "output_type": "execute_result"
    }
   ],
   "source": [
    "%matplotlib widget\n",
    "fit = gaussian(*params)\n",
    "plt.imshow(data)\n",
    "plt.contour(fit(*np.indices(data.shape)), cmap=plt.cm.copper)\n",
    "plt.colorbar()"
   ]
  },
  {
   "cell_type": "code",
   "execution_count": 31,
   "id": "overhead-confidentiality",
   "metadata": {},
   "outputs": [
    {
     "data": {
      "text/plain": [
       "2.198486737514539"
      ]
     },
     "execution_count": 31,
     "metadata": {},
     "output_type": "execute_result"
    }
   ],
   "source": [
    "params[3] * freqs[1] * 57.2958"
   ]
  },
  {
   "cell_type": "code",
   "execution_count": 35,
   "id": "bridal-summary",
   "metadata": {},
   "outputs": [
    {
     "data": {
      "text/plain": [
       "(100, 100)"
      ]
     },
     "execution_count": 35,
     "metadata": {},
     "output_type": "execute_result"
    }
   ],
   "source": [
    "data.shape"
   ]
  },
  {
   "cell_type": "code",
   "execution_count": 41,
   "id": "another-insert",
   "metadata": {},
   "outputs": [
    {
     "data": {
      "application/vnd.jupyter.widget-view+json": {
       "model_id": "4180aefc90d64de0b9b0d35737ef135b",
       "version_major": 2,
       "version_minor": 0
      },
      "text/plain": [
       "Canvas(toolbar=Toolbar(toolitems=[('Home', 'Reset original view', 'home', 'home'), ('Back', 'Back to previous …"
      ]
     },
     "metadata": {},
     "output_type": "display_data"
    },
    {
     "data": {
      "text/plain": [
       "Text(0, 0.5, 'Normalized Power')"
      ]
     },
     "execution_count": 41,
     "metadata": {},
     "output_type": "execute_result"
    }
   ],
   "source": [
    "%matplotlib widget\n",
    "plt.plot(np.linspace(-50, 50, 100) * freqs[1] * 57.2958, data[data.shape[0]//2,:]/data[data.shape[0]//2,:].max())\n",
    "plt.grid()\n",
    "plt.xlabel('deg')\n",
    "plt.ylabel('Normalized Power')"
   ]
  },
  {
   "cell_type": "code",
   "execution_count": null,
   "id": "automated-destiny",
   "metadata": {},
   "outputs": [],
   "source": []
  }
 ],
 "metadata": {
  "kernelspec": {
   "display_name": "frank",
   "language": "python",
   "name": "frank"
  },
  "language_info": {
   "codemirror_mode": {
    "name": "ipython",
    "version": 3
   },
   "file_extension": ".py",
   "mimetype": "text/x-python",
   "name": "python",
   "nbconvert_exporter": "python",
   "pygments_lexer": "ipython3",
   "version": "3.8.5"
  }
 },
 "nbformat": 4,
 "nbformat_minor": 5
}
