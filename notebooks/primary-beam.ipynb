{
 "cells": [
  {
   "cell_type": "markdown",
   "id": "heated-capitol",
   "metadata": {},
   "source": [
    "# Beam Simulations\n",
    "Getting started with notes from James Lamb.\n",
    "\n",
    "Let me start with 1.35 GHz."
   ]
  },
  {
   "cell_type": "code",
   "execution_count": 166,
   "id": "italian-choir",
   "metadata": {},
   "outputs": [],
   "source": [
    "import numpy as np\n",
    "import matplotlib.pyplot as plt"
   ]
  },
  {
   "cell_type": "code",
   "execution_count": 167,
   "id": "smaller-culture",
   "metadata": {},
   "outputs": [],
   "source": [
    "coeffs = np.array([0.41014, 0.09540, -0.27752, 0.17076, -0.05474, 0.00988, -0.00095])"
   ]
  },
  {
   "cell_type": "code",
   "execution_count": 168,
   "id": "distant-egypt",
   "metadata": {},
   "outputs": [],
   "source": [
    "r_m = np.linspace(0, 50, num=100)"
   ]
  },
  {
   "cell_type": "code",
   "execution_count": 169,
   "id": "duplicate-motion",
   "metadata": {},
   "outputs": [
    {
     "data": {
      "text/plain": [
       "(7, 100)"
      ]
     },
     "execution_count": 169,
     "metadata": {},
     "output_type": "execute_result"
    }
   ],
   "source": [
    "np.power(r_m, np.arange(1, len(coeffs) + 1)[:,np.newaxis]).shape"
   ]
  },
  {
   "cell_type": "code",
   "execution_count": 170,
   "id": "gothic-palestine",
   "metadata": {},
   "outputs": [],
   "source": [
    "e_a = np.sum(np.power(r_m, np.arange(1, len(coeffs) + 1)[:,np.newaxis]), axis=0)"
   ]
  },
  {
   "cell_type": "code",
   "execution_count": 171,
   "id": "quick-central",
   "metadata": {},
   "outputs": [
    {
     "data": {
      "application/vnd.jupyter.widget-view+json": {
       "model_id": "42ec2bbb707f428db96da7c1ca17f7e7",
       "version_major": 2,
       "version_minor": 0
      },
      "text/plain": [
       "Canvas(toolbar=Toolbar(toolitems=[('Home', 'Reset original view', 'home', 'home'), ('Back', 'Back to previous …"
      ]
     },
     "metadata": {},
     "output_type": "display_data"
    },
    {
     "data": {
      "text/plain": [
       "[<matplotlib.lines.Line2D at 0x7f5b0d08bf40>]"
      ]
     },
     "execution_count": 171,
     "metadata": {},
     "output_type": "execute_result"
    }
   ],
   "source": [
    "%matplotlib widget\n",
    "plt.plot(r_m, e_a)"
   ]
  },
  {
   "cell_type": "code",
   "execution_count": 172,
   "id": "enormous-stocks",
   "metadata": {},
   "outputs": [],
   "source": [
    "EXTENT_M = 250\n",
    "GRID_SIZE = 1000"
   ]
  },
  {
   "cell_type": "code",
   "execution_count": 173,
   "id": "young-toner",
   "metadata": {},
   "outputs": [],
   "source": [
    "ea_grid_m = np.meshgrid(np.linspace(-EXTENT_M, EXTENT_M, num=GRID_SIZE + 1), np.linspace(-EXTENT_M, EXTENT_M, num=GRID_SIZE + 1))"
   ]
  },
  {
   "cell_type": "code",
   "execution_count": 174,
   "id": "interesting-italic",
   "metadata": {},
   "outputs": [
    {
     "data": {
      "text/plain": [
       "(1001, 1001)"
      ]
     },
     "execution_count": 174,
     "metadata": {},
     "output_type": "execute_result"
    }
   ],
   "source": [
    "ea_grid_m[1].shape"
   ]
  },
  {
   "cell_type": "code",
   "execution_count": 175,
   "id": "accessible-examination",
   "metadata": {},
   "outputs": [],
   "source": [
    "ea_grid = np.sum(np.power(np.sqrt(ea_grid_m[0][:-1, :-1]**2 + ea_grid_m[1][:-1, :-1]**2), np.arange(1, len(coeffs) + 1)[:,np.newaxis, np.newaxis]), axis=0)"
   ]
  },
  {
   "cell_type": "code",
   "execution_count": 176,
   "id": "portuguese-comparison",
   "metadata": {},
   "outputs": [],
   "source": [
    "ea_grid[np.sqrt(ea_grid_m[0][:-1,:-1]**2 + ea_grid_m[1][:-1, :-1]**2) > 5] = 0"
   ]
  },
  {
   "cell_type": "code",
   "execution_count": 177,
   "id": "musical-process",
   "metadata": {},
   "outputs": [
    {
     "data": {
      "text/plain": [
       "(1000, 1000)"
      ]
     },
     "execution_count": 177,
     "metadata": {},
     "output_type": "execute_result"
    }
   ],
   "source": [
    "ea_grid.shape"
   ]
  },
  {
   "cell_type": "code",
   "execution_count": 178,
   "id": "level-substitute",
   "metadata": {},
   "outputs": [
    {
     "data": {
      "application/vnd.jupyter.widget-view+json": {
       "model_id": "69a0795afa0e4ea5b0df4f02e50a2ba0",
       "version_major": 2,
       "version_minor": 0
      },
      "text/plain": [
       "Canvas(toolbar=Toolbar(toolitems=[('Home', 'Reset original view', 'home', 'home'), ('Back', 'Back to previous …"
      ]
     },
     "metadata": {},
     "output_type": "display_data"
    },
    {
     "name": "stderr",
     "output_type": "stream",
     "text": [
      "<ipython-input-178-bf2664f5b7b3>:4: RuntimeWarning: divide by zero encountered in log10\n",
      "  p = ax.pcolor(ea_grid_m[0], ea_grid_m[1], np.log10(ea_grid))\n"
     ]
    },
    {
     "data": {
      "text/plain": [
       "<matplotlib.colorbar.Colorbar at 0x7f5b0d0491c0>"
      ]
     },
     "execution_count": 178,
     "metadata": {},
     "output_type": "execute_result"
    }
   ],
   "source": [
    "%matplotlib widget\n",
    "fig, ax = plt.subplots()\n",
    "ax.set_aspect(1)\n",
    "p = ax.pcolor(ea_grid_m[0], ea_grid_m[1], np.log10(ea_grid))\n",
    "ax.set_xlabel('X (m)')\n",
    "ax.set_ylabel('y (m)')\n",
    "ax.set_title('Antenna Illumination electric field (Ea)')\n",
    "fig.colorbar(p)"
   ]
  },
  {
   "cell_type": "code",
   "execution_count": 179,
   "id": "coordinated-halloween",
   "metadata": {},
   "outputs": [],
   "source": [
    "from numpy import fft"
   ]
  },
  {
   "cell_type": "code",
   "execution_count": 180,
   "id": "unexpected-attribute",
   "metadata": {},
   "outputs": [],
   "source": [
    "e_beam = fft.fft2(ea_grid)"
   ]
  },
  {
   "cell_type": "code",
   "execution_count": 181,
   "id": "meaning-brook",
   "metadata": {},
   "outputs": [
    {
     "data": {
      "text/plain": [
       "(1000, 1000)"
      ]
     },
     "execution_count": 181,
     "metadata": {},
     "output_type": "execute_result"
    }
   ],
   "source": [
    "e_beam.shape"
   ]
  },
  {
   "cell_type": "code",
   "execution_count": 182,
   "id": "rational-neighborhood",
   "metadata": {},
   "outputs": [],
   "source": [
    "lambd = 3e8/1.35e9"
   ]
  },
  {
   "cell_type": "code",
   "execution_count": 183,
   "id": "common-endorsement",
   "metadata": {},
   "outputs": [],
   "source": [
    "freqs = fft.fftfreq(GRID_SIZE, 2 * np.pi *EXTENT_M/(GRID_SIZE // 2) / lambd)"
   ]
  },
  {
   "cell_type": "code",
   "execution_count": 184,
   "id": "decimal-harris",
   "metadata": {},
   "outputs": [
    {
     "data": {
      "text/plain": [
       "2.5462222222222217"
      ]
     },
     "execution_count": 184,
     "metadata": {},
     "output_type": "execute_result"
    }
   ],
   "source": [
    "lambd/5 * 57.29"
   ]
  },
  {
   "cell_type": "code",
   "execution_count": 185,
   "id": "german-gravity",
   "metadata": {},
   "outputs": [
    {
     "data": {
      "text/plain": [
       "0.035297029601269236"
      ]
     },
     "execution_count": 185,
     "metadata": {},
     "output_type": "execute_result"
    }
   ],
   "source": [
    "freqs.max()"
   ]
  },
  {
   "cell_type": "code",
   "execution_count": 186,
   "id": "radio-chemical",
   "metadata": {},
   "outputs": [],
   "source": [
    "ft_grid = np.meshgrid(freqs, freqs)"
   ]
  },
  {
   "cell_type": "code",
   "execution_count": 187,
   "id": "noted-panel",
   "metadata": {},
   "outputs": [
    {
     "data": {
      "text/plain": [
       "0.035297029601269236"
      ]
     },
     "execution_count": 187,
     "metadata": {},
     "output_type": "execute_result"
    }
   ],
   "source": [
    "freqs.max()"
   ]
  },
  {
   "cell_type": "code",
   "execution_count": 188,
   "id": "iraqi-consideration",
   "metadata": {},
   "outputs": [],
   "source": [
    "amp = np.abs(e_beam)"
   ]
  },
  {
   "cell_type": "code",
   "execution_count": 189,
   "id": "gross-envelope",
   "metadata": {},
   "outputs": [
    {
     "data": {
      "application/vnd.jupyter.widget-view+json": {
       "model_id": "f27c5a2cc26643679e890cbbd8f54d57",
       "version_major": 2,
       "version_minor": 0
      },
      "text/plain": [
       "Canvas(toolbar=Toolbar(toolitems=[('Home', 'Reset original view', 'home', 'home'), ('Back', 'Back to previous …"
      ]
     },
     "metadata": {},
     "output_type": "display_data"
    },
    {
     "data": {
      "text/plain": [
       "<matplotlib.image.AxesImage at 0x7f5b0cfaf850>"
      ]
     },
     "execution_count": 189,
     "metadata": {},
     "output_type": "execute_result"
    }
   ],
   "source": [
    "%matplotlib widget\n",
    "plt.imshow(amp)"
   ]
  },
  {
   "cell_type": "code",
   "execution_count": 190,
   "id": "retired-medicine",
   "metadata": {},
   "outputs": [
    {
     "data": {
      "application/vnd.jupyter.widget-view+json": {
       "model_id": "424483603a504a99ba32aa3316582e16",
       "version_major": 2,
       "version_minor": 0
      },
      "text/plain": [
       "Canvas(toolbar=Toolbar(toolitems=[('Home', 'Reset original view', 'home', 'home'), ('Back', 'Back to previous …"
      ]
     },
     "metadata": {},
     "output_type": "display_data"
    },
    {
     "name": "stderr",
     "output_type": "stream",
     "text": [
      "<ipython-input-190-17123732b633>:4: MatplotlibDeprecationWarning: shading='flat' when X and Y have the same dimensions as C is deprecated since 3.3.  Either specify the corners of the quadrilaterals with X and Y, or pass shading='auto', 'nearest' or 'gouraud', or set rcParams['pcolor.shading'].  This will become an error two minor releases later.\n",
      "  p = ax.pcolor(ft_grid[0][:250, :250]* 57.2958, ft_grid[1][:250,:250] * 57.2958, amp[:250, :250])\n"
     ]
    },
    {
     "data": {
      "text/plain": [
       "<matplotlib.colorbar.Colorbar at 0x7f5b0b01ad60>"
      ]
     },
     "execution_count": 190,
     "metadata": {},
     "output_type": "execute_result"
    }
   ],
   "source": [
    "%matplotlib widget\n",
    "fig, ax = plt.subplots()\n",
    "ax.set_aspect(1)\n",
    "p = ax.pcolor(ft_grid[0][:250, :250]* 57.2958, ft_grid[1][:250,:250] * 57.2958, amp[:250, :250])\n",
    "ax.set_xlabel('deg')\n",
    "ax.set_ylabel('deg')\n",
    "ax.set_title('Far-field electric field (E)')\n",
    "fig.colorbar(p)"
   ]
  },
  {
   "cell_type": "code",
   "execution_count": 145,
   "id": "tight-context",
   "metadata": {},
   "outputs": [
    {
     "data": {
      "application/vnd.jupyter.widget-view+json": {
       "model_id": "b5ba93dea2da45e593c4fbb11476f212",
       "version_major": 2,
       "version_minor": 0
      },
      "text/plain": [
       "Canvas(toolbar=Toolbar(toolitems=[('Home', 'Reset original view', 'home', 'home'), ('Back', 'Back to previous …"
      ]
     },
     "metadata": {},
     "output_type": "display_data"
    },
    {
     "name": "stderr",
     "output_type": "stream",
     "text": [
      "<ipython-input-145-a11e2611fb5f>:4: MatplotlibDeprecationWarning: shading='flat' when X and Y have the same dimensions as C is deprecated since 3.3.  Either specify the corners of the quadrilaterals with X and Y, or pass shading='auto', 'nearest' or 'gouraud', or set rcParams['pcolor.shading'].  This will become an error two minor releases later.\n",
      "  p = ax.pcolor(ft_grid[0][:250, :250], ft_grid[1][:250, :250], np.angle(e_beam[:250, :250]))\n"
     ]
    },
    {
     "data": {
      "text/plain": [
       "<matplotlib.colorbar.Colorbar at 0x7f5b124007f0>"
      ]
     },
     "execution_count": 145,
     "metadata": {},
     "output_type": "execute_result"
    }
   ],
   "source": [
    "%matplotlib widget\n",
    "fig, ax = plt.subplots()\n",
    "ax.set_aspect(1)\n",
    "p = ax.pcolor(ft_grid[0][:250, :250], ft_grid[1][:250, :250], np.angle(e_beam[:250, :250]))\n",
    "ax.set_xlabel('radian')\n",
    "ax.set_ylabel('radian')\n",
    "ax.set_title('Far-field electric field (E)')\n",
    "fig.colorbar(p)"
   ]
  },
  {
   "cell_type": "code",
   "execution_count": null,
   "id": "promotional-museum",
   "metadata": {},
   "outputs": [],
   "source": []
  }
 ],
 "metadata": {
  "kernelspec": {
   "display_name": "frank",
   "language": "python",
   "name": "frank"
  },
  "language_info": {
   "codemirror_mode": {
    "name": "ipython",
    "version": 3
   },
   "file_extension": ".py",
   "mimetype": "text/x-python",
   "name": "python",
   "nbconvert_exporter": "python",
   "pygments_lexer": "ipython3",
   "version": "3.8.5"
  }
 },
 "nbformat": 4,
 "nbformat_minor": 5
}
