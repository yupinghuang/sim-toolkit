{
 "cells": [
  {
   "cell_type": "markdown",
   "id": "extended-virgin",
   "metadata": {},
   "source": [
    "# Beam Simulations\n",
    "Getting started with notes from James Lamb.\n",
    "\n",
    "Let me start with 1.35 GHz."
   ]
  },
  {
   "cell_type": "code",
   "execution_count": 31,
   "id": "quiet-effectiveness",
   "metadata": {},
   "outputs": [],
   "source": [
    "import numpy as np\n",
    "import matplotlib.pyplot as plt"
   ]
  },
  {
   "cell_type": "code",
   "execution_count": 32,
   "id": "skilled-applicant",
   "metadata": {},
   "outputs": [],
   "source": [
    "coeffs = np.array([0.41014, 0.09540, -0.27752, 0.17076, -0.05474, 0.00988, -0.00095])"
   ]
  },
  {
   "cell_type": "code",
   "execution_count": 33,
   "id": "naval-uncle",
   "metadata": {},
   "outputs": [],
   "source": [
    "r_m = np.linspace(0, 50, num=100)"
   ]
  },
  {
   "cell_type": "code",
   "execution_count": 34,
   "id": "cathedral-bicycle",
   "metadata": {},
   "outputs": [
    {
     "data": {
      "text/plain": [
       "(7, 100)"
      ]
     },
     "execution_count": 34,
     "metadata": {},
     "output_type": "execute_result"
    }
   ],
   "source": [
    "np.power(r_m, np.arange(1, len(coeffs) + 1)[:,np.newaxis]).shape"
   ]
  },
  {
   "cell_type": "code",
   "execution_count": 35,
   "id": "artistic-pavilion",
   "metadata": {},
   "outputs": [],
   "source": [
    "e_a = np.sum(np.power(r_m, np.arange(1, len(coeffs) + 1)[:,np.newaxis]), axis=0)"
   ]
  },
  {
   "cell_type": "code",
   "execution_count": 36,
   "id": "tamil-tuesday",
   "metadata": {},
   "outputs": [
    {
     "data": {
      "application/vnd.jupyter.widget-view+json": {
       "model_id": "2a19f3cd70aa4dfea28248b171236b17",
       "version_major": 2,
       "version_minor": 0
      },
      "text/plain": [
       "Canvas(toolbar=Toolbar(toolitems=[('Home', 'Reset original view', 'home', 'home'), ('Back', 'Back to previous …"
      ]
     },
     "metadata": {},
     "output_type": "display_data"
    },
    {
     "data": {
      "text/plain": [
       "[<matplotlib.lines.Line2D at 0x7f5b3ae533d0>]"
      ]
     },
     "execution_count": 36,
     "metadata": {},
     "output_type": "execute_result"
    }
   ],
   "source": [
    "%matplotlib widget\n",
    "plt.plot(r_m, e_a)"
   ]
  },
  {
   "cell_type": "code",
   "execution_count": 126,
   "id": "completed-country",
   "metadata": {},
   "outputs": [],
   "source": [
    "EXTENT_M = 250\n",
    "GRID_SIZE = 1000"
   ]
  },
  {
   "cell_type": "code",
   "execution_count": 127,
   "id": "productive-painting",
   "metadata": {},
   "outputs": [],
   "source": [
    "ea_grid_m = np.meshgrid(np.linspace(-EXTENT_M, EXTENT_M, num=GRID_SIZE + 1), np.linspace(-EXTENT_M, EXTENT_M, num=GRID_SIZE + 1))"
   ]
  },
  {
   "cell_type": "code",
   "execution_count": 128,
   "id": "productive-activation",
   "metadata": {},
   "outputs": [
    {
     "data": {
      "text/plain": [
       "(1001, 1001)"
      ]
     },
     "execution_count": 128,
     "metadata": {},
     "output_type": "execute_result"
    }
   ],
   "source": [
    "ea_grid_m[1].shape"
   ]
  },
  {
   "cell_type": "code",
   "execution_count": 129,
   "id": "secure-creation",
   "metadata": {},
   "outputs": [],
   "source": [
    "ea_grid = np.sum(np.power(np.sqrt(ea_grid_m[0][:-1, :-1]**2 + ea_grid_m[1][:-1, :-1]**2), np.arange(1, len(coeffs) + 1)[:,np.newaxis, np.newaxis]), axis=0)"
   ]
  },
  {
   "cell_type": "code",
   "execution_count": 130,
   "id": "listed-tunnel",
   "metadata": {},
   "outputs": [],
   "source": [
    "ea_grid[np.sqrt(ea_grid_m[0][:-1,:-1]**2 + ea_grid_m[1][:-1, :-1]**2) > 5] = 0"
   ]
  },
  {
   "cell_type": "code",
   "execution_count": 131,
   "id": "simple-poverty",
   "metadata": {},
   "outputs": [
    {
     "data": {
      "text/plain": [
       "(1000, 1000)"
      ]
     },
     "execution_count": 131,
     "metadata": {},
     "output_type": "execute_result"
    }
   ],
   "source": [
    "ea_grid.shape"
   ]
  },
  {
   "cell_type": "code",
   "execution_count": 132,
   "id": "favorite-therapy",
   "metadata": {},
   "outputs": [
    {
     "data": {
      "application/vnd.jupyter.widget-view+json": {
       "model_id": "58508f40ce754909b3b464a4d4076e6b",
       "version_major": 2,
       "version_minor": 0
      },
      "text/plain": [
       "Canvas(toolbar=Toolbar(toolitems=[('Home', 'Reset original view', 'home', 'home'), ('Back', 'Back to previous …"
      ]
     },
     "metadata": {},
     "output_type": "display_data"
    },
    {
     "name": "stderr",
     "output_type": "stream",
     "text": [
      "<ipython-input-132-9d0535633ec6>:3: RuntimeWarning: divide by zero encountered in log10\n",
      "  p = ax.pcolor(ea_grid_m[0], ea_grid_m[1], np.log10(ea_grid))\n"
     ]
    },
    {
     "data": {
      "text/plain": [
       "<matplotlib.colorbar.Colorbar at 0x7f5b164250d0>"
      ]
     },
     "execution_count": 132,
     "metadata": {},
     "output_type": "execute_result"
    }
   ],
   "source": [
    "fig, ax = plt.subplots()\n",
    "ax.set_aspect(1)\n",
    "p = ax.pcolor(ea_grid_m[0], ea_grid_m[1], np.log10(ea_grid))\n",
    "ax.set_xlabel('X (m)')\n",
    "ax.set_ylabel('y (m)')\n",
    "ax.set_title('Antenna Illumination electric field (Ea)')\n",
    "fig.colorbar(p)"
   ]
  },
  {
   "cell_type": "code",
   "execution_count": 133,
   "id": "creative-think",
   "metadata": {},
   "outputs": [],
   "source": [
    "from numpy import fft"
   ]
  },
  {
   "cell_type": "code",
   "execution_count": 134,
   "id": "functional-algebra",
   "metadata": {},
   "outputs": [],
   "source": [
    "e_beam = fft.fft2(ea_grid)"
   ]
  },
  {
   "cell_type": "code",
   "execution_count": 135,
   "id": "fatty-cooperation",
   "metadata": {},
   "outputs": [
    {
     "data": {
      "text/plain": [
       "(1000, 1000)"
      ]
     },
     "execution_count": 135,
     "metadata": {},
     "output_type": "execute_result"
    }
   ],
   "source": [
    "e_beam.shape"
   ]
  },
  {
   "cell_type": "code",
   "execution_count": 136,
   "id": "hispanic-girlfriend",
   "metadata": {},
   "outputs": [],
   "source": [
    "lambd = 3e8/1.35e9"
   ]
  },
  {
   "cell_type": "code",
   "execution_count": 158,
   "id": "interested-manhattan",
   "metadata": {},
   "outputs": [],
   "source": [
    "freqs = fft.fftfreq(GRID_SIZE, 2 * np.pi *EXTENT_M/(GRID_SIZE // 2) / lambd)"
   ]
  },
  {
   "cell_type": "code",
   "execution_count": 159,
   "id": "classified-basis",
   "metadata": {},
   "outputs": [
    {
     "data": {
      "text/plain": [
       "2.5462222222222217"
      ]
     },
     "execution_count": 159,
     "metadata": {},
     "output_type": "execute_result"
    }
   ],
   "source": [
    "lambd/5 * 57.29"
   ]
  },
  {
   "cell_type": "code",
   "execution_count": 160,
   "id": "certain-ability",
   "metadata": {},
   "outputs": [
    {
     "data": {
      "text/plain": [
       "0.035297029601269236"
      ]
     },
     "execution_count": 160,
     "metadata": {},
     "output_type": "execute_result"
    }
   ],
   "source": [
    "freqs.max()"
   ]
  },
  {
   "cell_type": "code",
   "execution_count": 161,
   "id": "substantial-railway",
   "metadata": {},
   "outputs": [],
   "source": [
    "ft_grid = np.meshgrid(freqs, freqs)"
   ]
  },
  {
   "cell_type": "code",
   "execution_count": 162,
   "id": "continuing-mumbai",
   "metadata": {},
   "outputs": [
    {
     "data": {
      "text/plain": [
       "0.035297029601269236"
      ]
     },
     "execution_count": 162,
     "metadata": {},
     "output_type": "execute_result"
    }
   ],
   "source": [
    "freqs.max()"
   ]
  },
  {
   "cell_type": "code",
   "execution_count": 163,
   "id": "relative-lesbian",
   "metadata": {},
   "outputs": [],
   "source": [
    "amp = np.abs(e_beam)"
   ]
  },
  {
   "cell_type": "code",
   "execution_count": 164,
   "id": "electric-decade",
   "metadata": {},
   "outputs": [
    {
     "data": {
      "application/vnd.jupyter.widget-view+json": {
       "model_id": "77049399ee714f7ca537d510f96b01ae",
       "version_major": 2,
       "version_minor": 0
      },
      "text/plain": [
       "Canvas(toolbar=Toolbar(toolitems=[('Home', 'Reset original view', 'home', 'home'), ('Back', 'Back to previous …"
      ]
     },
     "metadata": {},
     "output_type": "display_data"
    },
    {
     "data": {
      "text/plain": [
       "<matplotlib.image.AxesImage at 0x7f5b0f076640>"
      ]
     },
     "execution_count": 164,
     "metadata": {},
     "output_type": "execute_result"
    }
   ],
   "source": [
    "%matplotlib widget\n",
    "plt.imshow(amp)"
   ]
  },
  {
   "cell_type": "code",
   "execution_count": 165,
   "id": "separated-privilege",
   "metadata": {},
   "outputs": [
    {
     "data": {
      "application/vnd.jupyter.widget-view+json": {
       "model_id": "029bc64a6b9e4a8ea7961cac74ce78f5",
       "version_major": 2,
       "version_minor": 0
      },
      "text/plain": [
       "Canvas(toolbar=Toolbar(toolitems=[('Home', 'Reset original view', 'home', 'home'), ('Back', 'Back to previous …"
      ]
     },
     "metadata": {},
     "output_type": "display_data"
    },
    {
     "name": "stderr",
     "output_type": "stream",
     "text": [
      "<ipython-input-165-17123732b633>:4: MatplotlibDeprecationWarning: shading='flat' when X and Y have the same dimensions as C is deprecated since 3.3.  Either specify the corners of the quadrilaterals with X and Y, or pass shading='auto', 'nearest' or 'gouraud', or set rcParams['pcolor.shading'].  This will become an error two minor releases later.\n",
      "  p = ax.pcolor(ft_grid[0][:250, :250]* 57.2958, ft_grid[1][:250,:250] * 57.2958, amp[:250, :250])\n"
     ]
    },
    {
     "data": {
      "text/plain": [
       "<matplotlib.colorbar.Colorbar at 0x7f5b0d1210d0>"
      ]
     },
     "execution_count": 165,
     "metadata": {},
     "output_type": "execute_result"
    }
   ],
   "source": [
    "%matplotlib widget\n",
    "fig, ax = plt.subplots()\n",
    "ax.set_aspect(1)\n",
    "p = ax.pcolor(ft_grid[0][:250, :250]* 57.2958, ft_grid[1][:250,:250] * 57.2958, amp[:250, :250])\n",
    "ax.set_xlabel('deg')\n",
    "ax.set_ylabel('deg')\n",
    "ax.set_title('Far-field electric field (E)')\n",
    "fig.colorbar(p)"
   ]
  },
  {
   "cell_type": "code",
   "execution_count": 145,
   "id": "difficult-representative",
   "metadata": {},
   "outputs": [
    {
     "data": {
      "application/vnd.jupyter.widget-view+json": {
       "model_id": "b5ba93dea2da45e593c4fbb11476f212",
       "version_major": 2,
       "version_minor": 0
      },
      "text/plain": [
       "Canvas(toolbar=Toolbar(toolitems=[('Home', 'Reset original view', 'home', 'home'), ('Back', 'Back to previous …"
      ]
     },
     "metadata": {},
     "output_type": "display_data"
    },
    {
     "name": "stderr",
     "output_type": "stream",
     "text": [
      "<ipython-input-145-a11e2611fb5f>:4: MatplotlibDeprecationWarning: shading='flat' when X and Y have the same dimensions as C is deprecated since 3.3.  Either specify the corners of the quadrilaterals with X and Y, or pass shading='auto', 'nearest' or 'gouraud', or set rcParams['pcolor.shading'].  This will become an error two minor releases later.\n",
      "  p = ax.pcolor(ft_grid[0][:250, :250], ft_grid[1][:250, :250], np.angle(e_beam[:250, :250]))\n"
     ]
    },
    {
     "data": {
      "text/plain": [
       "<matplotlib.colorbar.Colorbar at 0x7f5b124007f0>"
      ]
     },
     "execution_count": 145,
     "metadata": {},
     "output_type": "execute_result"
    }
   ],
   "source": [
    "%matplotlib widget\n",
    "fig, ax = plt.subplots()\n",
    "ax.set_aspect(1)\n",
    "p = ax.pcolor(ft_grid[0][:250, :250], ft_grid[1][:250, :250], np.angle(e_beam[:250, :250]))\n",
    "ax.set_xlabel('radian')\n",
    "ax.set_ylabel('radian')\n",
    "ax.set_title('Far-field electric field (E)')\n",
    "fig.colorbar(p)"
   ]
  },
  {
   "cell_type": "code",
   "execution_count": null,
   "id": "prostate-anniversary",
   "metadata": {},
   "outputs": [],
   "source": []
  }
 ],
 "metadata": {
  "kernelspec": {
   "display_name": "frank",
   "language": "python",
   "name": "frank"
  },
  "language_info": {
   "codemirror_mode": {
    "name": "ipython",
    "version": 3
   },
   "file_extension": ".py",
   "mimetype": "text/x-python",
   "name": "python",
   "nbconvert_exporter": "python",
   "pygments_lexer": "ipython3",
   "version": "3.8.5"
  }
 },
 "nbformat": 4,
 "nbformat_minor": 5
}
