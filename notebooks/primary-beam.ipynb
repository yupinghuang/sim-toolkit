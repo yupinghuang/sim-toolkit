{
 "cells": [
  {
   "cell_type": "markdown",
   "id": "hundred-harvest",
   "metadata": {},
   "source": [
    "# Beam Simulations\n",
    "Getting started with notes from James Lamb.\n",
    "\n",
    "Let me start with 1.35 GHz."
   ]
  },
  {
   "cell_type": "code",
   "execution_count": 1,
   "id": "sweet-joyce",
   "metadata": {},
   "outputs": [],
   "source": [
    "import numpy as np\n",
    "import matplotlib.pyplot as plt\n",
    "from numpy import fft"
   ]
  },
  {
   "cell_type": "code",
   "execution_count": 2,
   "id": "weekly-egyptian",
   "metadata": {},
   "outputs": [],
   "source": [
    "coeffs = np.array([0.41014, 0.09540, -0.27752, 0.17076, -0.05474, 0.00988, -0.00095])"
   ]
  },
  {
   "cell_type": "code",
   "execution_count": 3,
   "id": "informational-neighborhood",
   "metadata": {},
   "outputs": [],
   "source": [
    "EXTENT_M = 250\n",
    "GRID_SIZE = 1000\n",
    "LAMBD = 3e8/1.35e9"
   ]
  },
  {
   "cell_type": "code",
   "execution_count": 4,
   "id": "soviet-blanket",
   "metadata": {},
   "outputs": [],
   "source": [
    "grid_cell = EXTENT_M / (GRID_SIZE//2)"
   ]
  },
  {
   "cell_type": "code",
   "execution_count": 5,
   "id": "pending-letters",
   "metadata": {},
   "outputs": [],
   "source": [
    "ea_grid_m = np.meshgrid(np.linspace(-EXTENT_M, EXTENT_M, num=GRID_SIZE + 1), np.linspace(-EXTENT_M, EXTENT_M, num=GRID_SIZE + 1))\n",
    "ea_grid = np.sum(np.power(np.sqrt(ea_grid_m[0][:-1, :-1]**2 + ea_grid_m[1][:-1, :-1]**2), np.arange(1, len(coeffs) + 1)[:,np.newaxis, np.newaxis]), axis=0)\n",
    "ea_grid[np.sqrt(ea_grid_m[0][:-1,:-1]**2 + ea_grid_m[1][:-1, :-1]**2) > 5] = 0"
   ]
  },
  {
   "cell_type": "code",
   "execution_count": 23,
   "id": "champion-experiment",
   "metadata": {},
   "outputs": [
    {
     "data": {
      "application/vnd.jupyter.widget-view+json": {
       "model_id": "b03ca91511564c2e9015575f61d52106",
       "version_major": 2,
       "version_minor": 0
      },
      "text/plain": [
       "Canvas(toolbar=Toolbar(toolitems=[('Home', 'Reset original view', 'home', 'home'), ('Back', 'Back to previous …"
      ]
     },
     "metadata": {},
     "output_type": "display_data"
    },
    {
     "name": "stderr",
     "output_type": "stream",
     "text": [
      "<ipython-input-23-bf2664f5b7b3>:4: RuntimeWarning: divide by zero encountered in log10\n",
      "  p = ax.pcolor(ea_grid_m[0], ea_grid_m[1], np.log10(ea_grid))\n"
     ]
    },
    {
     "data": {
      "text/plain": [
       "<matplotlib.colorbar.Colorbar at 0x7f5ebd748100>"
      ]
     },
     "execution_count": 23,
     "metadata": {},
     "output_type": "execute_result"
    }
   ],
   "source": [
    "%matplotlib widget\n",
    "fig, ax = plt.subplots()\n",
    "ax.set_aspect(1)\n",
    "p = ax.pcolor(ea_grid_m[0], ea_grid_m[1], np.log10(ea_grid))\n",
    "ax.set_xlabel('X (m)')\n",
    "ax.set_ylabel('y (m)')\n",
    "ax.set_title('Antenna Illumination electric field (Ea)')\n",
    "fig.colorbar(p)"
   ]
  },
  {
   "cell_type": "code",
   "execution_count": 7,
   "id": "environmental-finance",
   "metadata": {},
   "outputs": [],
   "source": [
    "e_beam = fft.fft2(ea_grid)"
   ]
  },
  {
   "cell_type": "code",
   "execution_count": 8,
   "id": "soviet-tower",
   "metadata": {},
   "outputs": [],
   "source": [
    "e_beam = fft.fftshift(e_beam)"
   ]
  },
  {
   "cell_type": "code",
   "execution_count": 9,
   "id": "brave-avatar",
   "metadata": {},
   "outputs": [],
   "source": [
    "freqs = fft.fftfreq(GRID_SIZE, grid_cell/(2 * np.pi * LAMBD))"
   ]
  },
  {
   "cell_type": "code",
   "execution_count": 10,
   "id": "nuclear-thing",
   "metadata": {},
   "outputs": [],
   "source": [
    "ft_grid = np.meshgrid(freqs, freqs)"
   ]
  },
  {
   "cell_type": "code",
   "execution_count": 11,
   "id": "hawaiian-theology",
   "metadata": {},
   "outputs": [],
   "source": [
    "amp = np.abs(e_beam)"
   ]
  },
  {
   "cell_type": "code",
   "execution_count": 12,
   "id": "underlying-compound",
   "metadata": {},
   "outputs": [],
   "source": [
    "mfreq = freqs.max() * 57.2958"
   ]
  },
  {
   "cell_type": "code",
   "execution_count": 13,
   "id": "perceived-dublin",
   "metadata": {},
   "outputs": [],
   "source": [
    "d1 = np.argsort(freqs)\n",
    "d2 = np.argsort(freqs)"
   ]
  },
  {
   "cell_type": "code",
   "execution_count": 24,
   "id": "square-timing",
   "metadata": {},
   "outputs": [
    {
     "data": {
      "application/vnd.jupyter.widget-view+json": {
       "model_id": "03e5166d7eb44346ad693289b805f7d8",
       "version_major": 2,
       "version_minor": 0
      },
      "text/plain": [
       "Canvas(toolbar=Toolbar(toolitems=[('Home', 'Reset original view', 'home', 'home'), ('Back', 'Back to previous …"
      ]
     },
     "metadata": {},
     "output_type": "display_data"
    },
    {
     "data": {
      "text/plain": [
       "Text(0.5, 1.0, 'Far-field electric field (E)')"
      ]
     },
     "execution_count": 24,
     "metadata": {},
     "output_type": "execute_result"
    }
   ],
   "source": [
    "%matplotlib widget\n",
    "plt.imshow(np.abs(e_beam), extent=[-mfreq, mfreq, -mfreq, mfreq])\n",
    "ax.set_xlabel('deg')\n",
    "ax.set_ylabel('deg')\n",
    "ax.set_title('Far-field electric field (E)')"
   ]
  },
  {
   "cell_type": "code",
   "execution_count": 16,
   "id": "reported-philip",
   "metadata": {},
   "outputs": [],
   "source": [
    "from scipy import optimize\n",
    "def gaussian(height, center_x, center_y, width_x, width_y):\n",
    "    \"\"\"Returns a gaussian function with the given parameters\"\"\"\n",
    "    width_x = float(width_x)\n",
    "    width_y = float(width_y)\n",
    "    return lambda x,y: height*np.exp(\n",
    "                -(((center_x-x)/width_x)**2+((center_y-y)/width_y)**2)/2)\n",
    "\n",
    "def moments(data):\n",
    "    \"\"\"Returns (height, x, y, width_x, width_y)\n",
    "    the gaussian parameters of a 2D distribution by calculating its\n",
    "    moments \"\"\"\n",
    "    total = data.sum()\n",
    "    X, Y = np.indices(data.shape)\n",
    "    x = (X*data).sum()/total\n",
    "    y = (Y*data).sum()/total\n",
    "    col = data[:, int(y)]\n",
    "    width_x = np.sqrt(np.abs((np.arange(col.size)-x)**2*col).sum()/col.sum())\n",
    "    row = data[int(x), :]\n",
    "    width_y = np.sqrt(np.abs((np.arange(row.size)-y)**2*row).sum()/row.sum())\n",
    "    height = data.max()\n",
    "    return height, x, y, width_x, width_y\n",
    "\n",
    "def fitgaussian(data):\n",
    "    \"\"\"Returns (height, x, y, width_x, width_y)\n",
    "    the gaussian parameters of a 2D distribution found by a fit\"\"\"\n",
    "    params = moments(data)\n",
    "    errorfunction = lambda p: np.ravel(gaussian(*p)(*np.indices(data.shape)) -\n",
    "                                 data)\n",
    "    p, success = optimize.leastsq(errorfunction, params)\n",
    "    return p"
   ]
  },
  {
   "cell_type": "code",
   "execution_count": 17,
   "id": "compressed-panel",
   "metadata": {},
   "outputs": [],
   "source": [
    "data = amp[d1][:,d2][450:550, 450:550] ** 2"
   ]
  },
  {
   "cell_type": "code",
   "execution_count": 18,
   "id": "fuzzy-integrity",
   "metadata": {},
   "outputs": [],
   "source": [
    "params = fitgaussian(data)"
   ]
  },
  {
   "cell_type": "code",
   "execution_count": 19,
   "id": "ideal-remove",
   "metadata": {},
   "outputs": [
    {
     "data": {
      "text/plain": [
       "array([3.76035193e+11, 4.99989148e+01, 4.99989148e+01, 1.37405372e+01,\n",
       "       1.37405372e+01])"
      ]
     },
     "execution_count": 19,
     "metadata": {},
     "output_type": "execute_result"
    }
   ],
   "source": [
    "params"
   ]
  },
  {
   "cell_type": "code",
   "execution_count": 20,
   "id": "enabling-terrace",
   "metadata": {},
   "outputs": [
    {
     "data": {
      "text/plain": [
       "(1000, 1000)"
      ]
     },
     "execution_count": 20,
     "metadata": {},
     "output_type": "execute_result"
    }
   ],
   "source": [
    "amp.shape"
   ]
  },
  {
   "cell_type": "code",
   "execution_count": 21,
   "id": "reduced-delivery",
   "metadata": {},
   "outputs": [
    {
     "data": {
      "application/vnd.jupyter.widget-view+json": {
       "model_id": "b934eb52e3654dfdb07c7cf603f3b695",
       "version_major": 2,
       "version_minor": 0
      },
      "text/plain": [
       "Canvas(toolbar=Toolbar(toolitems=[('Home', 'Reset original view', 'home', 'home'), ('Back', 'Back to previous …"
      ]
     },
     "metadata": {},
     "output_type": "display_data"
    },
    {
     "data": {
      "text/plain": [
       "<matplotlib.colorbar.Colorbar at 0x7f5ebd8f6160>"
      ]
     },
     "execution_count": 21,
     "metadata": {},
     "output_type": "execute_result"
    }
   ],
   "source": [
    "%matplotlib widget\n",
    "fit = gaussian(*params)\n",
    "plt.imshow(data)\n",
    "plt.contour(fit(*np.indices(data.shape)), cmap=plt.cm.copper)\n",
    "plt.colorbar()"
   ]
  },
  {
   "cell_type": "code",
   "execution_count": 22,
   "id": "assumed-symphony",
   "metadata": {},
   "outputs": [
    {
     "data": {
      "text/plain": [
       "2.198486737514539"
      ]
     },
     "execution_count": 22,
     "metadata": {},
     "output_type": "execute_result"
    }
   ],
   "source": [
    "params[3] * freqs[1] * 57.2958"
   ]
  },
  {
   "cell_type": "code",
   "execution_count": null,
   "id": "dated-archives",
   "metadata": {},
   "outputs": [],
   "source": []
  }
 ],
 "metadata": {
  "kernelspec": {
   "display_name": "frank",
   "language": "python",
   "name": "frank"
  },
  "language_info": {
   "codemirror_mode": {
    "name": "ipython",
    "version": 3
   },
   "file_extension": ".py",
   "mimetype": "text/x-python",
   "name": "python",
   "nbconvert_exporter": "python",
   "pygments_lexer": "ipython3",
   "version": "3.8.5"
  }
 },
 "nbformat": 4,
 "nbformat_minor": 5
}
