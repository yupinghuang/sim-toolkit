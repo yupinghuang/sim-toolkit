{
 "cells": [
  {
   "cell_type": "code",
   "execution_count": 1,
   "id": "naughty-present",
   "metadata": {},
   "outputs": [],
   "source": [
    "import numpy as np\n",
    "import matplotlib.pyplot as plt"
   ]
  },
  {
   "cell_type": "code",
   "execution_count": 19,
   "id": "choice-burns",
   "metadata": {},
   "outputs": [],
   "source": [
    "def convert(csv):\n",
    "    xy = np.loadtxt(csv, delimiter=',')\n",
    "    i = np.argmin(np.sqrt(xy[:, 0]**2 + xy[:,1]**2))\n",
    "    xy = xy - xy[i]\n",
    "    new_xy = np.zeros_like(xy)\n",
    "    new_xy[1:] = np.delete(xy, i, axis=0)\n",
    "    print(new_xy.shape)\n",
    "    outname = csv.rstrip('.csv') + '.cfg'\n",
    "    with open(outname, 'w') as f:\n",
    "        f.write('# observatory=OVRO_MMA\\n')\n",
    "        f.write('# coordsys=LOC OVRO_MMA\\n')\n",
    "        f.writelines([f'{p[0]:.3f} {p[1]:.3f} 0 5 dsa-{i}\\n' for i, p in enumerate(new_xy)])"
   ]
  },
  {
   "cell_type": "code",
   "execution_count": 20,
   "id": "sophisticated-peeing",
   "metadata": {},
   "outputs": [
    {
     "name": "stdout",
     "output_type": "stream",
     "text": [
      "(2048, 2)\n"
     ]
    }
   ],
   "source": [
    "convert('Downloads/configs/20210226B.csv')"
   ]
  },
  {
   "cell_type": "code",
   "execution_count": null,
   "id": "built-dating",
   "metadata": {},
   "outputs": [],
   "source": [
    "for l in 'ABVDEFGHIJKLMNO'"
   ]
  }
 ],
 "metadata": {
  "kernelspec": {
   "display_name": "astro",
   "language": "python",
   "name": "astro"
  },
  "language_info": {
   "codemirror_mode": {
    "name": "ipython",
    "version": 3
   },
   "file_extension": ".py",
   "mimetype": "text/x-python",
   "name": "python",
   "nbconvert_exporter": "python",
   "pygments_lexer": "ipython3",
   "version": "3.7.6"
  }
 },
 "nbformat": 4,
 "nbformat_minor": 5
}
