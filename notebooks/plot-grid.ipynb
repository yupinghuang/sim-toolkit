{
 "cells": [
  {
   "cell_type": "code",
   "execution_count": 1,
   "id": "rotary-sperm",
   "metadata": {},
   "outputs": [],
   "source": [
    "import numpy as np"
   ]
  },
  {
   "cell_type": "code",
   "execution_count": 2,
   "id": "juvenile-withdrawal",
   "metadata": {},
   "outputs": [],
   "source": [
    "import matplotlib.pyplot as plt"
   ]
  },
  {
   "cell_type": "code",
   "execution_count": 3,
   "id": "demographic-wound",
   "metadata": {},
   "outputs": [],
   "source": [
    "grids = np.load('/fastpool/data/grid_post_fft.npy')"
   ]
  },
  {
   "cell_type": "code",
   "execution_count": 4,
   "id": "essential-germany",
   "metadata": {},
   "outputs": [],
   "source": [
    "from matplotlib.colors import LogNorm"
   ]
  },
  {
   "cell_type": "code",
   "execution_count": 5,
   "id": "proved-cooling",
   "metadata": {},
   "outputs": [],
   "source": [
    "psf1 = grids[0].real / grids[0].real.max()"
   ]
  },
  {
   "cell_type": "code",
   "execution_count": 7,
   "id": "animal-chapel",
   "metadata": {},
   "outputs": [
    {
     "data": {
      "text/plain": [
       "-0.0004883886"
      ]
     },
     "execution_count": 7,
     "metadata": {},
     "output_type": "execute_result"
    }
   ],
   "source": [
    "psf1.min()"
   ]
  },
  {
   "cell_type": "code",
   "execution_count": 39,
   "id": "average-family",
   "metadata": {},
   "outputs": [
    {
     "data": {
      "application/vnd.jupyter.widget-view+json": {
       "model_id": "07adb6a349984bb38f3f7065c84a322b",
       "version_major": 2,
       "version_minor": 0
      },
      "text/plain": [
       "Canvas(toolbar=Toolbar(toolitems=[('Home', 'Reset original view', 'home', 'home'), ('Back', 'Back to previous …"
      ]
     },
     "metadata": {},
     "output_type": "display_data"
    },
    {
     "data": {
      "text/plain": [
       "<matplotlib.image.AxesImage at 0x7fbbffb2cc10>"
      ]
     },
     "execution_count": 39,
     "metadata": {},
     "output_type": "execute_result"
    }
   ],
   "source": [
    "%matplotlib widget\n",
    "plt.figure(figsize=(5, 5))\n",
    "plt.imshow(np.abs(psf1), norm=LogNorm(vmin=1e-6, vmax=1e-3))"
   ]
  },
  {
   "cell_type": "code",
   "execution_count": 44,
   "id": "amino-container",
   "metadata": {},
   "outputs": [
    {
     "data": {
      "text/plain": [
       "(4000, 4000)"
      ]
     },
     "execution_count": 44,
     "metadata": {},
     "output_type": "execute_result"
    }
   ],
   "source": [
    "np.unravel_index(psf1.argmax(), shape=psf1.shape)"
   ]
  },
  {
   "cell_type": "markdown",
   "id": "informational-wagner",
   "metadata": {},
   "source": [
    "Question for Bram\n",
    "- How to divide out the FT of the kernel; other than...FFT out of the main code\n",
    "- Which spheroidal to use?\n",
    "- W term how?\n",
    "- weighting how?\n",
    "- which API to use?\n",
    "- Normalization"
   ]
  },
  {
   "cell_type": "code",
   "execution_count": 9,
   "id": "induced-while",
   "metadata": {},
   "outputs": [
    {
     "data": {
      "text/plain": [
       "(4, 8000, 8000)"
      ]
     },
     "execution_count": 9,
     "metadata": {},
     "output_type": "execute_result"
    }
   ],
   "source": [
    "grids.shape"
   ]
  },
  {
   "cell_type": "markdown",
   "id": "general-manchester",
   "metadata": {},
   "source": [
    "Err what's the Fourier transform of a spheroidal?"
   ]
  },
  {
   "cell_type": "code",
   "execution_count": 10,
   "id": "younger-louisiana",
   "metadata": {},
   "outputs": [
    {
     "name": "stdout",
     "output_type": "stream",
     "text": [
      "Error importing OpenCL: ('/opt/lib/libidg-opencl.so: cannot open shared object file: No such file or directory',)\n"
     ]
    }
   ],
   "source": [
    "from idg import util"
   ]
  },
  {
   "cell_type": "code",
   "execution_count": 11,
   "id": "satisfied-diary",
   "metadata": {},
   "outputs": [],
   "source": [
    "subgrid_size     = 32\n",
    "grid_size        = 8000\n",
    "spheroidal = util.get_example_spheroidal(subgrid_size)"
   ]
  },
  {
   "cell_type": "code",
   "execution_count": 12,
   "id": "negative-offense",
   "metadata": {},
   "outputs": [
    {
     "data": {
      "application/vnd.jupyter.widget-view+json": {
       "model_id": "23f8bdd0e8d64a08a5c1a9055787e7a6",
       "version_major": 2,
       "version_minor": 0
      },
      "text/plain": [
       "Canvas(toolbar=Toolbar(toolitems=[('Home', 'Reset original view', 'home', 'home'), ('Back', 'Back to previous …"
      ]
     },
     "metadata": {},
     "output_type": "display_data"
    },
    {
     "data": {
      "text/plain": [
       "<matplotlib.image.AxesImage at 0x7fbc042c0a30>"
      ]
     },
     "execution_count": 12,
     "metadata": {},
     "output_type": "execute_result"
    }
   ],
   "source": [
    "%matplotlib widget\n",
    "plt.imshow(spheroidal)"
   ]
  },
  {
   "cell_type": "code",
   "execution_count": 13,
   "id": "special-gabriel",
   "metadata": {},
   "outputs": [
    {
     "data": {
      "application/vnd.jupyter.widget-view+json": {
       "model_id": "39fff1d8fab146ee9602c1886638c992",
       "version_major": 2,
       "version_minor": 0
      },
      "text/plain": [
       "Canvas(toolbar=Toolbar(toolitems=[('Home', 'Reset original view', 'home', 'home'), ('Back', 'Back to previous …"
      ]
     },
     "metadata": {},
     "output_type": "display_data"
    },
    {
     "data": {
      "text/plain": [
       "[<matplotlib.lines.Line2D at 0x7fbc041f9ac0>]"
      ]
     },
     "execution_count": 13,
     "metadata": {},
     "output_type": "execute_result"
    }
   ],
   "source": [
    "%matplotlib widget\n",
    "plt.plot(spheroidal[15,:])"
   ]
  },
  {
   "cell_type": "code",
   "execution_count": 14,
   "id": "moral-organization",
   "metadata": {},
   "outputs": [],
   "source": [
    "from numpy import fft"
   ]
  },
  {
   "cell_type": "code",
   "execution_count": 15,
   "id": "amber-equity",
   "metadata": {},
   "outputs": [],
   "source": [
    "s = fft.fft2(spheroidal)\n",
    "s = fft.fftshift(s)\n",
    "s1 = np.zeros((grid_size, grid_size), dtype = np.complex64)\n",
    "support_size1 = (grid_size - subgrid_size) // 2\n",
    "support_size2 = (grid_size + subgrid_size) // 2\n",
    "s1[support_size1:support_size2, support_size1:support_size2] = s\n",
    "s1 = fft.ifftshift(s1)"
   ]
  },
  {
   "cell_type": "code",
   "execution_count": 16,
   "id": "humanitarian-prophet",
   "metadata": {},
   "outputs": [
    {
     "data": {
      "text/plain": [
       "array([[ 1.5199802e+02+0.j, -9.8025330e+01+0.j,  2.2604620e+01+0.j, ...,\n",
       "        -6.1333245e-01+0.j,  2.2604620e+01+0.j, -9.8025330e+01+0.j],\n",
       "       [-9.8025330e+01+0.j,  6.3217709e+01+0.j, -1.4577990e+01+0.j, ...,\n",
       "         3.9554533e-01+0.j, -1.4577990e+01+0.j,  6.3217709e+01+0.j],\n",
       "       [ 2.2604620e+01+0.j, -1.4577990e+01+0.j,  3.3616810e+00+0.j, ...,\n",
       "        -9.1212697e-02+0.j,  3.3616810e+00+0.j, -1.4577990e+01+0.j],\n",
       "       ...,\n",
       "       [-6.1333245e-01+0.j,  3.9554533e-01+0.j, -9.1212697e-02+0.j, ...,\n",
       "         2.4752594e-03+0.j, -9.1212697e-02+0.j,  3.9554533e-01+0.j],\n",
       "       [ 2.2604620e+01+0.j, -1.4577990e+01+0.j,  3.3616810e+00+0.j, ...,\n",
       "        -9.1212697e-02+0.j,  3.3616810e+00+0.j, -1.4577990e+01+0.j],\n",
       "       [-9.8025330e+01+0.j,  6.3217709e+01+0.j, -1.4577990e+01+0.j, ...,\n",
       "         3.9554533e-01+0.j, -1.4577990e+01+0.j,  6.3217709e+01+0.j]],\n",
       "      dtype=complex64)"
      ]
     },
     "execution_count": 16,
     "metadata": {},
     "output_type": "execute_result"
    }
   ],
   "source": [
    "s1"
   ]
  },
  {
   "cell_type": "code",
   "execution_count": 17,
   "id": "endless-guide",
   "metadata": {},
   "outputs": [
    {
     "data": {
      "application/vnd.jupyter.widget-view+json": {
       "model_id": "359db1bbd93141bf8274d8a4efbf9078",
       "version_major": 2,
       "version_minor": 0
      },
      "text/plain": [
       "Canvas(toolbar=Toolbar(toolitems=[('Home', 'Reset original view', 'home', 'home'), ('Back', 'Back to previous …"
      ]
     },
     "metadata": {},
     "output_type": "display_data"
    },
    {
     "data": {
      "text/plain": [
       "<matplotlib.image.AxesImage at 0x7fbc041dba00>"
      ]
     },
     "execution_count": 17,
     "metadata": {},
     "output_type": "execute_result"
    }
   ],
   "source": [
    "%matplotlib widget\n",
    "plt.imshow(fft.fftshift(s1).real)"
   ]
  },
  {
   "cell_type": "code",
   "execution_count": 18,
   "id": "split-relations",
   "metadata": {},
   "outputs": [],
   "source": [
    "s1_ft = fft.fft2(s1)"
   ]
  },
  {
   "cell_type": "code",
   "execution_count": 19,
   "id": "eastern-fitness",
   "metadata": {},
   "outputs": [
    {
     "data": {
      "text/plain": [
       "(1023.9991360018892-4.437335915374874e-14j)"
      ]
     },
     "execution_count": 19,
     "metadata": {},
     "output_type": "execute_result"
    }
   ],
   "source": [
    "s1_ft.max()"
   ]
  },
  {
   "cell_type": "code",
   "execution_count": 20,
   "id": "brazilian-judgment",
   "metadata": {},
   "outputs": [
    {
     "data": {
      "text/plain": [
       "(38.931152+0j)"
      ]
     },
     "execution_count": 20,
     "metadata": {},
     "output_type": "execute_result"
    }
   ],
   "source": [
    "grids[0].max()"
   ]
  },
  {
   "cell_type": "code",
   "execution_count": 21,
   "id": "continuous-atlantic",
   "metadata": {},
   "outputs": [],
   "source": [
    "s1_ift = fft.ifft2(s1)"
   ]
  },
  {
   "cell_type": "code",
   "execution_count": 22,
   "id": "little-posting",
   "metadata": {},
   "outputs": [
    {
     "data": {
      "application/vnd.jupyter.widget-view+json": {
       "model_id": "ea4595111bfb43b2ac48c2bdcb81335b",
       "version_major": 2,
       "version_minor": 0
      },
      "text/plain": [
       "Canvas(toolbar=Toolbar(toolitems=[('Home', 'Reset original view', 'home', 'home'), ('Back', 'Back to previous …"
      ]
     },
     "metadata": {},
     "output_type": "display_data"
    },
    {
     "data": {
      "text/plain": [
       "<matplotlib.image.AxesImage at 0x7fbc040f5c70>"
      ]
     },
     "execution_count": 22,
     "metadata": {},
     "output_type": "execute_result"
    }
   ],
   "source": [
    "%matplotlib widget\n",
    "plt.imshow(s1_ift.real)"
   ]
  },
  {
   "cell_type": "code",
   "execution_count": 23,
   "id": "conditional-throw",
   "metadata": {},
   "outputs": [
    {
     "data": {
      "text/plain": [
       "1.5999986500029516e-05"
      ]
     },
     "execution_count": 23,
     "metadata": {},
     "output_type": "execute_result"
    }
   ],
   "source": [
    "s1_ift.real.max()"
   ]
  },
  {
   "cell_type": "code",
   "execution_count": 24,
   "id": "standard-witch",
   "metadata": {},
   "outputs": [
    {
     "data": {
      "text/plain": [
       "2433199.074491605"
      ]
     },
     "execution_count": 24,
     "metadata": {},
     "output_type": "execute_result"
    }
   ],
   "source": [
    "grids[0].real.max() / s1_ift.real.max()"
   ]
  },
  {
   "cell_type": "code",
   "execution_count": 45,
   "id": "medium-crisis",
   "metadata": {},
   "outputs": [],
   "source": [
    "psf2 = (grids[0] / s1_ift.real).real\n",
    "psf2 /= psf2[4000, 4000]"
   ]
  },
  {
   "cell_type": "code",
   "execution_count": 26,
   "id": "wireless-environment",
   "metadata": {},
   "outputs": [
    {
     "data": {
      "text/plain": [
       "array([[ 1.75651725e-07,  6.13050864e-08, -8.54702166e-08, ...,\n",
       "        -1.47756969e-07, -1.13950957e-07,  6.87928244e-08],\n",
       "       [ 2.02770437e-07,  1.26084411e-07, -9.76356146e-09, ...,\n",
       "        -1.93638119e-07, -1.05078605e-07,  9.30180846e-08],\n",
       "       [ 2.09149141e-07,  1.61437545e-07,  3.87930409e-08, ...,\n",
       "        -1.13617636e-07,  9.60449491e-10,  1.24093181e-07],\n",
       "       ...,\n",
       "       [ 1.16744508e-07,  1.01363915e-07,  1.82688917e-08, ...,\n",
       "        -5.07421009e-08, -3.50565666e-08, -7.36415404e-08],\n",
       "       [ 2.15119531e-07,  1.44115567e-07, -2.84153487e-09, ...,\n",
       "        -5.76011678e-09,  1.83342711e-08,  5.57856078e-08],\n",
       "       [ 2.09704866e-07,  8.86948805e-08, -7.84405461e-08, ...,\n",
       "        -4.50606254e-08, -2.45972475e-08,  9.21577146e-08]])"
      ]
     },
     "execution_count": 26,
     "metadata": {},
     "output_type": "execute_result"
    }
   ],
   "source": [
    "psf2"
   ]
  },
  {
   "cell_type": "code",
   "execution_count": 48,
   "id": "ceramic-hammer",
   "metadata": {},
   "outputs": [
    {
     "data": {
      "application/vnd.jupyter.widget-view+json": {
       "model_id": "83099eb8be1d4866909958a8119bea16",
       "version_major": 2,
       "version_minor": 0
      },
      "text/plain": [
       "Canvas(toolbar=Toolbar(toolitems=[('Home', 'Reset original view', 'home', 'home'), ('Back', 'Back to previous …"
      ]
     },
     "metadata": {},
     "output_type": "display_data"
    },
    {
     "data": {
      "text/plain": [
       "<matplotlib.image.AxesImage at 0x7fbbffa16790>"
      ]
     },
     "execution_count": 48,
     "metadata": {},
     "output_type": "execute_result"
    }
   ],
   "source": [
    "%matplotlib widget\n",
    "plt.figure(figsize=(5, 5))\n",
    "plt.imshow(np.abs(psf2), norm=LogNorm(vmin=1e-6, vmax=1e-3))"
   ]
  },
  {
   "cell_type": "code",
   "execution_count": 43,
   "id": "promotional-genealogy",
   "metadata": {},
   "outputs": [
    {
     "data": {
      "text/plain": [
       "(0, 5228)"
      ]
     },
     "execution_count": 43,
     "metadata": {},
     "output_type": "execute_result"
    }
   ],
   "source": [
    "np.unravel_index(psf2.argmax(), shape=psf2.shape)"
   ]
  },
  {
   "cell_type": "code",
   "execution_count": null,
   "id": "humanitarian-console",
   "metadata": {},
   "outputs": [],
   "source": []
  }
 ],
 "metadata": {
  "kernelspec": {
   "display_name": "frank",
   "language": "python",
   "name": "frank"
  },
  "language_info": {
   "codemirror_mode": {
    "name": "ipython",
    "version": 3
   },
   "file_extension": ".py",
   "mimetype": "text/x-python",
   "name": "python",
   "nbconvert_exporter": "python",
   "pygments_lexer": "ipython3",
   "version": "3.8.5"
  }
 },
 "nbformat": 4,
 "nbformat_minor": 5
}
