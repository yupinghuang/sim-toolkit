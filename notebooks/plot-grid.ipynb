{
 "cells": [
  {
   "cell_type": "code",
   "execution_count": 1,
   "id": "signal-musical",
   "metadata": {},
   "outputs": [],
   "source": [
    "import numpy as np"
   ]
  },
  {
   "cell_type": "code",
   "execution_count": 2,
   "id": "skilled-regulation",
   "metadata": {},
   "outputs": [],
   "source": [
    "import matplotlib.pyplot as plt"
   ]
  },
  {
   "cell_type": "code",
   "execution_count": 3,
   "id": "logical-colleague",
   "metadata": {},
   "outputs": [],
   "source": [
    "grids = np.load('/fastpool/data/grid_post_fft.npy')"
   ]
  },
  {
   "cell_type": "code",
   "execution_count": 4,
   "id": "fresh-sender",
   "metadata": {},
   "outputs": [],
   "source": [
    "from matplotlib.colors import LogNorm"
   ]
  },
  {
   "cell_type": "code",
   "execution_count": 5,
   "id": "experienced-metallic",
   "metadata": {},
   "outputs": [],
   "source": [
    "psf1 = grids[0].real / grids[0].real.max()"
   ]
  },
  {
   "cell_type": "code",
   "execution_count": 6,
   "id": "spatial-giving",
   "metadata": {},
   "outputs": [
    {
     "data": {
      "text/plain": [
       "-0.0004886263"
      ]
     },
     "execution_count": 6,
     "metadata": {},
     "output_type": "execute_result"
    }
   ],
   "source": [
    "psf1.min()"
   ]
  },
  {
   "cell_type": "code",
   "execution_count": 26,
   "id": "double-anchor",
   "metadata": {},
   "outputs": [
    {
     "data": {
      "application/vnd.jupyter.widget-view+json": {
       "model_id": "56b053d3e8824f938b2eef5d9ef9130a",
       "version_major": 2,
       "version_minor": 0
      },
      "text/plain": [
       "Canvas(toolbar=Toolbar(toolitems=[('Home', 'Reset original view', 'home', 'home'), ('Back', 'Back to previous …"
      ]
     },
     "metadata": {},
     "output_type": "display_data"
    },
    {
     "data": {
      "text/plain": [
       "<matplotlib.image.AxesImage at 0x7f2b7b264cd0>"
      ]
     },
     "execution_count": 26,
     "metadata": {},
     "output_type": "execute_result"
    }
   ],
   "source": [
    "%matplotlib widget\n",
    "plt.figure(figsize=(5, 5))\n",
    "plt.imshow(np.abs(psf1), norm=LogNorm(vmin=1e-6, vmax=1e-3), extent=(-4000, 4000, -4000, 4000))"
   ]
  },
  {
   "cell_type": "code",
   "execution_count": 8,
   "id": "fitted-system",
   "metadata": {},
   "outputs": [
    {
     "data": {
      "text/plain": [
       "(4096, 4096)"
      ]
     },
     "execution_count": 8,
     "metadata": {},
     "output_type": "execute_result"
    }
   ],
   "source": [
    "np.unravel_index(psf1.argmax(), shape=psf1.shape)"
   ]
  },
  {
   "cell_type": "markdown",
   "id": "numerical-target",
   "metadata": {},
   "source": [
    "Question for Bram\n",
    "- How to divide out the FT of the kernel; other than...FFT out of the main code\n",
    "- Which spheroidal to use?\n",
    "- W term how?\n",
    "- weighting how?\n",
    "- which API to use?\n",
    "- Normalization"
   ]
  },
  {
   "cell_type": "code",
   "execution_count": 9,
   "id": "traditional-demand",
   "metadata": {},
   "outputs": [
    {
     "data": {
      "text/plain": [
       "(4, 8192, 8192)"
      ]
     },
     "execution_count": 9,
     "metadata": {},
     "output_type": "execute_result"
    }
   ],
   "source": [
    "grids.shape"
   ]
  },
  {
   "cell_type": "markdown",
   "id": "breathing-departure",
   "metadata": {},
   "source": [
    "Err what's the Fourier transform of a spheroidal?"
   ]
  },
  {
   "cell_type": "code",
   "execution_count": 10,
   "id": "scheduled-means",
   "metadata": {},
   "outputs": [
    {
     "name": "stdout",
     "output_type": "stream",
     "text": [
      "Error importing OpenCL: ('/opt/lib/libidg-opencl.so: cannot open shared object file: No such file or directory',)\n"
     ]
    }
   ],
   "source": [
    "from idg import util"
   ]
  },
  {
   "cell_type": "code",
   "execution_count": 31,
   "id": "intellectual-floating",
   "metadata": {},
   "outputs": [],
   "source": [
    "subgrid_size     = 32\n",
    "grid_size        = 8192\n",
    "spheroidal = util.get_example_spheroidal(subgrid_size)"
   ]
  },
  {
   "cell_type": "code",
   "execution_count": 32,
   "id": "afraid-papua",
   "metadata": {},
   "outputs": [
    {
     "data": {
      "application/vnd.jupyter.widget-view+json": {
       "model_id": "f64aff11effb49aca53e1ac9c5ad26a8",
       "version_major": 2,
       "version_minor": 0
      },
      "text/plain": [
       "Canvas(toolbar=Toolbar(toolitems=[('Home', 'Reset original view', 'home', 'home'), ('Back', 'Back to previous …"
      ]
     },
     "metadata": {},
     "output_type": "display_data"
    },
    {
     "data": {
      "text/plain": [
       "<matplotlib.image.AxesImage at 0x7f2b79966a30>"
      ]
     },
     "execution_count": 32,
     "metadata": {},
     "output_type": "execute_result"
    }
   ],
   "source": [
    "%matplotlib widget\n",
    "plt.imshow(spheroidal)"
   ]
  },
  {
   "cell_type": "code",
   "execution_count": 33,
   "id": "simplified-hydrogen",
   "metadata": {},
   "outputs": [
    {
     "data": {
      "application/vnd.jupyter.widget-view+json": {
       "model_id": "4724d676f35a448bb07bfb2ba08f2e2a",
       "version_major": 2,
       "version_minor": 0
      },
      "text/plain": [
       "Canvas(toolbar=Toolbar(toolitems=[('Home', 'Reset original view', 'home', 'home'), ('Back', 'Back to previous …"
      ]
     },
     "metadata": {},
     "output_type": "display_data"
    },
    {
     "data": {
      "text/plain": [
       "[<matplotlib.lines.Line2D at 0x7f2b798366a0>]"
      ]
     },
     "execution_count": 33,
     "metadata": {},
     "output_type": "execute_result"
    }
   ],
   "source": [
    "%matplotlib widget\n",
    "plt.plot(spheroidal[15,:])"
   ]
  },
  {
   "cell_type": "code",
   "execution_count": 34,
   "id": "lucky-village",
   "metadata": {},
   "outputs": [],
   "source": [
    "from numpy import fft"
   ]
  },
  {
   "cell_type": "code",
   "execution_count": 35,
   "id": "growing-edwards",
   "metadata": {},
   "outputs": [],
   "source": [
    "s = fft.fft2(spheroidal)\n",
    "s = fft.fftshift(s)\n",
    "s1 = np.zeros((grid_size, grid_size), dtype = np.complex64)\n",
    "support_size1 = (grid_size - subgrid_size) // 2\n",
    "support_size2 = (grid_size + subgrid_size) // 2\n",
    "s1[support_size1:support_size2, support_size1:support_size2] = s\n",
    "s1 = fft.ifftshift(s1)"
   ]
  },
  {
   "cell_type": "code",
   "execution_count": 36,
   "id": "specific-authority",
   "metadata": {},
   "outputs": [
    {
     "data": {
      "text/plain": [
       "array([[ 1.5199802e+02+0.j, -9.8025330e+01+0.j,  2.2604620e+01+0.j, ...,\n",
       "        -6.1333245e-01+0.j,  2.2604620e+01+0.j, -9.8025330e+01+0.j],\n",
       "       [-9.8025330e+01+0.j,  6.3217709e+01+0.j, -1.4577990e+01+0.j, ...,\n",
       "         3.9554533e-01+0.j, -1.4577990e+01+0.j,  6.3217709e+01+0.j],\n",
       "       [ 2.2604620e+01+0.j, -1.4577990e+01+0.j,  3.3616810e+00+0.j, ...,\n",
       "        -9.1212697e-02+0.j,  3.3616810e+00+0.j, -1.4577990e+01+0.j],\n",
       "       ...,\n",
       "       [-6.1333245e-01+0.j,  3.9554533e-01+0.j, -9.1212697e-02+0.j, ...,\n",
       "         2.4752594e-03+0.j, -9.1212697e-02+0.j,  3.9554533e-01+0.j],\n",
       "       [ 2.2604620e+01+0.j, -1.4577990e+01+0.j,  3.3616810e+00+0.j, ...,\n",
       "        -9.1212697e-02+0.j,  3.3616810e+00+0.j, -1.4577990e+01+0.j],\n",
       "       [-9.8025330e+01+0.j,  6.3217709e+01+0.j, -1.4577990e+01+0.j, ...,\n",
       "         3.9554533e-01+0.j, -1.4577990e+01+0.j,  6.3217709e+01+0.j]],\n",
       "      dtype=complex64)"
      ]
     },
     "execution_count": 36,
     "metadata": {},
     "output_type": "execute_result"
    }
   ],
   "source": [
    "s1"
   ]
  },
  {
   "cell_type": "code",
   "execution_count": 37,
   "id": "mysterious-mattress",
   "metadata": {},
   "outputs": [
    {
     "data": {
      "application/vnd.jupyter.widget-view+json": {
       "model_id": "d7e5481d87fd4f25bdc81aa3092b85d1",
       "version_major": 2,
       "version_minor": 0
      },
      "text/plain": [
       "Canvas(toolbar=Toolbar(toolitems=[('Home', 'Reset original view', 'home', 'home'), ('Back', 'Back to previous …"
      ]
     },
     "metadata": {},
     "output_type": "display_data"
    },
    {
     "data": {
      "text/plain": [
       "<matplotlib.image.AxesImage at 0x7f2b797e2cd0>"
      ]
     },
     "execution_count": 37,
     "metadata": {},
     "output_type": "execute_result"
    }
   ],
   "source": [
    "%matplotlib widget\n",
    "plt.imshow(fft.fftshift(s1).real)"
   ]
  },
  {
   "cell_type": "code",
   "execution_count": 38,
   "id": "derived-singles",
   "metadata": {},
   "outputs": [],
   "source": [
    "s1_ft = fft.fft2(s1)"
   ]
  },
  {
   "cell_type": "code",
   "execution_count": 39,
   "id": "aggregate-corner",
   "metadata": {},
   "outputs": [
    {
     "data": {
      "text/plain": [
       "(1023.9991360018892+0j)"
      ]
     },
     "execution_count": 39,
     "metadata": {},
     "output_type": "execute_result"
    }
   ],
   "source": [
    "s1_ft.max()"
   ]
  },
  {
   "cell_type": "code",
   "execution_count": 20,
   "id": "extended-saturday",
   "metadata": {},
   "outputs": [
    {
     "data": {
      "text/plain": [
       "(37.12764+0j)"
      ]
     },
     "execution_count": 20,
     "metadata": {},
     "output_type": "execute_result"
    }
   ],
   "source": [
    "grids[0].max()"
   ]
  },
  {
   "cell_type": "code",
   "execution_count": 43,
   "id": "expired-sister",
   "metadata": {},
   "outputs": [],
   "source": [
    "s1_ift = fft.ifft2(s1)"
   ]
  },
  {
   "cell_type": "code",
   "execution_count": 44,
   "id": "reflected-large",
   "metadata": {},
   "outputs": [
    {
     "data": {
      "application/vnd.jupyter.widget-view+json": {
       "model_id": "7e0c2cacf37640398b30824013426429",
       "version_major": 2,
       "version_minor": 0
      },
      "text/plain": [
       "Canvas(toolbar=Toolbar(toolitems=[('Home', 'Reset original view', 'home', 'home'), ('Back', 'Back to previous …"
      ]
     },
     "metadata": {},
     "output_type": "display_data"
    },
    {
     "data": {
      "text/plain": [
       "<matplotlib.image.AxesImage at 0x7f2b79779f40>"
      ]
     },
     "execution_count": 44,
     "metadata": {},
     "output_type": "execute_result"
    }
   ],
   "source": [
    "%matplotlib widget\n",
    "plt.imshow(s1_ift.real)"
   ]
  },
  {
   "cell_type": "code",
   "execution_count": 45,
   "id": "flying-eagle",
   "metadata": {},
   "outputs": [
    {
     "data": {
      "text/plain": [
       "1.5258776187924879e-05"
      ]
     },
     "execution_count": 45,
     "metadata": {},
     "output_type": "execute_result"
    }
   ],
   "source": [
    "s1_ift.real.max()"
   ]
  },
  {
   "cell_type": "code",
   "execution_count": 46,
   "id": "convertible-shade",
   "metadata": {},
   "outputs": [
    {
     "data": {
      "text/plain": [
       "2433199.053007212"
      ]
     },
     "execution_count": 46,
     "metadata": {},
     "output_type": "execute_result"
    }
   ],
   "source": [
    "grids[0].real.max() / s1_ift.real.max()"
   ]
  },
  {
   "cell_type": "code",
   "execution_count": 47,
   "id": "wicked-device",
   "metadata": {},
   "outputs": [],
   "source": [
    "psf2 = (grids[0] / s1_ift.real).real\n",
    "psf2 /= psf2[4096, 4096]"
   ]
  },
  {
   "cell_type": "code",
   "execution_count": null,
   "id": "sealed-crazy",
   "metadata": {},
   "outputs": [],
   "source": [
    "psf2"
   ]
  },
  {
   "cell_type": "code",
   "execution_count": 48,
   "id": "round-recall",
   "metadata": {},
   "outputs": [
    {
     "data": {
      "application/vnd.jupyter.widget-view+json": {
       "model_id": "207e8e9cab7246d5ab7ff13efa0f3453",
       "version_major": 2,
       "version_minor": 0
      },
      "text/plain": [
       "Canvas(toolbar=Toolbar(toolitems=[('Home', 'Reset original view', 'home', 'home'), ('Back', 'Back to previous …"
      ]
     },
     "metadata": {},
     "output_type": "display_data"
    },
    {
     "data": {
      "text/plain": [
       "<matplotlib.image.AxesImage at 0x7f2b796e3ac0>"
      ]
     },
     "execution_count": 48,
     "metadata": {},
     "output_type": "execute_result"
    }
   ],
   "source": [
    "%matplotlib widget\n",
    "plt.figure(figsize=(5, 5))\n",
    "plt.imshow(np.abs(psf2), norm=LogNorm(vmin=1e-6, vmax=1e-3))"
   ]
  },
  {
   "cell_type": "code",
   "execution_count": null,
   "id": "settled-baghdad",
   "metadata": {},
   "outputs": [],
   "source": [
    "np.unravel_index(psf2.argmax(), shape=psf2.shape)"
   ]
  },
  {
   "cell_type": "code",
   "execution_count": null,
   "id": "dying-spell",
   "metadata": {},
   "outputs": [],
   "source": []
  }
 ],
 "metadata": {
  "kernelspec": {
   "display_name": "frank",
   "language": "python",
   "name": "frank"
  },
  "language_info": {
   "codemirror_mode": {
    "name": "ipython",
    "version": 3
   },
   "file_extension": ".py",
   "mimetype": "text/x-python",
   "name": "python",
   "nbconvert_exporter": "python",
   "pygments_lexer": "ipython3",
   "version": "3.8.5"
  }
 },
 "nbformat": 4,
 "nbformat_minor": 5
}
