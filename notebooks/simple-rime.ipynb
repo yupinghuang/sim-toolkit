{
 "cells": [
  {
   "cell_type": "code",
   "execution_count": 1,
   "metadata": {},
   "outputs": [],
   "source": [
    "import africanus\n",
    "import dask"
   ]
  },
  {
   "cell_type": "code",
   "execution_count": 2,
   "metadata": {},
   "outputs": [],
   "source": [
    "from daskms import xds_from_ms\n",
    "dadasets = xds_from_ms('/lustre/yuping/2020-12-28-dsa2000-take2/test-gain/01.ms', chunks={'row': 400000})"
   ]
  },
  {
   "cell_type": "code",
   "execution_count": 3,
   "metadata": {},
   "outputs": [
    {
     "data": {
      "text/plain": [
       "[<xarray.Dataset>\n",
       " Dimensions:         (chan: 130, corr: 4, row: 8020012, uvw: 3)\n",
       " Coordinates:\n",
       "     ROWID           (row) int32 dask.array<chunksize=(400000,), meta=np.ndarray>\n",
       " Dimensions without coordinates: chan, corr, row, uvw\n",
       " Data variables:\n",
       "     ANTENNA1        (row) int32 dask.array<chunksize=(400000,), meta=np.ndarray>\n",
       "     ANTENNA2        (row) int32 dask.array<chunksize=(400000,), meta=np.ndarray>\n",
       "     ARRAY_ID        (row) int32 dask.array<chunksize=(400000,), meta=np.ndarray>\n",
       "     CORRECTED_DATA  (row, chan, corr) complex64 dask.array<chunksize=(400000, 130, 4), meta=np.ndarray>\n",
       "     DATA            (row, chan, corr) complex64 dask.array<chunksize=(400000, 130, 4), meta=np.ndarray>\n",
       "     EXPOSURE        (row) float64 dask.array<chunksize=(400000,), meta=np.ndarray>\n",
       "     FEED1           (row) int32 dask.array<chunksize=(400000,), meta=np.ndarray>\n",
       "     FEED2           (row) int32 dask.array<chunksize=(400000,), meta=np.ndarray>\n",
       "     FLAG            (row, chan, corr) bool dask.array<chunksize=(400000, 130, 4), meta=np.ndarray>\n",
       "     FLAG_ROW        (row) bool dask.array<chunksize=(400000,), meta=np.ndarray>\n",
       "     INTERVAL        (row) float64 dask.array<chunksize=(400000,), meta=np.ndarray>\n",
       "     MODEL_DATA      (row, chan, corr) complex64 dask.array<chunksize=(400000, 130, 4), meta=np.ndarray>\n",
       "     OBSERVATION_ID  (row) int32 dask.array<chunksize=(400000,), meta=np.ndarray>\n",
       "     PROCESSOR_ID    (row) int32 dask.array<chunksize=(400000,), meta=np.ndarray>\n",
       "     SCAN_NUMBER     (row) int32 dask.array<chunksize=(400000,), meta=np.ndarray>\n",
       "     SIGMA           (row, corr) float32 dask.array<chunksize=(400000, 4), meta=np.ndarray>\n",
       "     STATE_ID        (row) int32 dask.array<chunksize=(400000,), meta=np.ndarray>\n",
       "     TIME            (row) float64 dask.array<chunksize=(400000,), meta=np.ndarray>\n",
       "     TIME_CENTROID   (row) float64 dask.array<chunksize=(400000,), meta=np.ndarray>\n",
       "     UVW             (row, uvw) float64 dask.array<chunksize=(400000, 3), meta=np.ndarray>\n",
       "     WEIGHT          (row, corr) float32 dask.array<chunksize=(400000, 4), meta=np.ndarray>\n",
       " Attributes:\n",
       "     FIELD_ID:      0\n",
       "     DATA_DESC_ID:  0]"
      ]
     },
     "execution_count": 3,
     "metadata": {},
     "output_type": "execute_result"
    }
   ],
   "source": [
    "dadasets"
   ]
  },
  {
   "cell_type": "code",
   "execution_count": 4,
   "metadata": {},
   "outputs": [],
   "source": [
    "from daskms import xds_to_table"
   ]
  },
  {
   "cell_type": "code",
   "execution_count": 5,
   "metadata": {},
   "outputs": [],
   "source": [
    "dadasets[0].DATA.data = dadasets[0].MODEL_DATA.data\n",
    "write = xds_to_table(dadasets, '/lustre/yuping/2020-12-28-dsa2000-take2/test-gain/01.ms', 'DATA')"
   ]
  },
  {
   "cell_type": "code",
   "execution_count": 6,
   "metadata": {},
   "outputs": [
    {
     "name": "stdout",
     "output_type": "stream",
     "text": [
      "CPU times: user 34.2 s, sys: 2min 19s, total: 2min 53s\n",
      "Wall time: 6min 37s\n"
     ]
    },
    {
     "data": {
      "text/plain": [
       "(<xarray.Dataset>\n",
       " Dimensions:  (chan: 1, corr: 1, row: 21)\n",
       " Dimensions without coordinates: chan, corr, row\n",
       " Data variables:\n",
       "     DATA     (row, chan, corr) bool True True True True ... True True True True,)"
      ]
     },
     "execution_count": 6,
     "metadata": {},
     "output_type": "execute_result"
    }
   ],
   "source": [
    "%time dask.compute(write)"
   ]
  },
  {
   "cell_type": "code",
   "execution_count": 5,
   "metadata": {},
   "outputs": [],
   "source": [
    "import numpy as np"
   ]
  },
  {
   "cell_type": "code",
   "execution_count": 12,
   "metadata": {},
   "outputs": [
    {
     "name": "stdout",
     "output_type": "stream",
     "text": [
      "0 [1.] [False  True]\n",
      "1 [1.] [False  True]\n",
      "2 [1.] [False  True]\n",
      "3 [1.] [False]\n",
      "4 [1.] [False]\n",
      "5 [1.] [False]\n",
      "6 [1.] [False]\n",
      "7 [1.] [False]\n",
      "8 [1.] [False]\n",
      "9 [1.] [False]\n",
      "10 [1.] [False]\n",
      "11 [1.] [False]\n",
      "12 [1.] [False]\n",
      "13 [1.] [False  True]\n",
      "14 [1.] [False  True]\n"
     ]
    }
   ],
   "source": [
    "from casacore.tables import table\n",
    "\n",
    "for i in range(15):\n",
    "    with table(f'/lustre/yuping/2020-12-28-dsa2000-take2/130chan_60x15s_bright/{i:02d}.ms', ack=False) as t:\n",
    "        weights = t.getcol('WEIGHT', nrow=4000)\n",
    "        flags = t.getcol('FLAG', nrow=4000)\n",
    "        print(i, np.unique(weights), np.unique(flags))"
   ]
  },
  {
   "cell_type": "code",
   "execution_count": 13,
   "metadata": {},
   "outputs": [
    {
     "name": "stdout",
     "output_type": "stream",
     "text": [
      "0 [1.] [False  True]\n",
      "1 [1.] [False  True]\n",
      "2 [1.] [False  True]\n",
      "3 [1.] [False]\n",
      "4 [1.] [False]\n",
      "5 [1.] [False]\n",
      "6 [1.] [False]\n",
      "7 [1.] [False]\n",
      "8 [1.] [False]\n",
      "9 [1.] [False]\n",
      "10 [1.] [False]\n",
      "11 [1.] [False]\n",
      "12 [1.] [False]\n",
      "13 [1.] [False  True]\n",
      "14 [1.] [False  True]\n"
     ]
    }
   ],
   "source": [
    "for i in range(15):\n",
    "    with table(f'/lustre/yuping/2020-12-28-dsa2000-take2/130chan_60x15s_random/{i:02d}.ms', ack=False) as t:\n",
    "        weights = t.getcol('WEIGHT', nrow=4000)\n",
    "        flags = t.getcol('FLAG', nrow=4000)\n",
    "        print(i, np.unique(weights), np.unique(flags))"
   ]
  },
  {
   "cell_type": "code",
   "execution_count": 14,
   "metadata": {},
   "outputs": [
    {
     "name": "stdout",
     "output_type": "stream",
     "text": [
      "0 [1.] [False  True]\n",
      "1 [1.] [False  True]\n",
      "2 [1.] [False  True]\n",
      "3 [1.] [False]\n",
      "4 [1.] [False]\n",
      "5 [1.] [False]\n",
      "6 [1.] [False]\n",
      "7 [1.] [False]\n",
      "8 [1.] [False]\n",
      "9 [1.] [False]\n",
      "10 [1.] [False]\n",
      "11 [1.] [False]\n",
      "12 [1.] [False]\n",
      "13 [1.] [False  True]\n",
      "14 [1.] [False  True]\n"
     ]
    }
   ],
   "source": [
    "for i in range(15):\n",
    "    with table(f'/lustre/yuping/2020-12-28-dsa2000-take2/130chan_60x15s/{i:02d}.ms', ack=False) as t:\n",
    "        weights = t.getcol('WEIGHT', nrow=4000)\n",
    "        flags = t.getcol('FLAG', nrow=4000)\n",
    "        print(i, np.unique(weights), np.unique(flags))"
   ]
  },
  {
   "cell_type": "code",
   "execution_count": 15,
   "metadata": {},
   "outputs": [],
   "source": [
    "with table(f'/lustre/yuping/2020-12-28-dsa2000-take2/130chan_60x15s/00.ms', ack=False) as t:\n",
    "    flags = t.getcol('FLAG', nrow=4000)"
   ]
  },
  {
   "cell_type": "code",
   "execution_count": 21,
   "metadata": {},
   "outputs": [
    {
     "data": {
      "text/plain": [
       "(4000, 130, 4)"
      ]
     },
     "execution_count": 21,
     "metadata": {},
     "output_type": "execute_result"
    }
   ],
   "source": [
    "flags.shape"
   ]
  },
  {
   "cell_type": "code",
   "execution_count": 23,
   "metadata": {},
   "outputs": [],
   "source": [
    "s = np.sum(np.sum(flags,axis=-1), axis = -1)"
   ]
  },
  {
   "cell_type": "code",
   "execution_count": 24,
   "metadata": {},
   "outputs": [
    {
     "data": {
      "text/plain": [
       "array([  0,   0,   0, ..., 520, 520, 520])"
      ]
     },
     "execution_count": 24,
     "metadata": {},
     "output_type": "execute_result"
    }
   ],
   "source": [
    "s"
   ]
  },
  {
   "cell_type": "code",
   "execution_count": 25,
   "metadata": {},
   "outputs": [
    {
     "data": {
      "text/plain": [
       "(4000,)"
      ]
     },
     "execution_count": 25,
     "metadata": {},
     "output_type": "execute_result"
    }
   ],
   "source": [
    "s.shape"
   ]
  },
  {
   "cell_type": "code",
   "execution_count": 26,
   "metadata": {},
   "outputs": [
    {
     "data": {
      "text/plain": [
       "29"
      ]
     },
     "execution_count": 26,
     "metadata": {},
     "output_type": "execute_result"
    }
   ],
   "source": [
    "np.sum(s>0)"
   ]
  },
  {
   "cell_type": "code",
   "execution_count": 27,
   "metadata": {},
   "outputs": [],
   "source": [
    "t = table(f'/lustre/yuping/2020-12-28-dsa2000-take2/130chan_60x15s_random/00.ms', ack=False)"
   ]
  },
  {
   "cell_type": "code",
   "execution_count": 29,
   "metadata": {},
   "outputs": [],
   "source": [
    "dat = t.getcol('DATA', nrow=200)"
   ]
  },
  {
   "cell_type": "code",
   "execution_count": 30,
   "metadata": {},
   "outputs": [],
   "source": [
    "corrected = t.getcol('CORRECTED_DATA', nrow=200)"
   ]
  },
  {
   "cell_type": "code",
   "execution_count": 32,
   "metadata": {},
   "outputs": [
    {
     "data": {
      "text/plain": [
       "array([[[-5.8934093e-06-5.8964128e-05j,  0.0000000e+00+0.0000000e+00j,\n",
       "          0.0000000e+00+0.0000000e+00j, -5.8934093e-06-5.8964128e-05j],\n",
       "        [-5.9716403e-06-5.8895675e-05j,  0.0000000e+00+0.0000000e+00j,\n",
       "          0.0000000e+00+0.0000000e+00j, -5.9716403e-06-5.8895675e-05j],\n",
       "        [-6.0498714e-06-5.8826292e-05j,  0.0000000e+00+0.0000000e+00j,\n",
       "          0.0000000e+00+0.0000000e+00j, -6.0498714e-06-5.8826292e-05j],\n",
       "        ...,\n",
       "        [-1.6257167e-05-4.2994507e-05j,  0.0000000e+00+0.0000000e+00j,\n",
       "          0.0000000e+00+0.0000000e+00j, -1.6257167e-05-4.2994507e-05j],\n",
       "        [-1.6327016e-05-4.2839907e-05j,  0.0000000e+00+0.0000000e+00j,\n",
       "          0.0000000e+00+0.0000000e+00j, -1.6327016e-05-4.2839907e-05j],\n",
       "        [-1.6396865e-05-4.2685308e-05j,  0.0000000e+00+0.0000000e+00j,\n",
       "          0.0000000e+00+0.0000000e+00j, -1.6396865e-05-4.2685308e-05j]],\n",
       "\n",
       "       [[ 4.0978193e-07+1.3568613e-05j,  0.0000000e+00+0.0000000e+00j,\n",
       "          0.0000000e+00+0.0000000e+00j,  4.0978193e-07+1.3568613e-05j],\n",
       "        [ 4.1350722e-07+1.3555342e-05j,  0.0000000e+00+0.0000000e+00j,\n",
       "          0.0000000e+00+0.0000000e+00j,  4.1350722e-07+1.3555342e-05j],\n",
       "        [ 4.1723251e-07+1.3541896e-05j,  0.0000000e+00+0.0000000e+00j,\n",
       "          0.0000000e+00+0.0000000e+00j,  4.1723251e-07+1.3541896e-05j],\n",
       "        ...,\n",
       "        [ 1.0142103e-06+1.0790536e-05j,  0.0000000e+00+0.0000000e+00j,\n",
       "          0.0000000e+00+0.0000000e+00j,  1.0142103e-06+1.0790536e-05j],\n",
       "        [ 1.0170043e-06+1.0760734e-05j,  0.0000000e+00+0.0000000e+00j,\n",
       "          0.0000000e+00+0.0000000e+00j,  1.0170043e-06+1.0760734e-05j],\n",
       "        [ 1.0281801e-06+1.0723248e-05j,  0.0000000e+00+0.0000000e+00j,\n",
       "          0.0000000e+00+0.0000000e+00j,  1.0281801e-06+1.0723248e-05j]],\n",
       "\n",
       "       [[ 4.2263418e-06-6.0043065e-05j,  0.0000000e+00+0.0000000e+00j,\n",
       "          0.0000000e+00+0.0000000e+00j,  4.2263418e-06-6.0043065e-05j],\n",
       "        [ 4.2822212e-06-5.9972983e-05j,  0.0000000e+00+0.0000000e+00j,\n",
       "          0.0000000e+00+0.0000000e+00j,  4.2822212e-06-5.9972983e-05j],\n",
       "        [ 4.3362379e-06-5.9901970e-05j,  0.0000000e+00+0.0000000e+00j,\n",
       "          0.0000000e+00+0.0000000e+00j,  4.3362379e-06-5.9901970e-05j],\n",
       "        ...,\n",
       "        [ 9.3048438e-06-4.5178924e-05j,  0.0000000e+00+0.0000000e+00j,\n",
       "          0.0000000e+00+0.0000000e+00j,  9.3048438e-06-4.5178924e-05j],\n",
       "        [ 9.3253329e-06-4.5016641e-05j,  0.0000000e+00+0.0000000e+00j,\n",
       "          0.0000000e+00+0.0000000e+00j,  9.3253329e-06-4.5016641e-05j],\n",
       "        [ 9.3439594e-06-4.4853892e-05j,  0.0000000e+00+0.0000000e+00j,\n",
       "          0.0000000e+00+0.0000000e+00j,  9.3439594e-06-4.4853892e-05j]],\n",
       "\n",
       "       ...,\n",
       "\n",
       "       [[ 3.9691804e-07+1.1839438e-07j,  0.0000000e+00+0.0000000e+00j,\n",
       "          0.0000000e+00+0.0000000e+00j,  3.9691804e-07+1.1839438e-07j],\n",
       "        [ 3.3140532e-07+8.4284693e-08j,  0.0000000e+00+0.0000000e+00j,\n",
       "          0.0000000e+00+0.0000000e+00j,  3.3140532e-07+8.4284693e-08j],\n",
       "        [ 2.6487396e-07+5.3201802e-08j,  0.0000000e+00+0.0000000e+00j,\n",
       "          0.0000000e+00+0.0000000e+00j,  2.6487396e-07+5.3201802e-08j],\n",
       "        ...,\n",
       "        [ 1.0153744e-06+5.3411350e-07j,  0.0000000e+00+0.0000000e+00j,\n",
       "          0.0000000e+00+0.0000000e+00j,  1.0153744e-06+5.3411350e-07j],\n",
       "        [ 1.0279473e-06+4.8568472e-07j,  0.0000000e+00+0.0000000e+00j,\n",
       "          0.0000000e+00+0.0000000e+00j,  1.0279473e-06+4.8568472e-07j],\n",
       "        [ 1.0360964e-06+4.3492764e-07j,  0.0000000e+00+0.0000000e+00j,\n",
       "          0.0000000e+00+0.0000000e+00j,  1.0360964e-06+4.3492764e-07j]],\n",
       "\n",
       "       [[ 1.4904035e-06-5.0175004e-08j,  0.0000000e+00+0.0000000e+00j,\n",
       "          0.0000000e+00+0.0000000e+00j,  1.4904035e-06-5.0175004e-08j],\n",
       "        [ 1.0754738e-06-1.4639227e-07j,  0.0000000e+00+0.0000000e+00j,\n",
       "          0.0000000e+00+0.0000000e+00j,  1.0754738e-06-1.4639227e-07j],\n",
       "        [ 6.5821223e-07-2.1903543e-07j,  0.0000000e+00+0.0000000e+00j,\n",
       "          0.0000000e+00+0.0000000e+00j,  6.5821223e-07-2.1903543e-07j],\n",
       "        ...,\n",
       "        [ 7.1154791e-06-1.0891818e-06j,  0.0000000e+00+0.0000000e+00j,\n",
       "          0.0000000e+00+0.0000000e+00j,  7.1154791e-06-1.0891818e-06j],\n",
       "        [ 7.1277609e-06-1.4407560e-06j,  0.0000000e+00+0.0000000e+00j,\n",
       "          0.0000000e+00+0.0000000e+00j,  7.1277609e-06-1.4407560e-06j],\n",
       "        [ 7.1180984e-06-1.7858110e-06j,  0.0000000e+00+0.0000000e+00j,\n",
       "          0.0000000e+00+0.0000000e+00j,  7.1180984e-06-1.7858110e-06j]],\n",
       "\n",
       "       [[ 3.6951387e-06-4.0387968e-06j,  0.0000000e+00+0.0000000e+00j,\n",
       "          0.0000000e+00+0.0000000e+00j,  3.6951387e-06-4.0387968e-06j],\n",
       "        [ 2.9767398e-06-4.2587053e-06j,  0.0000000e+00+0.0000000e+00j,\n",
       "          0.0000000e+00+0.0000000e+00j,  2.9767398e-06-4.2587053e-06j],\n",
       "        [ 2.2386666e-06-4.4368207e-06j,  0.0000000e+00+0.0000000e+00j,\n",
       "          0.0000000e+00+0.0000000e+00j,  2.2386666e-06-4.4368207e-06j],\n",
       "        ...,\n",
       "        [ 2.4028122e-06+6.2895706e-06j,  0.0000000e+00+0.0000000e+00j,\n",
       "          0.0000000e+00+0.0000000e+00j,  2.4028122e-06+6.2895706e-06j],\n",
       "        [ 2.3376197e-06+5.7772268e-06j,  0.0000000e+00+0.0000000e+00j,\n",
       "          0.0000000e+00+0.0000000e+00j,  2.3376197e-06+5.7772268e-06j],\n",
       "        [ 2.2337772e-06+5.2702380e-06j,  0.0000000e+00+0.0000000e+00j,\n",
       "          0.0000000e+00+0.0000000e+00j,  2.2337772e-06+5.2702380e-06j]]],\n",
       "      dtype=complex64)"
      ]
     },
     "execution_count": 32,
     "metadata": {},
     "output_type": "execute_result"
    }
   ],
   "source": [
    "dat - corrected"
   ]
  },
  {
   "cell_type": "code",
   "execution_count": null,
   "metadata": {},
   "outputs": [],
   "source": []
  }
 ],
 "metadata": {
  "kernelspec": {
   "display_name": "Python 3",
   "language": "python",
   "name": "python3"
  },
  "language_info": {
   "codemirror_mode": {
    "name": "ipython",
    "version": 3
   },
   "file_extension": ".py",
   "mimetype": "text/x-python",
   "name": "python",
   "nbconvert_exporter": "python",
   "pygments_lexer": "ipython3",
   "version": "3.6.10"
  }
 },
 "nbformat": 4,
 "nbformat_minor": 4
}
