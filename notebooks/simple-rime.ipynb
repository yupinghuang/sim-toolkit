{
 "cells": [
  {
   "cell_type": "code",
   "execution_count": 1,
   "metadata": {},
   "outputs": [],
   "source": [
    "import africanus\n",
    "import dask"
   ]
  },
  {
   "cell_type": "code",
   "execution_count": 2,
   "metadata": {},
   "outputs": [],
   "source": [
    "from daskms import xds_from_ms\n",
    "dadasets = xds_from_ms('/lustre/yuping/2020-12-28-dsa2000-take2/test-gain/01.ms', chunks={'row': 400000})"
   ]
  },
  {
   "cell_type": "code",
   "execution_count": 3,
   "metadata": {},
   "outputs": [
    {
     "data": {
      "text/plain": [
       "[<xarray.Dataset>\n",
       " Dimensions:         (chan: 130, corr: 4, row: 8020012, uvw: 3)\n",
       " Coordinates:\n",
       "     ROWID           (row) int32 dask.array<chunksize=(400000,), meta=np.ndarray>\n",
       " Dimensions without coordinates: chan, corr, row, uvw\n",
       " Data variables:\n",
       "     ANTENNA1        (row) int32 dask.array<chunksize=(400000,), meta=np.ndarray>\n",
       "     ANTENNA2        (row) int32 dask.array<chunksize=(400000,), meta=np.ndarray>\n",
       "     ARRAY_ID        (row) int32 dask.array<chunksize=(400000,), meta=np.ndarray>\n",
       "     CORRECTED_DATA  (row, chan, corr) complex64 dask.array<chunksize=(400000, 130, 4), meta=np.ndarray>\n",
       "     DATA            (row, chan, corr) complex64 dask.array<chunksize=(400000, 130, 4), meta=np.ndarray>\n",
       "     EXPOSURE        (row) float64 dask.array<chunksize=(400000,), meta=np.ndarray>\n",
       "     FEED1           (row) int32 dask.array<chunksize=(400000,), meta=np.ndarray>\n",
       "     FEED2           (row) int32 dask.array<chunksize=(400000,), meta=np.ndarray>\n",
       "     FLAG            (row, chan, corr) bool dask.array<chunksize=(400000, 130, 4), meta=np.ndarray>\n",
       "     FLAG_ROW        (row) bool dask.array<chunksize=(400000,), meta=np.ndarray>\n",
       "     INTERVAL        (row) float64 dask.array<chunksize=(400000,), meta=np.ndarray>\n",
       "     MODEL_DATA      (row, chan, corr) complex64 dask.array<chunksize=(400000, 130, 4), meta=np.ndarray>\n",
       "     OBSERVATION_ID  (row) int32 dask.array<chunksize=(400000,), meta=np.ndarray>\n",
       "     PROCESSOR_ID    (row) int32 dask.array<chunksize=(400000,), meta=np.ndarray>\n",
       "     SCAN_NUMBER     (row) int32 dask.array<chunksize=(400000,), meta=np.ndarray>\n",
       "     SIGMA           (row, corr) float32 dask.array<chunksize=(400000, 4), meta=np.ndarray>\n",
       "     STATE_ID        (row) int32 dask.array<chunksize=(400000,), meta=np.ndarray>\n",
       "     TIME            (row) float64 dask.array<chunksize=(400000,), meta=np.ndarray>\n",
       "     TIME_CENTROID   (row) float64 dask.array<chunksize=(400000,), meta=np.ndarray>\n",
       "     UVW             (row, uvw) float64 dask.array<chunksize=(400000, 3), meta=np.ndarray>\n",
       "     WEIGHT          (row, corr) float32 dask.array<chunksize=(400000, 4), meta=np.ndarray>\n",
       " Attributes:\n",
       "     FIELD_ID:      0\n",
       "     DATA_DESC_ID:  0]"
      ]
     },
     "execution_count": 3,
     "metadata": {},
     "output_type": "execute_result"
    }
   ],
   "source": [
    "dadasets"
   ]
  },
  {
   "cell_type": "code",
   "execution_count": 4,
   "metadata": {},
   "outputs": [],
   "source": [
    "from daskms import xds_to_table"
   ]
  },
  {
   "cell_type": "code",
   "execution_count": 5,
   "metadata": {},
   "outputs": [],
   "source": [
    "dadasets[0].DATA.data = dadasets[0].MODEL_DATA.data\n",
    "write = xds_to_table(dadasets, '/lustre/yuping/2020-12-28-dsa2000-take2/test-gain/01.ms', 'DATA')"
   ]
  },
  {
   "cell_type": "code",
   "execution_count": 6,
   "metadata": {},
   "outputs": [
    {
     "name": "stdout",
     "output_type": "stream",
     "text": [
      "CPU times: user 34.2 s, sys: 2min 19s, total: 2min 53s\n",
      "Wall time: 6min 37s\n"
     ]
    },
    {
     "data": {
      "text/plain": [
       "(<xarray.Dataset>\n",
       " Dimensions:  (chan: 1, corr: 1, row: 21)\n",
       " Dimensions without coordinates: chan, corr, row\n",
       " Data variables:\n",
       "     DATA     (row, chan, corr) bool True True True True ... True True True True,)"
      ]
     },
     "execution_count": 6,
     "metadata": {},
     "output_type": "execute_result"
    }
   ],
   "source": [
    "%time dask.compute(write)"
   ]
  },
  {
   "cell_type": "code",
   "execution_count": null,
   "metadata": {},
   "outputs": [],
   "source": []
  }
 ],
 "metadata": {
  "kernelspec": {
   "display_name": "Python 3",
   "language": "python",
   "name": "python3"
  },
  "language_info": {
   "codemirror_mode": {
    "name": "ipython",
    "version": 3
   },
   "file_extension": ".py",
   "mimetype": "text/x-python",
   "name": "python",
   "nbconvert_exporter": "python",
   "pygments_lexer": "ipython3",
   "version": "3.6.10"
  }
 },
 "nbformat": 4,
 "nbformat_minor": 4
}
