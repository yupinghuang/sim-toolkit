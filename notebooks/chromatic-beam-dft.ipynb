{
 "cells": [
  {
   "cell_type": "code",
   "execution_count": 1,
   "id": "badf4270-771d-4774-ab6f-63621081dff1",
   "metadata": {},
   "outputs": [
    {
     "name": "stdout",
     "output_type": "stream",
     "text": [
      "Warning: ecCodes 2.21.0 or higher is recommended. You are running version 2.18.0\n"
     ]
    }
   ],
   "source": [
    "import africanus\n",
    "import casacore.tables.table as table\n",
    "\n",
    "import numpy as np\n",
    "import astropy.units as u\n",
    "from astropy import constants as const\n",
    "\n",
    "import matplotlib.pyplot as plt\n",
    "import numpy as np\n",
    "\n",
    "from scipy.special import jv\n",
    "\n",
    "from dask.diagnostics import ProgressBar\n",
    "import dask\n",
    "import dask.array as da\n",
    "from daskms import xds_from_ms, xds_from_table, xds_to_table\n",
    "from africanus.coordinates.dask import radec_to_lm\n",
    "from africanus.rime.dask import wsclean_predict\n",
    "from numpy.random import default_rng, Generator\n",
    "from typing import Optional\n",
    "\n",
    "from scipy.special import jv\n",
    "DIAM = 5\n",
    "c1=1.091\n",
    "c4=0.957\n",
    "c6=-0.139\n",
    "c11=0.445\n",
    "\n",
    "def vBz(theta, phi, m, n, lambd):\n",
    "    r = np.outer(DIAM / (2 * lambd), theta)\n",
    "    if m>= 0:\n",
    "        return jv(n+1, 2 * np.pi * r) * np.cos(m*phi) / (np.pi * r)\n",
    "    else:\n",
    "        return jv(n+1, 2 * np.pi * r) * np.sin(-m*phi) / (np.pi * r)"
   ]
  },
  {
   "cell_type": "code",
   "execution_count": 52,
   "id": "24161f2e-7330-415e-913e-3a304e703b26",
   "metadata": {},
   "outputs": [],
   "source": [
    "freq_arr = (np.arange(8000) * 162.5e3) + 0.7e9"
   ]
  },
  {
   "cell_type": "code",
   "execution_count": 53,
   "id": "c8b1bcbb-32cc-4c32-8a50-50d9a66cde16",
   "metadata": {},
   "outputs": [],
   "source": [
    "lambd_arr = 2.99792e8/freq_arr"
   ]
  },
  {
   "cell_type": "code",
   "execution_count": 54,
   "id": "a1faa152-30b2-45e4-a378-ddfdb2bdd25a",
   "metadata": {},
   "outputs": [],
   "source": [
    "from astropy.coordinates import SkyCoord\n",
    "import astropy.units as u\n",
    "pcenter = SkyCoord(ra = 0. * u.deg, dec=37.129833 * u.deg)\n",
    "src_coord = SkyCoord(ra = 4.02 * u.deg, dec=40.129833 * u.deg)"
   ]
  },
  {
   "cell_type": "code",
   "execution_count": 55,
   "id": "be4673ca-9977-43c2-835c-83e66e66defd",
   "metadata": {},
   "outputs": [
    {
     "data": {
      "text/latex": [
       "$45^\\circ04{}^\\prime09.63955134{}^{\\prime\\prime}$"
      ],
      "text/plain": [
       "<Angle 45.06934432 deg>"
      ]
     },
     "execution_count": 55,
     "metadata": {},
     "output_type": "execute_result"
    }
   ],
   "source": [
    "pcenter.position_angle(src_coord).to(u.deg)"
   ]
  },
  {
   "cell_type": "code",
   "execution_count": 56,
   "id": "a58c69a1-6937-4a50-a5e9-5c0a644fc908",
   "metadata": {},
   "outputs": [
    {
     "data": {
      "text/latex": [
       "$4^\\circ20{}^\\prime31.6301332{}^{\\prime\\prime}$"
      ],
      "text/plain": [
       "<Angle 4.34211948 deg>"
      ]
     },
     "execution_count": 56,
     "metadata": {},
     "output_type": "execute_result"
    }
   ],
   "source": [
    "pcenter.separation(src_coord)"
   ]
  },
  {
   "cell_type": "code",
   "execution_count": 57,
   "id": "b72e6050-d39d-40c5-9798-ab329810103d",
   "metadata": {},
   "outputs": [],
   "source": [
    "theta = pcenter.separation(src_coord).to(u.rad).value\n",
    "phi = pcenter.position_angle(src_coord).to(u.rad).value"
   ]
  },
  {
   "cell_type": "code",
   "execution_count": 58,
   "id": "b7affd0a-3394-44b6-92f2-2884e25289d6",
   "metadata": {},
   "outputs": [
    {
     "data": {
      "text/plain": [
       "0.0757842814661876"
      ]
     },
     "execution_count": 58,
     "metadata": {},
     "output_type": "execute_result"
    }
   ],
   "source": [
    "theta"
   ]
  },
  {
   "cell_type": "code",
   "execution_count": 59,
   "id": "0c6bfe84-454a-4fc0-bf93-742ff42ecc3d",
   "metadata": {},
   "outputs": [
    {
     "data": {
      "text/plain": [
       "0.7866084500958195"
      ]
     },
     "execution_count": 59,
     "metadata": {},
     "output_type": "execute_result"
    }
   ],
   "source": [
    "phi"
   ]
  },
  {
   "cell_type": "code",
   "execution_count": 109,
   "id": "1630e5f1-d71f-4f88-a537-9ec3883de602",
   "metadata": {},
   "outputs": [],
   "source": [
    "chromatic_beam = (c1 * vBz(theta, phi, 0, 0, lambd_arr) +\n",
    "             c4 * vBz(theta, phi, 0, 2, lambd_arr) +\n",
    "             c6 * vBz(theta, phi, 2, 2, lambd_arr) +\n",
    "             c11 * vBz(theta, phi, 2, 4, lambd_arr))"
   ]
  },
  {
   "cell_type": "code",
   "execution_count": 110,
   "id": "8482cdb7-e3f3-4f0b-a83d-174d9e436b5f",
   "metadata": {},
   "outputs": [
    {
     "data": {
      "text/plain": [
       "Text(0, 0.5, 'Voltage beam')"
      ]
     },
     "execution_count": 110,
     "metadata": {},
     "output_type": "execute_result"
    },
    {
     "data": {
      "image/png": "[encoded data removed]",
      "text/plain": [
       "<Figure size 432x288 with 1 Axes>"
      ]
     },
     "metadata": {
      "needs_background": "light"
     },
     "output_type": "display_data"
    }
   ],
   "source": [
    "plt.plot(freq_arr, chromatic_beam)\n",
    "plt.xlabel('Freq (Hz)')\n",
    "plt.ylabel('Voltage beam')"
   ]
  },
  {
   "cell_type": "code",
   "execution_count": 111,
   "id": "01bfea40-b427-472f-9246-cc25115a7b9b",
   "metadata": {},
   "outputs": [
    {
     "data": {
      "text/plain": [
       "Text(0, 0.5, 'Power beam')"
      ]
     },
     "execution_count": 111,
     "metadata": {},
     "output_type": "execute_result"
    },
    {
     "data": {
      "image/png": "[encoded data removed]",
      "text/plain": [
       "<Figure size 432x288 with 1 Axes>"
      ]
     },
     "metadata": {
      "needs_background": "light"
     },
     "output_type": "display_data"
    }
   ],
   "source": [
    "plt.plot(freq_arr, chromatic_beam**2)\n",
    "plt.yscale('log')\n",
    "plt.ylim([1e-6, 0.3])\n",
    "plt.xlabel('Freq (Hz)')\n",
    "plt.ylabel('Power beam')"
   ]
  },
  {
   "cell_type": "code",
   "execution_count": 71,
   "id": "4cf5e718-8a02-4795-9f62-aae3a39392c9",
   "metadata": {},
   "outputs": [
    {
     "data": {
      "text/plain": [
       "0.031300848633608026"
      ]
     },
     "execution_count": 71,
     "metadata": {},
     "output_type": "execute_result"
    }
   ],
   "source": [
    "np.mean(chromatic_beam**2)"
   ]
  },
  {
   "cell_type": "code",
   "execution_count": 68,
   "id": "42a90f53-e387-47a8-941c-b3c0b5cc9cd7",
   "metadata": {},
   "outputs": [
    {
     "name": "stdout",
     "output_type": "stream",
     "text": [
      "(2096128, 8000, 4)\n"
     ]
    }
   ],
   "source": [
    "from astropy.coordinates import SkyCoord\n",
    "import astropy.units as u\n",
    "pcenter = SkyCoord(ra = 0. * u.deg, dec=37.129833 * u.deg)\n",
    "src_coord = SkyCoord(ra = 4.02 * u.deg, dec=40.129833 * u.deg)\n",
    "src_lm = radec_to_lm(da.array([[src_coord.ra.to(u.radian).value, src_coord.dec.to(u.radian).value]]),\n",
    "                     phase_centre=da.array([pcenter.ra.to(u.radian).value, pcenter.dec.to(u.radian).value]))\n",
    "writes2 = []\n",
    "pol_mat = da.array([1, 0, 0, 1]) # this is not 0.5 because there's a factor of 2 in the RIME\n",
    "for xds in xds_from_ms('/fastpool/data/snapshot-beam-test/W-snapshot-8000chan.ms',\n",
    "                       columns=[\"UVW\", \"ANTENNA1\", \"ANTENNA2\", \"TIME\"],\n",
    "                       group_cols=[\"FIELD_ID\", \"DATA_DESC_ID\"],\n",
    "                       chunks={\"row\": 5e3}):\n",
    "    vis = wsclean_predict(xds['UVW'], src_lm, da.array(['POINT']), da.array([1.0]),\n",
    "                    da.array([[0]]), da.array([True]), da.array([1.35e9]), da.array([[0,0,0]]), freq_arr)\n",
    "    vis = vis * da.array(chromatic_beam**2).reshape((8000, 1)) * pol_mat \n",
    "    print(vis.shape)\n",
    "    # Assign visibilities to MODEL_DATA array on the dataset\n",
    "    xds = xds.assign(DATA=((\"row\", \"chan\", \"corr\"), vis))\n",
    "    # Create a write to the table\n",
    "    write2 = xds_to_table(xds, '/fastpool/data/snapshot-beam-test/W-snapshot-8000chan.ms', ['DATA'])\n",
    "    # Add to the list of writes\n",
    "    writes2.append(write2)"
   ]
  },
  {
   "cell_type": "code",
   "execution_count": 69,
   "id": "5f17b553-c9c3-44ed-a4a2-0d2b1e8d91b9",
   "metadata": {},
   "outputs": [],
   "source": [
    "from dask.diagnostics import Profiler, ResourceProfiler, CacheProfiler\n",
    "with Profiler() as prof, ResourceProfiler(dt=0.25) as rprof, CacheProfiler() as cprof:\n",
    "    dask.compute(writes2)"
   ]
  },
  {
   "cell_type": "markdown",
   "id": "0428cb6c-7645-4cb7-997a-9ca94da61e35",
   "metadata": {},
   "source": [
    "# Pointing errors\n",
    "I'll just wiggle the offsets a bit."
   ]
  },
  {
   "cell_type": "code",
   "execution_count": 124,
   "id": "4eff8e08-fa34-465c-9f72-a191b0085aad",
   "metadata": {},
   "outputs": [],
   "source": [
    "def get_pointing_error(error_rms_deg, size, generator: Optional[Generator]=None):\n",
    "    if not generator:\n",
    "        generator = default_rng()\n",
    "    # should be fine since 1 arcmin = 3e-4 rad\n",
    "    sep_deg = generator.normal(loc=0.0, scale=error_rms_deg/np.sqrt(2), size=size)\n",
    "    pa_deg = generator.normal(loc=0.0, scale=error_rms_deg/np.sqrt(2), size=size)\n",
    "    return sep_deg, pa_deg"
   ]
  },
  {
   "cell_type": "markdown",
   "id": "7d375a54-b9b7-46df-a371-139258dd42ed",
   "metadata": {},
   "source": [
    "## Plot 100 beams with pointing offsets"
   ]
  },
  {
   "cell_type": "markdown",
   "id": "fedf3803-50de-47f5-8f55-e28d4bb91b70",
   "metadata": {},
   "source": [
    "__The simple addition here is wrong except for the pointing center at (0, 0)__"
   ]
  },
  {
   "cell_type": "code",
   "execution_count": 125,
   "id": "eca158a7-7c82-44c4-a72d-4ee6823954f1",
   "metadata": {},
   "outputs": [],
   "source": [
    "sep_deg, pa_deg = get_pointing_error(0.00166667, 100)\n",
    "new_sep = theta + (sep_deg/57.2958)\n",
    "new_pa = phi + (pa_deg/57.2958)\n",
    "chromatic_beams = (c1 * vBz(new_sep, new_pa, 0, 0, lambd_arr) +\n",
    "             c4 * vBz(new_sep, new_pa, 0, 2, lambd_arr) +\n",
    "             c6 * vBz(new_sep, new_pa, 2, 2, lambd_arr) +\n",
    "             c11 * vBz(new_sep, new_pa, 2, 4, lambd_arr))"
   ]
  },
  {
   "cell_type": "code",
   "execution_count": 126,
   "id": "e3ce6e43-6488-499c-abb1-ccd1bf4f5a2f",
   "metadata": {},
   "outputs": [
    {
     "data": {
      "text/plain": [
       "array([-1.52243616e-05,  1.23419746e-05, -3.74310187e-06, -6.64337630e-06,\n",
       "       -2.10427732e-06, -1.94654139e-05,  1.02382068e-05,  6.82096029e-06,\n",
       "        2.55354956e-05, -2.99252348e-05,  3.81054862e-05, -9.53543595e-06,\n",
       "        1.03123577e-05, -9.68663921e-06, -1.41370084e-05,  8.27440822e-06,\n",
       "       -1.75299660e-05,  2.81834632e-05,  8.78416934e-06, -3.09133745e-05,\n",
       "       -1.08541346e-06,  1.41967590e-05,  1.88569568e-06, -7.17812257e-06,\n",
       "       -3.13992898e-05,  4.92948363e-06, -2.29603870e-06, -2.63890560e-05,\n",
       "       -6.05539493e-07, -7.06618554e-06,  6.90851331e-06,  2.31123739e-05,\n",
       "       -1.98659205e-05, -1.31601107e-05, -3.70543984e-05,  3.28449071e-06,\n",
       "       -3.08322734e-05,  4.04146076e-05, -1.54722951e-05,  1.22434279e-05,\n",
       "       -1.71247189e-05,  1.07061626e-05,  1.23236841e-05,  2.50346405e-05,\n",
       "        6.49822663e-06,  1.40340827e-05,  1.95918593e-06,  1.20476506e-05,\n",
       "        8.89025446e-06,  4.54964199e-05,  1.44141833e-06, -3.04516635e-05,\n",
       "        3.69954742e-07,  1.20366140e-05,  4.75227962e-05, -6.94211597e-06,\n",
       "        1.95785989e-05,  1.67433949e-05,  1.09948848e-05,  1.94505163e-05,\n",
       "       -1.11668450e-05, -6.90518471e-06,  1.04194996e-05, -5.55159701e-06,\n",
       "        3.53485409e-06,  1.82640755e-05, -2.86754500e-06,  4.02503048e-07,\n",
       "       -4.32391840e-05, -1.32313515e-05,  2.52519117e-06, -1.33414589e-06,\n",
       "        4.16760480e-06, -2.32925372e-05,  3.06321499e-05, -1.92235895e-05,\n",
       "       -8.67065253e-06,  3.85738318e-05,  3.81224308e-05,  4.42580467e-05,\n",
       "        3.73559339e-06, -2.21737516e-05,  1.16734412e-05, -1.79624939e-05,\n",
       "       -3.80079016e-06,  2.87832768e-07, -2.10708163e-05, -2.97479352e-05,\n",
       "        8.13494164e-06, -2.55083906e-06,  2.03498515e-05, -6.05935950e-06,\n",
       "       -8.77726162e-06,  5.28957927e-06, -3.24742858e-05,  1.71466957e-05,\n",
       "        3.90593730e-05, -3.77660277e-05, -1.07157467e-05, -2.29038576e-05])"
      ]
     },
     "execution_count": 126,
     "metadata": {},
     "output_type": "execute_result"
    }
   ],
   "source": [
    "new_pa - phi"
   ]
  },
  {
   "cell_type": "code",
   "execution_count": 127,
   "id": "1e008afe-a2e1-4aa6-92a8-c2e637e3310b",
   "metadata": {},
   "outputs": [
    {
     "data": {
      "text/plain": [
       "Text(0, 0.5, 'Voltage beam')"
      ]
     },
     "execution_count": 127,
     "metadata": {},
     "output_type": "execute_result"
    },
    {
     "data": {
      "image/png": "[encoded data removed]",
      "text/plain": [
       "<Figure size 432x288 with 1 Axes>"
      ]
     },
     "metadata": {
      "needs_background": "light"
     },
     "output_type": "display_data"
    }
   ],
   "source": [
    "plt.plot(freq_arr, chromatic_beams)\n",
    "plt.xlabel('Freq (Hz)')\n",
    "plt.ylabel('Voltage beam')"
   ]
  },
  {
   "cell_type": "code",
   "execution_count": 128,
   "id": "21f6315e-c888-41d6-9c47-290dbeb0a716",
   "metadata": {},
   "outputs": [
    {
     "data": {
      "text/plain": [
       "Text(0, 0.5, 'Power beam')"
      ]
     },
     "execution_count": 128,
     "metadata": {},
     "output_type": "execute_result"
    },
    {
     "data": {
      "image/png": "[encoded data removed]",
      "text/plain": [
       "<Figure size 432x288 with 1 Axes>"
      ]
     },
     "metadata": {
      "needs_background": "light"
     },
     "output_type": "display_data"
    }
   ],
   "source": [
    "plt.plot(freq_arr, chromatic_beams**2)\n",
    "plt.yscale('log')\n",
    "plt.ylim([1e-3, 0.3])\n",
    "plt.xlabel('Freq (Hz)')\n",
    "plt.ylabel('Power beam')"
   ]
  }
 ],
 "metadata": {
  "kernelspec": {
   "display_name": "frank",
   "language": "python",
   "name": "frank"
  },
  "language_info": {
   "codemirror_mode": {
    "name": "ipython",
    "version": 3
   },
   "file_extension": ".py",
   "mimetype": "text/x-python",
   "name": "python",
   "nbconvert_exporter": "python",
   "pygments_lexer": "ipython3",
   "version": "3.8.5"
  }
 },
 "nbformat": 4,
 "nbformat_minor": 5
}
